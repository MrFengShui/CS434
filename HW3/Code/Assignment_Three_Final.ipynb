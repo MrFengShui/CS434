{
 "cells": [
  {
   "cell_type": "code",
   "execution_count": null,
   "metadata": {
    "collapsed": true
   },
   "outputs": [],
   "source": [
    "# Plotting library\n",
    "import matplotlib.pyplot as plt\n",
    "import matplotlib.image as mpimg\n",
    "from matplotlib import gridspec\n",
    "\n",
    "# Numerical Library\n",
    "import numpy as np\n",
    "from numpy import genfromtxt\n",
    "import collections, math, operator\n",
    "\n",
    "from scipy.special import expit\n",
    "\n",
    "# Limit printout to 3 decimal places\n",
    "np.set_printoptions(precision=3,suppress=True)\n",
    "\n",
    "# Allows for printing inline for jupyter notebook\n",
    "%matplotlib inline "
   ]
  },
  {
   "cell_type": "code",
   "execution_count": null,
   "metadata": {
    "collapsed": false
   },
   "outputs": [],
   "source": [
    "def func_read_data():\n",
    "    raw_train = genfromtxt('knn_train.csv', delimiter=',')\n",
    "    raw_test = genfromtxt('knn_test.csv', delimiter=',')\n",
    "    return raw_train, raw_test\n",
    "\n",
    "def func_filter_data(src_data):\n",
    "    true_data = src_data[:,0]\n",
    "    feature_data = np.delete(src_data, 0, axis=1)\n",
    "#     src_data = np.delete(src_data, 0, axis=1)\n",
    "#     temp_data = np.ones(len(src_data))\n",
    "#     dummy_data = temp_data[np.newaxis].T\n",
    "#     feature_data = np.concatenate((dummy_data, src_data), axis=1)\n",
    "    return true_data, feature_data"
   ]
  },
  {
   "cell_type": "code",
   "execution_count": null,
   "metadata": {
    "collapsed": false
   },
   "outputs": [],
   "source": [
    "## Part 1\n",
    "Neigbor = collections.namedtuple('Neigbor', 'distance_data true_data')\n",
    "\n",
    "def func_norm_data(feature_data):\n",
    "    feature_max, feature_min = np.amax(feature_data), np.amin(feature_data)\n",
    "    feature_range, feature_avg = feature_max - feature_min, np.average(feature_data)\n",
    "    feature_norm = (feature_data - feature_avg) / feature_range\n",
    "    return np.absolute(feature_norm)\n",
    "\n",
    "def func_calc_dist(norm_data, test_data):\n",
    "    diff_sqrt = (test_data - norm_data) ** 2\n",
    "    distance_data = np.sqrt(np.sum(diff_sqrt, axis=1))\n",
    "    return distance_data\n",
    "\n",
    "def func_data_class(norm_data, true_data, test_data, k = 1):\n",
    "    distance_data = func_calc_dist(norm_data, test_data)\n",
    "    neigbor_data = map(Neigbor, distance_data, true_data)\n",
    "    neigbor_data = sorted(neigbor_data, key=operator.attrgetter('distance_data'))\n",
    "    neigbor_data_sum = np.sum([neigbor.true_data for neigbor in neigbor_data[:k]])\n",
    "    return -1 if neigbor_data_sum < 0 else 1\n",
    "\n",
    "def func_data_fmt(norm_data, true_data, k):\n",
    "    return map(lambda classifier: func_data_class(norm_data, true_data, classifier, k), norm_data)\n",
    "\n",
    "def func_calc_error(norm_data, true_data, k=1):\n",
    "    temp_data = func_data_fmt(norm_data, true_data, k)\n",
    "    return np.sum(np.abs(temp_data - true_data)) / float(2 * len(true_data))\n",
    "\n",
    "def func_calc_cross_valid_error(norm_data, true_data, k = 1):\n",
    "    error = 0\n",
    "    for i in range(len(norm_data)):\n",
    "        temp_data = func_data_class(norm_data, true_data, norm_data[i], k)\n",
    "        error += float(np.absolute(true_data[i] - temp_data) / 2)\n",
    "    return float(error / len(norm_data))\n",
    "        "
   ]
  },
  {
   "cell_type": "code",
   "execution_count": null,
   "metadata": {
    "collapsed": false
   },
   "outputs": [],
   "source": [
    "def func_test_data():\n",
    "    raw_train, raw_test = func_read_data()\n",
    "    true_data, feature_data = func_filter_data(raw_train)\n",
    "    print true_data, '\\n', feature_data\n",
    "    print len(true_data), ',', len(feature_data), ',', len(feature_data[0])\n",
    "    norm_data = func_norm_data(feature_data)\n",
    "    print norm_data, len(norm_data), len(norm_data[0])    \n",
    "\n",
    "def func_test_numpy():\n",
    "    data = [\n",
    "        [1, 2, 3],\n",
    "        [4, 5, 6],\n",
    "        [7, 8, 9]\n",
    "    ]\n",
    "    print np.sum(data, axis=0)\n",
    "    print map(lambda x: x ** 2, data[0])\n",
    "\n",
    "def func_plot_data(x_list, y_list, label):\n",
    "    \n",
    "    plt.plot(x_list, y_list, label=label)\n",
    "    plt.legend()\n",
    "    fig.suptitle(label + ' Error', fontsize=16)\n",
    "    plt.xlabel('K-Value', fontsize=16)\n",
    "    plt.ylabel('Error', fontsize=16)\n",
    "    \n",
    "if __name__ == '__main__':\n",
    "    raw_train, raw_test = func_read_data()\n",
    "    true_data, feature_data = func_filter_data(raw_train)\n",
    "    test_true_data, test_feature_data = func_filter_data(raw_test)\n",
    "    norm_data, test_norm_data = func_norm_data(feature_data), func_norm_data(test_feature_data)\n",
    "    k_list, train_error_list, cross_valid_list, test_error_list = range(1, 52, 2), [], [], []\n",
    "    \n",
    "    for k in k_list:\n",
    "        train_error = func_calc_error(norm_data, true_data, k)\n",
    "        train_error_list.append(train_error)\n",
    "        cross_valid = func_calc_cross_valid_error(norm_data, true_data, k)\n",
    "        cross_valid_list.append(cross_valid)\n",
    "        test_error = func_calc_error(test_norm_data, test_true_data, k)\n",
    "        test_error_list.append(test_error)\n",
    "\n",
    "    print 'Training:', train_error_list\n",
    "    print 'Cross Valid:', cross_valid_list\n",
    "    print 'Testing:', test_error_list\n",
    "    fig = plt.figure(figsize=(9,6))\n",
    "    func_plot_data(k_list, train_error_list, 'Training Data')\n",
    "    func_plot_data(k_list, cross_valid_list, 'Cross Validation')\n",
    "    func_plot_data(k_list, test_error_list, 'Testing Data')"
   ]
  },
  {
   "cell_type": "code",
   "execution_count": null,
   "metadata": {
    "collapsed": true
   },
   "outputs": [],
   "source": []
  }
 ],
 "metadata": {
  "kernelspec": {
   "display_name": "Python 2",
   "language": "python",
   "name": "python2"
  },
  "language_info": {
   "codemirror_mode": {
    "name": "ipython",
    "version": 2
   },
   "file_extension": ".py",
   "mimetype": "text/x-python",
   "name": "python",
   "nbconvert_exporter": "python",
   "pygments_lexer": "ipython2",
   "version": "2.7.13"
  }
 },
 "nbformat": 4,
 "nbformat_minor": 2
}
