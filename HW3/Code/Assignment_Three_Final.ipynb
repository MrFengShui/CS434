{
 "cells": [
  {
   "cell_type": "code",
   "execution_count": 154,
   "metadata": {
    "collapsed": true
   },
   "outputs": [],
   "source": [
    "# Plotting library\n",
    "import matplotlib.pyplot as plt\n",
    "import matplotlib.image as mpimg\n",
    "from matplotlib import gridspec\n",
    "\n",
    "# Numerical Library\n",
    "import numpy as np\n",
    "from numpy import genfromtxt\n",
    "import collections, math, operator\n",
    "\n",
    "from scipy.special import expit\n",
    "\n",
    "# Limit printout to 3 decimal places\n",
    "np.set_printoptions(precision=8,suppress=True)\n",
    "\n",
    "# Allows for printing inline for jupyter notebook\n",
    "%matplotlib inline "
   ]
  },
  {
   "cell_type": "code",
   "execution_count": 155,
   "metadata": {
    "collapsed": false
   },
   "outputs": [],
   "source": [
    "## Part 1\n",
    "DistanceFlagPair = collections.namedtuple('Distance', 'distance flag')\n",
    "\n",
    "class DataFormat():\n",
    "\n",
    "    def __init__(self, name):\n",
    "        self.name = name\n",
    "\n",
    "    def func_data_set(self):\n",
    "        src_data = genfromtxt(self.name, delimiter=',')\n",
    "        flag_data = src_data[:,0]\n",
    "        feature_data = np.delete(src_data, 0, axis=1)\n",
    "        return feature_data, flag_data\n",
    "        \n",
    "    def func_norm_data(self):\n",
    "        src_data = genfromtxt(self.name, delimiter=',')\n",
    "        flag_data, feature_data = src_data[:,0], np.delete(src_data, 0, axis=1)\n",
    "        feature_max, feature_min = np.amax(feature_data, axis=0), np.amin(feature_data, axis=0)\n",
    "        feature_range, feature_avg = feature_max - feature_min, np.average(feature_data)\n",
    "        norm_data = (feature_data - feature_avg) / feature_range\n",
    "        self.norm_data, self.flag_data = norm_data, flag_data\n",
    "        return norm_data, flag_data\n",
    "\n",
    "    def func_leave_out(self, index):\n",
    "        return self.norm_data[index], self.flag_data[index]\n",
    "\n",
    "class KNN():\n",
    "\n",
    "    def __init__(self, norm_data, flag_data):\n",
    "        self.norm_data, self.flag_data = norm_data, flag_data\n",
    "\n",
    "    def func_classify(self, test_data, k):\n",
    "        neigbor_pair = self.func_build_neigbor(test_data)\n",
    "        flag_sum = np.sum([neigbor.flag for neigbor in neigbor_pair[:k]])\n",
    "        return -1 if flag_sum < 0 else 1\n",
    "        \n",
    "    def func_build_neigbor(self, test_data):\n",
    "        diff_sqrt = (test_data - self.norm_data) ** 2\n",
    "        distance_data = np.sqrt(np.sum(diff_sqrt, axis=1))\n",
    "        neigbor_pair = []\n",
    "        for i in range(len(distance_data)):\n",
    "            neigbor = DistanceFlagPair(distance_data[i], self.flag_data[i])\n",
    "            neigbor_pair.append(neigbor)\n",
    "        return sorted(neigbor_pair, key=operator.attrgetter('distance'))        \n",
    "\n",
    "def func_calc_error(data, knn, k = 1):\n",
    "    temp_data = [knn.func_classify(classifier, k) for classifier in data.norm_data]\n",
    "    return np.sum(np.abs(temp_data - data.flag_data)) / float(2 * len(data.flag_data))\n",
    "    \n",
    "def func_cross_valid_error(data, knn, k = 1):\n",
    "    error = 0\n",
    "    for i in range(len(data.norm_data)):\n",
    "        norm, flag = data.func_leave_out(i)\n",
    "        flag_sum = knn.func_classify(norm, k)\n",
    "        flag_error = np.abs(flag - flag_sum) / 2\n",
    "        error += flag_error\n",
    "    return float(error) / (len(data.flag_data) + 1) "
   ]
  },
  {
   "cell_type": "code",
   "execution_count": 156,
   "metadata": {
    "collapsed": true
   },
   "outputs": [],
   "source": [
    "## Part 2\n",
    "class DecisionStump():\n",
    "    \n",
    "    def __init__(self, norm_data, flag_data):\n",
    "        self.norm_data, self.flag_data = norm_data, flag_data\n",
    "#         self.info_gain, self.feature_num, self.split_num = 0, 0, 0\n",
    "        \n",
    "    def info_gain(self, row, col):\n",
    "        pos, neg = func_count_one(self.flag_data)\n",
    "        init_entropy = func_calc_entropy(pos, neg)\n",
    "        row_count, col_count = self.norm_data.shape        \n",
    "        upper_pos_count, upper_neg_count = 0, 0\n",
    "        lower_pos_count, lower_neg_count = 0, 0        \n",
    "        for j, value in enumerate(self.norm_data.T[row]):\n",
    "            if value > col:\n",
    "                if self.flag_data[j] > 0: upper_pos_count += 1\n",
    "                else: upper_neg_count += 1\n",
    "            else:\n",
    "                if self.self.flag_data[j] > 0: lower_pos_count += 1\n",
    "                else: lower_neg_count += 1        \n",
    "        upper_entropy = func_calc_entropy(upper_pos_count, upper_neg_count)\n",
    "        upper_p = (float(upper_pos_count + upper_neg_count) / row_count) * upper_entropy\n",
    "        lower_entropy = func_calc_entropy(lower_pos_count, lower_neg_count)\n",
    "        lower_p = ((float)(lower_pos_count + upper_neg_count) / row_count) * lower_entropy \n",
    "        return init_entropy - upper_p - lower_p\n",
    "\n",
    "def func_count_one(flag_data):\n",
    "    pos, neg = 0, 0\n",
    "    for data in flag_data:\n",
    "        if data == 1: pos += 1\n",
    "        if data == -1: neg += 1\n",
    "    return pos, neg\n",
    "        \n",
    "def func_calc_entropy(pos, neg):\n",
    "    lhs_prob, rhs_prob = float(pos) / (pos + neg), float(neg) / (pos + neg)\n",
    "    entropy = lhs_prob * np.log(lhs_prob) + rhs_prob * np.log(rhs_prob)\n",
    "    return -entropy"
   ]
  },
  {
   "cell_type": "code",
   "execution_count": 157,
   "metadata": {
    "collapsed": false
   },
   "outputs": [
    {
     "name": "stdout",
     "output_type": "stream",
     "text": [
      "101 183 0.650864596714\n",
      "284 30\n"
     ]
    }
   ],
   "source": [
    "def func_plot_data(fig, x_list, y_list, label, title='Training-Testing Data'):\n",
    "    plt.plot(x_list, y_list, label=label)\n",
    "    plt.legend()\n",
    "    fig.suptitle(title + ' Error', fontsize=16)\n",
    "    plt.xlabel('K-Value', fontsize=16)\n",
    "    plt.ylabel('Error', fontsize=16)\n",
    "\n",
    "def func_part_one():\n",
    "    train_data, test_data = DataFormat('knn_train.csv'), DataFormat('knn_test.csv')\n",
    "    train_norm_data, train_flag_data = train_data.func_norm_data()\n",
    "    test_norm_data, test_flag_data = test_data.func_norm_data()\n",
    "    knn_train, knn_test = KNN(train_norm_data, train_flag_data), KNN(test_norm_data, test_flag_data)\n",
    "    k_list, train_error_list, cross_valid_list, test_error_list = range(1, 52, 2), [], [], []\n",
    "    \n",
    "    for k in k_list:\n",
    "        train_error = func_calc_error(train_data, knn_train, k)\n",
    "        train_error_list.append(train_error)\n",
    "        cross_valid = func_cross_valid_error(train_data, knn_train, k)\n",
    "        cross_valid_list.append(cross_valid)\n",
    "        test_error = func_calc_error(test_data, knn_test, k)\n",
    "        test_error_list.append(test_error)\n",
    "\n",
    "    fig = plt.figure(figsize=(9,6))\n",
    "    print 'Training:', train_error_list\n",
    "    func_plot_data(fig, k_list, train_error_list, 'Training Data')\n",
    "    print 'Testing:', test_error_list    \n",
    "    func_plot_data(fig, k_list, test_error_list, 'Testing Data')\n",
    "    fig = plt.figure(figsize=(9,6))\n",
    "    print 'Cross Valid:', cross_valid_list\n",
    "    func_plot_data(fig, k_list, cross_valid_list, 'Cross Validation', 'Cross Validation')\n",
    "\n",
    "def func_part_two():\n",
    "    train_data = DataFormat('knn_train.csv')\n",
    "    train_norm_data, train_flag_data = train_data.func_norm_data()\n",
    "    pos, neg = func_count_one(train_flag_data)\n",
    "    print pos, neg, func_calc_entropy(pos, neg)\n",
    "    stump = DecisionStump(train_norm_data, train_flag_data)\n",
    "    stump.info_gain()\n",
    "    \n",
    "if __name__ == '__main__':\n",
    "#     func_part_one()\n",
    "    func_part_two()"
   ]
  },
  {
   "cell_type": "code",
   "execution_count": null,
   "metadata": {
    "collapsed": true
   },
   "outputs": [],
   "source": []
  }
 ],
 "metadata": {
  "kernelspec": {
   "display_name": "Python 2",
   "language": "python",
   "name": "python2"
  },
  "language_info": {
   "codemirror_mode": {
    "name": "ipython",
    "version": 2
   },
   "file_extension": ".py",
   "mimetype": "text/x-python",
   "name": "python",
   "nbconvert_exporter": "python",
   "pygments_lexer": "ipython2",
   "version": "2.7.13"
  }
 },
 "nbformat": 4,
 "nbformat_minor": 2
}
