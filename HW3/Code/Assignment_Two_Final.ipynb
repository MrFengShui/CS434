{
 "cells": [
  {
   "cell_type": "code",
   "execution_count": 1,
   "metadata": {
    "collapsed": true
   },
   "outputs": [],
   "source": [
    "# Plotting library\n",
    "import matplotlib.pyplot as plt\n",
    "import matplotlib.image as mpimg\n",
    "from matplotlib import gridspec\n",
    "\n",
    "# Numerical Library\n",
    "import numpy as np\n",
    "from numpy import genfromtxt\n",
    "import math"
   ]
  },
  {
   "cell_type": "code",
   "execution_count": 20,
   "metadata": {
    "collapsed": false
   },
   "outputs": [
    {
     "name": "stdout",
     "output_type": "stream",
     "text": [
      "[ 1.  1. -1. -1. -1. -1. -1. -1. -1. -1.  1.  1. -1. -1.  1. -1. -1.  1.\n",
      "  1. -1. -1.  1. -1. -1.  1.  1. -1. -1. -1. -1.  1. -1. -1. -1.  1. -1.\n",
      " -1. -1.  1. -1. -1. -1. -1. -1.  1. -1.  1.  1.  1. -1.  1.  1. -1. -1.\n",
      "  1. -1. -1. -1. -1.  1. -1.  1. -1. -1.  1. -1.  1. -1. -1.  1. -1. -1.\n",
      " -1.  1. -1.  1. -1. -1. -1. -1. -1. -1.  1.  1. -1.  1.  1. -1. -1. -1.\n",
      " -1. -1. -1.  1. -1.  1. -1. -1.  1. -1. -1. -1.  1.  1. -1. -1. -1.  1.\n",
      " -1. -1.  1. -1. -1. -1.  1.  1. -1.  1. -1. -1.  1. -1. -1.  1. -1.  1.\n",
      "  1. -1. -1. -1.  1. -1. -1. -1.  1. -1.  1.  1.  1. -1. -1. -1. -1.  1.\n",
      " -1. -1. -1.  1.  1. -1. -1. -1. -1. -1.  1. -1. -1. -1. -1. -1. -1.  1.\n",
      "  1. -1.  1. -1. -1. -1.  1.  1.  1. -1. -1. -1. -1. -1. -1. -1. -1.  1.\n",
      " -1. -1.  1. -1.  1. -1.  1.  1.  1.  1. -1. -1.  1. -1.  1. -1. -1. -1.\n",
      " -1.  1. -1. -1.  1.  1.  1. -1. -1. -1. -1.  1. -1.  1. -1.  1.  1.  1.\n",
      "  1.  1.  1. -1.  1.  1. -1.  1. -1. -1. -1. -1.  1. -1. -1. -1. -1.  1.\n",
      " -1.  1. -1. -1. -1. -1. -1. -1.  1. -1. -1. -1. -1. -1.  1.  1.  1. -1.\n",
      " -1. -1. -1.  1. -1.  1.  1.  1. -1. -1. -1. -1. -1. -1.  1. -1. -1. -1.\n",
      "  1. -1. -1. -1. -1. -1. -1.  1. -1.  1.  1. -1. -1.  1.] 284 \n",
      "[[  1.       19.59     25.      ...,   0.1466    0.2293    0.06091]\n",
      " [  1.       24.25     20.2     ...,   0.2248    0.3222    0.08009]\n",
      " [  1.       14.8      17.66    ...,   0.08308   0.36      0.07285]\n",
      " ..., \n",
      " [  1.        9.72     18.22    ...,   0.        0.1909    0.06559]\n",
      " [  1.       13.2      17.43    ...,   0.0497    0.2767    0.07198]\n",
      " [  1.       19.45     19.33    ...,   0.1999    0.3379    0.0895 ]] 284 31\n"
     ]
    }
   ],
   "source": [
    "def func_read_data():\n",
    "    raw_train = genfromtxt('knn_train.csv', delimiter=',')\n",
    "    raw_test = genfromtxt('knn_test.csv', delimiter=',')\n",
    "    return raw_train, raw_test\n",
    "\n",
    "def func_filter_data(src_data):\n",
    "    true_data = src_data[:,0]\n",
    "    src_data = np.delete(src_data, 0, axis=1)\n",
    "    temp_data = np.ones(len(src_data))\n",
    "    dummy_data = temp_data[np.newaxis].T\n",
    "    feature_data = np.concatenate((dummy_data, src_data), axis=1)\n",
    "    return true_data, feature_data\n",
    "\n",
    "raw_train, raw_test = func_read_data()\n",
    "# print len(raw_train)\n",
    "true_data, feature_data = func_filter_data(raw_train)\n",
    "print true_data, len(true_data), '\\n', feature_data, len(feature_data), len(feature_data[0])"
   ]
  },
  {
   "cell_type": "code",
   "execution_count": null,
   "metadata": {
    "collapsed": true
   },
   "outputs": [],
   "source": []
  }
 ],
 "metadata": {
  "kernelspec": {
   "display_name": "Python 2",
   "language": "python",
   "name": "python2"
  },
  "language_info": {
   "codemirror_mode": {
    "name": "ipython",
    "version": 2
   },
   "file_extension": ".py",
   "mimetype": "text/x-python",
   "name": "python",
   "nbconvert_exporter": "python",
   "pygments_lexer": "ipython2",
   "version": "2.7.13"
  }
 },
 "nbformat": 4,
 "nbformat_minor": 2
}
