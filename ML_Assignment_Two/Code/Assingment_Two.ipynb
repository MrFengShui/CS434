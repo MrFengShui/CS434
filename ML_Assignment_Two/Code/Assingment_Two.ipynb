{
 "cells": [
  {
   "cell_type": "code",
   "execution_count": 163,
   "metadata": {
    "collapsed": true
   },
   "outputs": [],
   "source": [
    "# Plotting library\n",
    "import matplotlib.pyplot as plt\n",
    "import matplotlib.image as mpimg\n",
    "from matplotlib import gridspec\n",
    "\n",
    "# Numerical Library\n",
    "import numpy as np\n",
    "from numpy import genfromtxt\n",
    "from numpy.linalg import inv\n",
    "\n",
    "# Image manipulation library\n",
    "from PIL import Image\n",
    "\n",
    "# Limit printout to 3 decimal places\n",
    "np.set_printoptions(precision=3,suppress=True)\n",
    "\n",
    "# Allows for printing inline for jupyter notebook\n",
    "%matplotlib inline \n",
    "\n",
    "# http://scikit-learn.org/stable/tutorial/machine_learning_map/"
   ]
  },
  {
   "cell_type": "code",
   "execution_count": 164,
   "metadata": {
    "collapsed": true
   },
   "outputs": [],
   "source": [
    "# Load datasets and store in ndarray\n",
    "raw_train = genfromtxt('usps-4-9-train.csv', delimiter=',')\n",
    "raw_test = genfromtxt('usps-4-9-test.csv', delimiter=',')"
   ]
  },
  {
   "cell_type": "code",
   "execution_count": 165,
   "metadata": {
    "collapsed": false
   },
   "outputs": [
    {
     "name": "stdout",
     "output_type": "stream",
     "text": [
      "[[ 0.]\n",
      " [ 0.]\n",
      " [ 0.]\n",
      " ..., \n",
      " [ 1.]\n",
      " [ 1.]\n",
      " [ 1.]]\n"
     ]
    }
   ],
   "source": [
    "print raw_train[:,256][np.newaxis].T"
   ]
  },
  {
   "cell_type": "code",
   "execution_count": 166,
   "metadata": {
    "collapsed": true
   },
   "outputs": [],
   "source": [
    "# Split off known target values\n",
    "y_train = raw_train[:,256]\n",
    "y_test = raw_test[:,256]\n",
    "\n",
    "# Add dimension to y_train and transpose\n",
    "y_train = y_train[np.newaxis].T\n",
    "y_test = y_test[np.newaxis].T\n",
    "\n",
    "# Remove column 256 from X\n",
    "raw_train = np.delete(raw_train, 256, axis=1)\n",
    "raw_test = np.delete(raw_test, 256, axis=1)\n",
    "\n",
    "## NOT COMPLETELY SURE WE NEED DUMMY ONES\n",
    "\n",
    "# Function to create array of dummy ones and returned \n",
    "# columnar vector\n",
    "def make_dummy_vector(target):\n",
    "   temp = np.ones(len(target))\n",
    "   return temp[np.newaxis].T\n",
    "\n",
    "# Create dummy 1 values\n",
    "dummy_train = make_dummy_vector(raw_train)\n",
    "dummy_test = make_dummy_vector(raw_test)\n",
    "\n",
    "# Add dummy data to feature matrices\n",
    "X_train = np.concatenate((dummy_train, raw_train), axis=1)\n",
    "X_test = np.concatenate((dummy_test, raw_test), axis=1)\n",
    "\n",
    "\n",
    "# In case we don't need dummy ones\n",
    "#X_train = raw_train\n",
    "#X_test = raw_test"
   ]
  },
  {
   "cell_type": "code",
   "execution_count": 167,
   "metadata": {
    "collapsed": false
   },
   "outputs": [
    {
     "name": "stdout",
     "output_type": "stream",
     "text": [
      "[   0.    0.    0.    0.    0.    0.    0.    0.   11.  133.  195.    7.\n",
      "    0.    0.    0.    0.    0.    0.    0.    0.    0.    0.   12.  120.\n",
      "  220.  255.  149.    2.    0.    0.    0.    0.    0.    0.    0.   20.\n",
      "  113.  172.  239.  255.  255.   72.    0.    0.    0.    0.    0.    0.\n",
      "    0.    0.  122.  255.  253.  174.  105.  155.  255.    3.    0.    0.\n",
      "    0.    0.    0.    0.    0.   73.  243.  183.   17.    0.    0.  144.\n",
      "  244.    2.    0.    0.    0.    0.   30.   28.    0.    0.    0.    0.\n",
      "    0.    0.    0.   98.  201.    0.    0.   15.  102.  179.  255.  174.\n",
      "    0.    0.    0.    0.    0.    0.    0.  155.  212.   90.  167.  253.\n",
      "  255.  206.   94.   16.    0.    0.    0.    0.    0.    0.   25.  223.\n",
      "  255.  239.  139.   64.   43.    0.    0.    0.    0.    0.    0.    0.\n",
      "   37.  154.  251.  255.  166.   12.    0.    0.    0.    0.    0.    0.\n",
      "    0.   22.  116.  205.  252.  173.   97.  255.  109.    0.    0.    0.\n",
      "    0.    0.    0.    0.   90.  248.  198.   93.   14.    0.   16.  255.\n",
      "   29.    0.    0.    0.    0.    0.    0.    0.   62.   29.    0.    0.\n",
      "    0.    0.   61.  249.   23.    0.    0.    0.    0.    0.    0.    0.\n",
      "    0.    0.    0.    0.    0.    0.  119.  203.    0.    0.    0.    0.\n",
      "    0.    0.    0.    0.    0.    0.    0.    0.    0.    0.  177.  180.\n",
      "    0.    0.    0.    0.    0.    0.    0.    0.    0.    0.    0.    0.\n",
      "    0.    7.  238.  134.    0.    0.    0.    0.    0.    0.    0.    0.\n",
      "    0.    0.    0.    0.    0.   14.  148.   32.    0.    0.    0.    0.\n",
      "    0.    0.    0.    0.]\n"
     ]
    }
   ],
   "source": [
    "# Data for a single sample\n",
    "print raw_train[0]"
   ]
  },
  {
   "cell_type": "code",
   "execution_count": 168,
   "metadata": {
    "collapsed": true
   },
   "outputs": [],
   "source": [
    "## This is not completely working, we need to figure out why the image seems upside down ##\n",
    "\n",
    "# Displays a single sample for context\n",
    "def visualize_sample(data,target):\n",
    "    temp = np.reshape(data[target],(16,16))\n",
    "    img = Image.fromarray(temp)\n",
    "    img.show()\n",
    "    \n",
    "# Example call to function\n",
    "visualize_sample(raw_train, 1200)"
   ]
  },
  {
   "cell_type": "code",
   "execution_count": 169,
   "metadata": {
    "collapsed": true
   },
   "outputs": [],
   "source": [
    "# NOT YET NEEDED, INCORRECT FIRST ATTEMPT AT ASSIGNMENT\n",
    "\n",
    "# Compute optimal weight vector w = (X^T * X)^-1 (X^T * Y)\n",
    "# def calc_w_vector(X, y):\n",
    "#     return np.dot(inv(np.dot(X.T,X)), np.dot(X.T,y))\n",
    "\n",
    "# w_train = calc_w_vector(X_train,y_train)\n",
    "# w_test = calc_w_vector(X_test,y_test)\n",
    "\n",
    "# Computer linear regression function\n",
    "# target_function_train = np.dot(X_test,w_test)\n",
    "# target_function_test = np.dot(X_test,w_test)\n",
    "\n",
    "# # Plot the values gathered above\n",
    "# fig = plt.figure(figsize=(9,6))\n",
    "# plt.plot(target_function_train)\n",
    "# fig.suptitle('Linear Regression Function for X_train', fontsize=16)\n",
    "# plt.xlabel('Sample number', fontsize=16)\n",
    "# plt.ylabel('Intensity', fontsize=16)\n",
    "\n",
    "# fig = plt.figure(figsize=(9,6))\n",
    "# plt.plot(target_function_test)\n",
    "# fig.suptitle('Linear Regression Function for X_test', fontsize=16)\n",
    "# plt.xlabel('Sample number', fontsize=16)\n",
    "# plt.ylabel('Intensity', fontsize=16)\n",
    "\n",
    "# sigmoid_train = calc_sigmoid(target_function_train)\n",
    "# sigmoid_test = calc_sigmoid(target_function_test)\n",
    "\n",
    "# # Plot the values gathered above\n",
    "# fig = plt.figure(figsize=(9,6))\n",
    "# plt.plot(sigmoid_train)\n",
    "# fig.suptitle('Sigmoid Function for X_train', fontsize=16)\n",
    "# plt.xlabel('Sample number', fontsize=16)\n",
    "# plt.ylabel('Intensity', fontsize=16)\n",
    "\n",
    "# fig = plt.figure(figsize=(9,6))\n",
    "# plt.plot(sigmoid_test)\n",
    "# fig.suptitle('Sigmoid Function for X_test', fontsize=16)\n",
    "# plt.xlabel('Sample number', fontsize=16)\n",
    "# plt.ylabel('Intensity', fontsize=16)"
   ]
  },
  {
   "cell_type": "code",
   "execution_count": 170,
   "metadata": {
    "collapsed": true
   },
   "outputs": [],
   "source": [
    "# Calculate sigmoid function\n",
    "def calc_sigmoid(target_function):\n",
    "    return (1 / (1 + np.exp(-target_function)))"
   ]
  },
  {
   "cell_type": "code",
   "execution_count": 171,
   "metadata": {
    "collapsed": false
   },
   "outputs": [
    {
     "name": "stdout",
     "output_type": "stream",
     "text": [
      "10\n"
     ]
    }
   ],
   "source": [
    "print len(np.arange(0,5,0.5))"
   ]
  },
  {
   "cell_type": "code",
   "execution_count": 172,
   "metadata": {
    "collapsed": false,
    "scrolled": true
   },
   "outputs": [
    {
     "name": "stderr",
     "output_type": "stream",
     "text": [
      "D:\\Development\\Anaconda2\\lib\\site-packages\\ipykernel\\__main__.py:3: RuntimeWarning: overflow encountered in exp\n",
      "  app.launch_new_instance()\n"
     ]
    }
   ],
   "source": [
    "## Part 1\n",
    "w_vectors = []\n",
    "learning_rates = np.arange(0.0001,1.05,0.05) # 10 values between 0 and 5\n",
    "\n",
    "# def batch_learning(X,y,n,lrn_rate,iterations=1):\n",
    "#     w_batch = np.zeros(len(X[0]))\n",
    "#     ## Repeat until convergence  \n",
    "#     ctr = 0\n",
    "#     for i in range(iterations):\n",
    "#         d = np.zeros(len(X[0]))\n",
    "#         #Range argument limits batch size\n",
    "#         while(ctr < 1400):\n",
    "#             print ctr\n",
    "#             for i in range(n):\n",
    "#                 y_hat_i = calc_sigmoid((np.dot(w_batch.T,X[ctr])))\n",
    "#                 error = y[i] - y_hat_i\n",
    "#                 d = np.add(d,error * X[i])\n",
    "#                 ctr += 1\n",
    "#             w_batch = np.add(w_batch,lrn_rate * d) \n",
    "#     return w_batch\n",
    "\n",
    "def batch_learning(X, y, n, lrn_rate, iterations = 1):\n",
    "    length = len(X[0])\n",
    "    w_batch = np.zeros(length)\n",
    "    for i in range(iterations):\n",
    "        d = np.zeros(length)\n",
    "        for j in range(n):\n",
    "            y_hat_i = calc_sigmoid((np.dot(w_batch.T, X[j])))\n",
    "            error = y[j] - y_hat_i\n",
    "            d = np.add(d, error * X[j])\n",
    "        w_batch = np.add(w_batch, lrn_rate * d)\n",
    "    return w_batch\n",
    "\n",
    "for i in learning_rates:\n",
    "    w_vectors.append(batch_learning(X_train,y_train,200,i,16))\n",
    "\n",
    "# print w_vectors\n",
    "## Consider experimenting with alternate convergence conditions\n",
    "# - Cease to change in objective value\n",
    "# - norm of the gradient within a threshold"
   ]
  },
  {
   "cell_type": "code",
   "execution_count": 173,
   "metadata": {
    "collapsed": false
   },
   "outputs": [
    {
     "data": {
      "text/plain": [
       "<matplotlib.text.Text at 0xca80940>"
      ]
     },
     "execution_count": 173,
     "metadata": {},
     "output_type": "execute_result"
    },
    {
     "data": {
      "image/png": "[encoded data removed]",
      "text/plain": [
       "<matplotlib.figure.Figure at 0x9b433c8>"
      ]
     },
     "metadata": {},
     "output_type": "display_data"
    }
   ],
   "source": [
    "norms = []\n",
    "\n",
    "for i in range(len(w_vectors)):\n",
    "    norms.append(np.linalg.norm(w_vectors[i]))\n",
    "\n",
    "# Plot the values gathered above\n",
    "fig = plt.figure(figsize=(9,6))\n",
    "plt.plot(learning_rates,norms)\n",
    "fig.suptitle('Effect of Learning Rate on w Vector Norm', fontsize=16)\n",
    "plt.xlabel('Learning Rate', fontsize=16)\n",
    "plt.ylabel('Norm Value', fontsize=16)"
   ]
  },
  {
   "cell_type": "code",
   "execution_count": 174,
   "metadata": {
    "collapsed": false
   },
   "outputs": [
    {
     "name": "stdout",
     "output_type": "stream",
     "text": [
      "[ 0.    0.05  0.1   0.15  0.2   0.25  0.3   0.35  0.4   0.45  0.5   0.55\n",
      "  0.6   0.65  0.7   0.75  0.8   0.85  0.9   0.95  1.  ]\n"
     ]
    }
   ],
   "source": [
    "print learning_rates"
   ]
  },
  {
   "cell_type": "code",
   "execution_count": 175,
   "metadata": {
    "collapsed": false
   },
   "outputs": [
    {
     "name": "stdout",
     "output_type": "stream",
     "text": [
      "[-0.01  -0.007 -0.033 -0.052 -0.083 -0.139 -0.275 -0.446 -0.572 -0.494\n",
      " -0.235 -0.142 -0.051 -0.026 -0.028 -0.134 -0.155 -0.024 -0.101 -0.199\n",
      " -0.39  -0.66  -1.035 -1.33  -1.444 -1.224 -0.668 -0.344 -0.141 -0.099\n",
      " -0.232 -0.353 -0.196 -0.038 -0.141 -0.361 -0.644 -0.967 -1.292 -1.494\n",
      " -1.507 -1.249 -0.741 -0.37  -0.214 -0.308 -0.401 -0.368 -0.175 -0.049\n",
      " -0.279 -0.49  -0.747 -0.949 -1.092 -1.173 -1.217 -1.137 -0.742 -0.441\n",
      " -0.424 -0.448 -0.436 -0.381 -0.206 -0.115 -0.356 -0.583 -0.744 -0.845\n",
      " -0.769 -0.793 -1.036 -1.046 -0.806 -0.65  -0.569 -0.513 -0.471 -0.512\n",
      " -0.289 -0.123 -0.35  -0.588 -0.674 -0.559 -0.459 -0.582 -0.884 -1.064\n",
      " -0.994 -0.836 -0.67  -0.575 -0.612 -0.565 -0.283 -0.129 -0.353 -0.479\n",
      " -0.421 -0.302 -0.288 -0.509 -0.851 -1.181 -1.218 -0.941 -0.743 -0.696\n",
      " -0.61  -0.493 -0.233 -0.105 -0.279 -0.274 -0.23  -0.168 -0.217 -0.561\n",
      " -1.005 -1.364 -1.321 -1.015 -0.829 -0.646 -0.535 -0.425 -0.186 -0.119\n",
      " -0.242 -0.205 -0.151 -0.171 -0.376 -0.834 -1.251 -1.414 -1.302 -1.001\n",
      " -0.721 -0.476 -0.391 -0.301 -0.139 -0.126 -0.224 -0.196 -0.231 -0.385\n",
      " -0.693 -1.098 -1.331 -1.47  -1.232 -0.818 -0.512 -0.347 -0.265 -0.236\n",
      " -0.125 -0.096 -0.209 -0.283 -0.479 -0.769 -1.047 -1.257 -1.454 -1.33\n",
      " -0.975 -0.603 -0.379 -0.274 -0.229 -0.24  -0.124 -0.102 -0.278 -0.477\n",
      " -0.766 -1.053 -1.247 -1.343 -1.322 -1.115 -0.751 -0.503 -0.325 -0.231\n",
      " -0.208 -0.227 -0.123 -0.15  -0.415 -0.773 -1.089 -1.215 -1.18  -1.042\n",
      " -0.916 -0.814 -0.599 -0.471 -0.311 -0.203 -0.154 -0.146 -0.067 -0.272\n",
      " -0.79  -1.155 -1.21  -1.002 -0.765 -0.569 -0.595 -0.59  -0.499 -0.369\n",
      " -0.27  -0.216 -0.183 -0.14  -0.061 -0.535 -1.147 -1.136 -0.809 -0.477\n",
      " -0.324 -0.279 -0.366 -0.36  -0.319 -0.197 -0.165 -0.146 -0.172 -0.18\n",
      " -0.108 -0.476 -0.649 -0.407 -0.163 -0.1   -0.07  -0.079 -0.117 -0.12\n",
      " -0.092 -0.049 -0.035 -0.012 -0.042 -0.078 -0.047]\n"
     ]
    }
   ],
   "source": [
    "print w_vectors[0]"
   ]
  },
  {
   "cell_type": "code",
   "execution_count": null,
   "metadata": {
    "collapsed": false
   },
   "outputs": [],
   "source": [
    "## Part 4\n",
    "\n",
    "def func_calc_reg(X, y, w, lamda):\n",
    "    fst = 0\n",
    "    for i in range(len(w)):\n",
    "        g = calc_sigmoid((np.dot(w[i].T, X[i])))\n",
    "        if y[i] == 1: fst += (-np.log10(g))        \n",
    "        if y[i] == 0: fst += (-np.log10(1 - g))\n",
    "            \n",
    "    snd = (lamda * np.linalg.norm(w, 2) ** 2) / 2\n",
    "    return np.add(fst, snd)\n",
    "\n",
    "lambdas, norms = [0, 0.001, 0.01, 0.1, 1, 10, 100, 1000], []\n",
    "\n",
    "for w_vector in w_vectors:\n",
    "    norms.append(np.linalg.norm(w_vector))\n",
    "    for lamda in lambdas:\n",
    "        value = func_calc_reg(X_train, y_train, w_vector, lamda)\n",
    "#         print value"
   ]
  },
  {
   "cell_type": "code",
   "execution_count": null,
   "metadata": {
    "collapsed": true
   },
   "outputs": [],
   "source": [
    "norms = []\n",
    "\n",
    "for i in range(len(w_vectors)):\n",
    "    norms.append(np.linalg.norm(w_vectors[i]))\n",
    "\n",
    "# Plot the values gathered above\n",
    "fig = plt.figure(figsize=(9,6))\n",
    "plt.plot(learning_rates,norms)\n",
    "fig.suptitle('Effect of Learning Rate on w Vector Norm', fontsize=16)\n",
    "plt.xlabel('Learning Rate', fontsize=16)\n",
    "plt.ylabel('Norm Value', fontsize=16)"
   ]
  },
  {
   "cell_type": "code",
   "execution_count": null,
   "metadata": {
    "collapsed": true
   },
   "outputs": [],
   "source": [
    "# Experimenting with different learing values\n",
    "\n",
    "## Thought: Maybe we can use the norm to quantify the effect of the learning rate on our w vector\n"
   ]
  }
 ],
 "metadata": {
  "kernelspec": {
   "display_name": "Python 2",
   "language": "python",
   "name": "python2"
  }
 },
 "nbformat": 4,
 "nbformat_minor": 1
}
