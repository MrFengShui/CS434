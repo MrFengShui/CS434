{
 "cells": [
  {
   "cell_type": "code",
   "execution_count": 117,
   "metadata": {
    "collapsed": true
   },
   "outputs": [],
   "source": [
    "# Plotting library\n",
    "import matplotlib.pyplot as plt\n",
    "import matplotlib.image as mpimg\n",
    "from matplotlib import gridspec\n",
    "\n",
    "# Numerical Library\n",
    "import numpy as np\n",
    "from numpy import genfromtxt\n",
    "from numpy.linalg import inv\n",
    "\n",
    "# Image manipulation library\n",
    "from PIL import Image\n",
    "\n",
    "# Limit printout to 3 decimal places\n",
    "np.set_printoptions(precision=3,suppress=True)\n",
    "\n",
    "# Allows for printing inline for jupyter notebook\n",
    "%matplotlib inline \n",
    "\n",
    "# http://scikit-learn.org/stable/tutorial/machine_learning_map/"
   ]
  },
  {
   "cell_type": "code",
   "execution_count": 118,
   "metadata": {
    "collapsed": true
   },
   "outputs": [],
   "source": [
    "# Load datasets and store in ndarray\n",
    "raw_train = genfromtxt('usps-4-9-train.csv', delimiter=',')\n",
    "raw_test = genfromtxt('usps-4-9-test.csv', delimiter=',')"
   ]
  },
  {
   "cell_type": "code",
   "execution_count": 119,
   "metadata": {
    "collapsed": false
   },
   "outputs": [
    {
     "name": "stdout",
     "output_type": "stream",
     "text": [
      "[[ 0.]\n",
      " [ 0.]\n",
      " [ 0.]\n",
      " ..., \n",
      " [ 1.]\n",
      " [ 1.]\n",
      " [ 1.]]\n"
     ]
    }
   ],
   "source": [
    "print raw_train[:,256][np.newaxis].T"
   ]
  },
  {
   "cell_type": "code",
   "execution_count": 120,
   "metadata": {
    "collapsed": true
   },
   "outputs": [],
   "source": [
    "# Split off known target values\n",
    "y_train = raw_train[:,256]\n",
    "y_test = raw_test[:,256]\n",
    "\n",
    "# Add dimension to y_train and transpose\n",
    "y_train = y_train[np.newaxis].T\n",
    "y_test = y_test[np.newaxis].T\n",
    "\n",
    "# Remove column 256 from X\n",
    "raw_train = np.delete(raw_train, 256, axis=1)\n",
    "raw_test = np.delete(raw_test, 256, axis=1)\n",
    "\n",
    "## NOT COMPLETELY SURE WE NEED DUMMY ONES\n",
    "\n",
    "# Function to create array of dummy ones and returned \n",
    "# columnar vector\n",
    "def make_dummy_vector(target):\n",
    "   temp = np.ones(len(target))\n",
    "   return temp[np.newaxis].T\n",
    "\n",
    "# Create dummy 1 values\n",
    "dummy_train = make_dummy_vector(raw_train)\n",
    "dummy_test = make_dummy_vector(raw_test)\n",
    "\n",
    "# Add dummy data to feature matrices\n",
    "X_train = np.concatenate((dummy_train, raw_train), axis=1)\n",
    "X_test = np.concatenate((dummy_test, raw_test), axis=1)\n",
    "\n",
    "\n",
    "# In case we don't need dummy ones\n",
    "#X_train = raw_train\n",
    "#X_test = raw_test"
   ]
  },
  {
   "cell_type": "code",
   "execution_count": 121,
   "metadata": {
    "collapsed": false
   },
   "outputs": [
    {
     "name": "stdout",
     "output_type": "stream",
     "text": [
      "[   0.    0.    0.    0.    0.    0.    0.    0.   11.  133.  195.    7.\n",
      "    0.    0.    0.    0.    0.    0.    0.    0.    0.    0.   12.  120.\n",
      "  220.  255.  149.    2.    0.    0.    0.    0.    0.    0.    0.   20.\n",
      "  113.  172.  239.  255.  255.   72.    0.    0.    0.    0.    0.    0.\n",
      "    0.    0.  122.  255.  253.  174.  105.  155.  255.    3.    0.    0.\n",
      "    0.    0.    0.    0.    0.   73.  243.  183.   17.    0.    0.  144.\n",
      "  244.    2.    0.    0.    0.    0.   30.   28.    0.    0.    0.    0.\n",
      "    0.    0.    0.   98.  201.    0.    0.   15.  102.  179.  255.  174.\n",
      "    0.    0.    0.    0.    0.    0.    0.  155.  212.   90.  167.  253.\n",
      "  255.  206.   94.   16.    0.    0.    0.    0.    0.    0.   25.  223.\n",
      "  255.  239.  139.   64.   43.    0.    0.    0.    0.    0.    0.    0.\n",
      "   37.  154.  251.  255.  166.   12.    0.    0.    0.    0.    0.    0.\n",
      "    0.   22.  116.  205.  252.  173.   97.  255.  109.    0.    0.    0.\n",
      "    0.    0.    0.    0.   90.  248.  198.   93.   14.    0.   16.  255.\n",
      "   29.    0.    0.    0.    0.    0.    0.    0.   62.   29.    0.    0.\n",
      "    0.    0.   61.  249.   23.    0.    0.    0.    0.    0.    0.    0.\n",
      "    0.    0.    0.    0.    0.    0.  119.  203.    0.    0.    0.    0.\n",
      "    0.    0.    0.    0.    0.    0.    0.    0.    0.    0.  177.  180.\n",
      "    0.    0.    0.    0.    0.    0.    0.    0.    0.    0.    0.    0.\n",
      "    0.    7.  238.  134.    0.    0.    0.    0.    0.    0.    0.    0.\n",
      "    0.    0.    0.    0.    0.   14.  148.   32.    0.    0.    0.    0.\n",
      "    0.    0.    0.    0.]\n"
     ]
    }
   ],
   "source": [
    "# Data for a single sample\n",
    "print raw_train[0]"
   ]
  },
  {
   "cell_type": "code",
   "execution_count": 122,
   "metadata": {
    "collapsed": true
   },
   "outputs": [],
   "source": [
    "## This is not completely working, we need to figure out why the image seems upside down ##\n",
    "\n",
    "# Displays a single sample for context\n",
    "def visualize_sample(data,target):\n",
    "    temp = np.reshape(data[target],(16,16))\n",
    "    img = Image.fromarray(temp)\n",
    "    img.show()\n",
    "    \n",
    "# Example call to function\n",
    "visualize_sample(raw_train, 1200)"
   ]
  },
  {
   "cell_type": "code",
   "execution_count": 123,
   "metadata": {
    "collapsed": true
   },
   "outputs": [],
   "source": [
    "# NOT YET NEEDED, INCORRECT FIRST ATTEMPT AT ASSIGNMENT\n",
    "\n",
    "# Compute optimal weight vector w = (X^T * X)^-1 (X^T * Y)\n",
    "# def calc_w_vector(X, y):\n",
    "#     return np.dot(inv(np.dot(X.T,X)), np.dot(X.T,y))\n",
    "\n",
    "# w_train = calc_w_vector(X_train,y_train)\n",
    "# w_test = calc_w_vector(X_test,y_test)\n",
    "\n",
    "# Computer linear regression function\n",
    "# target_function_train = np.dot(X_test,w_test)\n",
    "# target_function_test = np.dot(X_test,w_test)\n",
    "\n",
    "# # Plot the values gathered above\n",
    "# fig = plt.figure(figsize=(9,6))\n",
    "# plt.plot(target_function_train)\n",
    "# fig.suptitle('Linear Regression Function for X_train', fontsize=16)\n",
    "# plt.xlabel('Sample number', fontsize=16)\n",
    "# plt.ylabel('Intensity', fontsize=16)\n",
    "\n",
    "# fig = plt.figure(figsize=(9,6))\n",
    "# plt.plot(target_function_test)\n",
    "# fig.suptitle('Linear Regression Function for X_test', fontsize=16)\n",
    "# plt.xlabel('Sample number', fontsize=16)\n",
    "# plt.ylabel('Intensity', fontsize=16)\n",
    "\n",
    "# sigmoid_train = calc_sigmoid(target_function_train)\n",
    "# sigmoid_test = calc_sigmoid(target_function_test)\n",
    "\n",
    "# # Plot the values gathered above\n",
    "# fig = plt.figure(figsize=(9,6))\n",
    "# plt.plot(sigmoid_train)\n",
    "# fig.suptitle('Sigmoid Function for X_train', fontsize=16)\n",
    "# plt.xlabel('Sample number', fontsize=16)\n",
    "# plt.ylabel('Intensity', fontsize=16)\n",
    "\n",
    "# fig = plt.figure(figsize=(9,6))\n",
    "# plt.plot(sigmoid_test)\n",
    "# fig.suptitle('Sigmoid Function for X_test', fontsize=16)\n",
    "# plt.xlabel('Sample number', fontsize=16)\n",
    "# plt.ylabel('Intensity', fontsize=16)"
   ]
  },
  {
   "cell_type": "code",
   "execution_count": 124,
   "metadata": {
    "collapsed": false
   },
   "outputs": [],
   "source": [
    "# Calculate sigmoid function\n",
    "def calc_sigmoid(X, w):\n",
    "    return 1 / (1 + np.exp(-np.dot(w.T, X)))"
   ]
  },
  {
   "cell_type": "code",
   "execution_count": 125,
   "metadata": {
    "collapsed": false
   },
   "outputs": [
    {
     "name": "stdout",
     "output_type": "stream",
     "text": [
      "10\n",
      "[ 0.     0.     0.     0.     0.001  0.001  0.001  0.001  0.001]\n"
     ]
    }
   ],
   "source": [
    "print len(np.arange(0,5,0.5))\n",
    "print np.arange(0.0001, 0.001, 0.0001)"
   ]
  },
  {
   "cell_type": "code",
   "execution_count": 126,
   "metadata": {
    "collapsed": false,
    "scrolled": true
   },
   "outputs": [
    {
     "name": "stderr",
     "output_type": "stream",
     "text": [
      "D:\\Development\\Anaconda2\\lib\\site-packages\\ipykernel\\__main__.py:35: RuntimeWarning: overflow encountered in exp\n"
     ]
    }
   ],
   "source": [
    "## Part 1\n",
    "w_vectors = []\n",
    "learning_rates = [\n",
    "    0.000001, 0.000005, \n",
    "    0.00001, 0.00005, \n",
    "    0.0001, 0.0005, \n",
    "    0.001, 0.005,\n",
    "    0.01, 0.05,\n",
    "    0.1, 0.5\n",
    "] # 10 values between 0 and 5\n",
    "# def batch_learning(X,y,n,lrn_rate,iterations=1):\n",
    "#     w_batch = np.zeros(len(X[0]))\n",
    "#     ## Repeat until convergence  \n",
    "#     ctr = 0\n",
    "#     for i in range(iterations):\n",
    "#         d = np.zeros(len(X[0]))\n",
    "#         #Range argument limits batch size\n",
    "#         while(ctr < 1400):\n",
    "#             for i in range(n):\n",
    "#                 y_hat_i = calc_sigmoid((np.dot(w_batch.T,X[ctr])))\n",
    "#                 error = y[i] - y_hat_i\n",
    "#                 d = np.add(d,error * X[i])\n",
    "#                 ctr += 1\n",
    "#             w_batch = np.add(w_batch,lrn_rate * d) \n",
    "    \n",
    "#     return w_batch\n",
    "\n",
    "def batch_learning(X, y, n, eta, epsilon = 0.001):\n",
    "    length = len(X[0])\n",
    "    w, old_d = np.zeros(length), np.zeros(length)\n",
    "    while True:\n",
    "        new_d = np.zeros(length)\n",
    "        for i in range(n):\n",
    "            expo = np.dot(w.T, X[i])\n",
    "            y_hat_i = 1 / (1 + np.exp(-expo))\n",
    "            error = y[i] - y_hat_i\n",
    "            new_d = np.add(new_d, error * X[i])\n",
    "        d_norm = np.linalg.norm(old_d - new_d, 2)\n",
    "        if d_norm < epsilon: break\n",
    "        w, old_d = np.add(w, eta * new_d), new_d\n",
    "    return w\n",
    "\n",
    "for i in learning_rates:\n",
    "    w_vectors.append(batch_learning(X_train, y_train, 200, i))"
   ]
  },
  {
   "cell_type": "code",
   "execution_count": 127,
   "metadata": {
    "collapsed": false
   },
   "outputs": [
    {
     "data": {
      "text/plain": [
       "<matplotlib.text.Text at 0x9992ef0>"
      ]
     },
     "execution_count": 127,
     "metadata": {},
     "output_type": "execute_result"
    },
    {
     "data": {
      "image/png": "[encoded data removed]",
      "text/plain": [
       "<matplotlib.figure.Figure at 0x94ffef0>"
      ]
     },
     "metadata": {},
     "output_type": "display_data"
    }
   ],
   "source": [
    "norms = []\n",
    "\n",
    "for w_vector in w_vectors:\n",
    "    norms.append(np.linalg.norm(w_vector))\n",
    "\n",
    "# Plot the values gathered above\n",
    "fig = plt.figure(figsize=(9,6))\n",
    "plt.plot(norms, learning_rates)\n",
    "fig.suptitle('Effect of Learning Rate on w Vector Norm', fontsize=16)\n",
    "plt.xlabel('Weight Norm Value', fontsize=16)\n",
    "plt.ylabel('Learning Rate', fontsize=16)"
   ]
  },
  {
   "cell_type": "code",
   "execution_count": 128,
   "metadata": {
    "collapsed": false
   },
   "outputs": [
    {
     "name": "stdout",
     "output_type": "stream",
     "text": [
      "[1e-06, 5e-06, 1e-05, 5e-05, 0.0001, 0.0005, 0.001, 0.005, 0.01, 0.05, 0.1, 0.5]\n"
     ]
    }
   ],
   "source": [
    "print learning_rates"
   ]
  },
  {
   "cell_type": "code",
   "execution_count": 129,
   "metadata": {
    "collapsed": false
   },
   "outputs": [
    {
     "name": "stdout",
     "output_type": "stream",
     "text": [
      "[-0.    -0.    -0.    -0.001 -0.001 -0.001 -0.003 -0.004 -0.006 -0.005\n",
      " -0.002 -0.001 -0.001 -0.    -0.    -0.001 -0.002 -0.    -0.001 -0.002\n",
      " -0.004 -0.007 -0.01  -0.013 -0.014 -0.012 -0.007 -0.003 -0.001 -0.001\n",
      " -0.002 -0.004 -0.002 -0.    -0.001 -0.004 -0.006 -0.01  -0.013 -0.015\n",
      " -0.015 -0.012 -0.007 -0.004 -0.002 -0.003 -0.004 -0.004 -0.002 -0.    -0.003\n",
      " -0.005 -0.007 -0.009 -0.011 -0.012 -0.012 -0.011 -0.007 -0.004 -0.004\n",
      " -0.004 -0.004 -0.004 -0.002 -0.001 -0.004 -0.006 -0.007 -0.008 -0.008\n",
      " -0.008 -0.01  -0.01  -0.008 -0.007 -0.006 -0.005 -0.005 -0.005 -0.003\n",
      " -0.001 -0.003 -0.006 -0.007 -0.006 -0.005 -0.006 -0.009 -0.011 -0.01\n",
      " -0.008 -0.007 -0.006 -0.006 -0.006 -0.003 -0.001 -0.004 -0.005 -0.004\n",
      " -0.003 -0.003 -0.005 -0.009 -0.012 -0.012 -0.009 -0.007 -0.007 -0.006\n",
      " -0.005 -0.002 -0.001 -0.003 -0.003 -0.002 -0.002 -0.002 -0.006 -0.01\n",
      " -0.014 -0.013 -0.01  -0.008 -0.006 -0.005 -0.004 -0.002 -0.001 -0.002\n",
      " -0.002 -0.002 -0.002 -0.004 -0.008 -0.013 -0.014 -0.013 -0.01  -0.007\n",
      " -0.005 -0.004 -0.003 -0.001 -0.001 -0.002 -0.002 -0.002 -0.004 -0.007\n",
      " -0.011 -0.013 -0.015 -0.012 -0.008 -0.005 -0.003 -0.003 -0.002 -0.001\n",
      " -0.001 -0.002 -0.003 -0.005 -0.008 -0.01  -0.013 -0.015 -0.013 -0.01\n",
      " -0.006 -0.004 -0.003 -0.002 -0.002 -0.001 -0.001 -0.003 -0.005 -0.008\n",
      " -0.011 -0.012 -0.013 -0.013 -0.011 -0.008 -0.005 -0.003 -0.002 -0.002\n",
      " -0.002 -0.001 -0.001 -0.004 -0.008 -0.011 -0.012 -0.012 -0.01  -0.009\n",
      " -0.008 -0.006 -0.005 -0.003 -0.002 -0.002 -0.001 -0.001 -0.003 -0.008\n",
      " -0.012 -0.012 -0.01  -0.008 -0.006 -0.006 -0.006 -0.005 -0.004 -0.003\n",
      " -0.002 -0.002 -0.001 -0.001 -0.005 -0.011 -0.011 -0.008 -0.005 -0.003\n",
      " -0.003 -0.004 -0.004 -0.003 -0.002 -0.002 -0.001 -0.002 -0.002 -0.001\n",
      " -0.005 -0.006 -0.004 -0.002 -0.001 -0.001 -0.001 -0.001 -0.001 -0.001 -0.\n",
      " -0.    -0.    -0.    -0.001 -0.   ]\n"
     ]
    }
   ],
   "source": [
    "print w_vectors[0]"
   ]
  },
  {
   "cell_type": "code",
   "execution_count": 130,
   "metadata": {
    "collapsed": false
   },
   "outputs": [
    {
     "ename": "TypeError",
     "evalue": "calc_sigmoid() takes exactly 2 arguments (1 given)",
     "output_type": "error",
     "traceback": [
      "\u001b[0;31m---------------------------------------------------------------------------\u001b[0m",
      "\u001b[0;31mTypeError\u001b[0m                                 Traceback (most recent call last)",
      "\u001b[0;32m<ipython-input-130-fa8f7f4a2ce6>\u001b[0m in \u001b[0;36m<module>\u001b[0;34m()\u001b[0m\n\u001b[1;32m     16\u001b[0m     \u001b[0mnorms\u001b[0m\u001b[1;33m.\u001b[0m\u001b[0mappend\u001b[0m\u001b[1;33m(\u001b[0m\u001b[0mnp\u001b[0m\u001b[1;33m.\u001b[0m\u001b[0mlinalg\u001b[0m\u001b[1;33m.\u001b[0m\u001b[0mnorm\u001b[0m\u001b[1;33m(\u001b[0m\u001b[0mw_vector\u001b[0m\u001b[1;33m)\u001b[0m\u001b[1;33m)\u001b[0m\u001b[1;33m\u001b[0m\u001b[0m\n\u001b[1;32m     17\u001b[0m     \u001b[1;32mfor\u001b[0m \u001b[0mlamda\u001b[0m \u001b[1;32min\u001b[0m \u001b[0mlambdas\u001b[0m\u001b[1;33m:\u001b[0m\u001b[1;33m\u001b[0m\u001b[0m\n\u001b[0;32m---> 18\u001b[0;31m         \u001b[0mvalue\u001b[0m \u001b[1;33m=\u001b[0m \u001b[0mfunc_calc_reg\u001b[0m\u001b[1;33m(\u001b[0m\u001b[0mX_train\u001b[0m\u001b[1;33m,\u001b[0m \u001b[0my_train\u001b[0m\u001b[1;33m,\u001b[0m \u001b[0mw_vector\u001b[0m\u001b[1;33m,\u001b[0m \u001b[0mlamda\u001b[0m\u001b[1;33m)\u001b[0m\u001b[1;33m\u001b[0m\u001b[0m\n\u001b[0m\u001b[1;32m     19\u001b[0m \u001b[1;31m#         print value\u001b[0m\u001b[1;33m\u001b[0m\u001b[1;33m\u001b[0m\u001b[0m\n",
      "\u001b[0;32m<ipython-input-130-fa8f7f4a2ce6>\u001b[0m in \u001b[0;36mfunc_calc_reg\u001b[0;34m(X, y, w, lamda)\u001b[0m\n\u001b[1;32m      4\u001b[0m     \u001b[0mfst\u001b[0m \u001b[1;33m=\u001b[0m \u001b[1;36m0\u001b[0m\u001b[1;33m\u001b[0m\u001b[0m\n\u001b[1;32m      5\u001b[0m     \u001b[1;32mfor\u001b[0m \u001b[0mi\u001b[0m \u001b[1;32min\u001b[0m \u001b[0mrange\u001b[0m\u001b[1;33m(\u001b[0m\u001b[0mlen\u001b[0m\u001b[1;33m(\u001b[0m\u001b[0mw\u001b[0m\u001b[1;33m)\u001b[0m\u001b[1;33m)\u001b[0m\u001b[1;33m:\u001b[0m\u001b[1;33m\u001b[0m\u001b[0m\n\u001b[0;32m----> 6\u001b[0;31m         \u001b[0mg\u001b[0m \u001b[1;33m=\u001b[0m \u001b[0mcalc_sigmoid\u001b[0m\u001b[1;33m(\u001b[0m\u001b[1;33m(\u001b[0m\u001b[0mnp\u001b[0m\u001b[1;33m.\u001b[0m\u001b[0mdot\u001b[0m\u001b[1;33m(\u001b[0m\u001b[0mw\u001b[0m\u001b[1;33m[\u001b[0m\u001b[0mi\u001b[0m\u001b[1;33m]\u001b[0m\u001b[1;33m.\u001b[0m\u001b[0mT\u001b[0m\u001b[1;33m,\u001b[0m \u001b[0mX\u001b[0m\u001b[1;33m[\u001b[0m\u001b[0mi\u001b[0m\u001b[1;33m]\u001b[0m\u001b[1;33m)\u001b[0m\u001b[1;33m)\u001b[0m\u001b[1;33m)\u001b[0m\u001b[1;33m\u001b[0m\u001b[0m\n\u001b[0m\u001b[1;32m      7\u001b[0m         \u001b[1;32mif\u001b[0m \u001b[0my\u001b[0m\u001b[1;33m[\u001b[0m\u001b[0mi\u001b[0m\u001b[1;33m]\u001b[0m \u001b[1;33m==\u001b[0m \u001b[1;36m1\u001b[0m\u001b[1;33m:\u001b[0m \u001b[0mfst\u001b[0m \u001b[1;33m+=\u001b[0m \u001b[1;33m(\u001b[0m\u001b[1;33m-\u001b[0m\u001b[0mnp\u001b[0m\u001b[1;33m.\u001b[0m\u001b[0mlog10\u001b[0m\u001b[1;33m(\u001b[0m\u001b[0mg\u001b[0m\u001b[1;33m)\u001b[0m\u001b[1;33m)\u001b[0m\u001b[1;33m\u001b[0m\u001b[0m\n\u001b[1;32m      8\u001b[0m         \u001b[1;32mif\u001b[0m \u001b[0my\u001b[0m\u001b[1;33m[\u001b[0m\u001b[0mi\u001b[0m\u001b[1;33m]\u001b[0m \u001b[1;33m==\u001b[0m \u001b[1;36m0\u001b[0m\u001b[1;33m:\u001b[0m \u001b[0mfst\u001b[0m \u001b[1;33m+=\u001b[0m \u001b[1;33m(\u001b[0m\u001b[1;33m-\u001b[0m\u001b[0mnp\u001b[0m\u001b[1;33m.\u001b[0m\u001b[0mlog10\u001b[0m\u001b[1;33m(\u001b[0m\u001b[1;36m1\u001b[0m \u001b[1;33m-\u001b[0m \u001b[0mg\u001b[0m\u001b[1;33m)\u001b[0m\u001b[1;33m)\u001b[0m\u001b[1;33m\u001b[0m\u001b[0m\n",
      "\u001b[0;31mTypeError\u001b[0m: calc_sigmoid() takes exactly 2 arguments (1 given)"
     ]
    }
   ],
   "source": [
    "## Part 4\n",
    "\n",
    "def func_calc_reg(X, y, w, lamda):\n",
    "    fst = 0\n",
    "    for i in range(len(w)):\n",
    "        g = calc_sigmoid((np.dot(w[i].T, X[i])))\n",
    "        if y[i] == 1: fst += (-np.log10(g))        \n",
    "        if y[i] == 0: fst += (-np.log10(1 - g))\n",
    "            \n",
    "    snd = (lamda * np.linalg.norm(w, 2) ** 2) / 2\n",
    "    return np.add(fst, snd)\n",
    "\n",
    "lambdas, norms = [0, 0.001, 0.01, 0.1, 1, 10, 100, 1000], []\n",
    "\n",
    "for w_vector in w_vectors:\n",
    "    norms.append(np.linalg.norm(w_vector))\n",
    "    for lamda in lambdas:\n",
    "        value = func_calc_reg(X_train, y_train, w_vector, lamda)\n",
    "#         print value"
   ]
  },
  {
   "cell_type": "code",
   "execution_count": null,
   "metadata": {
    "collapsed": true
   },
   "outputs": [],
   "source": [
    "norms = []\n",
    "\n",
    "for i in range(len(w_vectors)):\n",
    "    norms.append(np.linalg.norm(w_vectors[i]))\n",
    "\n",
    "# Plot the values gathered above\n",
    "fig = plt.figure(figsize=(9,6))\n",
    "plt.plot(learning_rates,norms)\n",
    "fig.suptitle('Effect of Learning Rate on w Vector Norm', fontsize=16)\n",
    "plt.xlabel('Learning Rate', fontsize=16)\n",
    "plt.ylabel('Norm Value', fontsize=16)"
   ]
  },
  {
   "cell_type": "code",
   "execution_count": null,
   "metadata": {
    "collapsed": true
   },
   "outputs": [],
   "source": [
    "# Experimenting with different learing values\n",
    "\n",
    "## Thought: Maybe we can use the norm to quantify the effect of the learning rate on our w vector\n"
   ]
  }
 ],
 "metadata": {
  "kernelspec": {
   "display_name": "Python 2",
   "language": "python",
   "name": "python2"
  },
  "language_info": {
   "codemirror_mode": {
    "name": "ipython",
    "version": 2
   },
   "file_extension": ".py",
   "mimetype": "text/x-python",
   "name": "python",
   "nbconvert_exporter": "python",
   "pygments_lexer": "ipython2",
   "version": "2.7.13"
  }
 },
 "nbformat": 4,
 "nbformat_minor": 1
}
