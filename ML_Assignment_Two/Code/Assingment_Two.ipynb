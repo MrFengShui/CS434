{
 "cells": [
  {
   "cell_type": "code",
   "execution_count": 1,
   "metadata": {
    "collapsed": true
   },
   "outputs": [],
   "source": [
    "# Plotting library\n",
    "import matplotlib.pyplot as plt\n",
    "import matplotlib.image as mpimg\n",
    "from matplotlib import gridspec\n",
    "\n",
    "# Numerical Library\n",
    "import numpy as np\n",
    "from numpy import genfromtxt\n",
    "from numpy.linalg import inv\n",
    "\n",
    "# Image manipulation library\n",
    "from PIL import Image\n",
    "\n",
    "# Limit printout to 3 decimal places\n",
    "np.set_printoptions(precision=3,suppress=True)\n",
    "\n",
    "# Allows for printing inline for jupyter notebook\n",
    "%matplotlib inline \n",
    "\n",
    "# http://scikit-learn.org/stable/tutorial/machine_learning_map/"
   ]
  },
  {
   "cell_type": "code",
   "execution_count": 2,
   "metadata": {
    "collapsed": true
   },
   "outputs": [],
   "source": [
    "# Load datasets and store in ndarray\n",
    "raw_train = genfromtxt('usps-4-9-train.csv', delimiter=',')\n",
    "raw_test = genfromtxt('usps-4-9-test.csv', delimiter=',')"
   ]
  },
  {
   "cell_type": "code",
   "execution_count": 12,
   "metadata": {},
   "outputs": [
    {
     "name": "stdout",
     "output_type": "stream",
     "text": [
      "[[ 0.]\n",
      " [ 0.]\n",
      " [ 0.]\n",
      " ..., \n",
      " [ 1.]\n",
      " [ 1.]\n",
      " [ 1.]]\n"
     ]
    }
   ],
   "source": [
    "print raw_train[:,256][np.newaxis].T"
   ]
  },
  {
   "cell_type": "code",
   "execution_count": 13,
   "metadata": {
    "collapsed": true
   },
   "outputs": [],
   "source": [
    "# Split off known target values\n",
    "y_train = raw_train[:,256]\n",
    "y_test = raw_test[:,256]\n",
    "\n",
    "# Add dimension to y_train and transpose\n",
    "y_train = y_train[np.newaxis].T\n",
    "y_test = y_test[np.newaxis].T\n",
    "\n",
    "# Remove column 256 from X\n",
    "raw_train = np.delete(raw_train, 256, axis=1)\n",
    "raw_test = np.delete(raw_test, 256, axis=1)\n",
    "\n",
    "## NOT COMPLETELY SURE WE NEED DUMMY ONES\n",
    "\n",
    "# Function to create array of dummy ones and returned \n",
    "# columnar vector\n",
    "def make_dummy_vector(target):\n",
    "   temp = np.ones(len(target))\n",
    "   return temp[np.newaxis].T\n",
    "\n",
    "# Create dummy 1 values\n",
    "dummy_train = make_dummy_vector(raw_train)\n",
    "dummy_test = make_dummy_vector(raw_test)\n",
    "\n",
    "# Add dummy data to feature matrices\n",
    "X_train = np.concatenate((dummy_train, raw_train), axis=1)\n",
    "X_test = np.concatenate((dummy_test, raw_test), axis=1)\n",
    "\n",
    "\n",
    "# In case we don't need dummy ones\n",
    "#X_train = raw_train\n",
    "#X_test = raw_test"
   ]
  },
  {
   "cell_type": "code",
   "execution_count": 15,
   "metadata": {},
   "outputs": [
    {
     "name": "stdout",
     "output_type": "stream",
     "text": [
      "[   0.    0.    0.    0.    0.    0.    0.    0.   11.  133.  195.    7.\n",
      "    0.    0.    0.    0.    0.    0.    0.    0.    0.    0.   12.  120.\n",
      "  220.  255.  149.    2.    0.    0.    0.    0.    0.    0.    0.   20.\n",
      "  113.  172.  239.  255.  255.   72.    0.    0.    0.    0.    0.    0.\n",
      "    0.    0.  122.  255.  253.  174.  105.  155.  255.    3.    0.    0.\n",
      "    0.    0.    0.    0.    0.   73.  243.  183.   17.    0.    0.  144.\n",
      "  244.    2.    0.    0.    0.    0.   30.   28.    0.    0.    0.    0.\n",
      "    0.    0.    0.   98.  201.    0.    0.   15.  102.  179.  255.  174.\n",
      "    0.    0.    0.    0.    0.    0.    0.  155.  212.   90.  167.  253.\n",
      "  255.  206.   94.   16.    0.    0.    0.    0.    0.    0.   25.  223.\n",
      "  255.  239.  139.   64.   43.    0.    0.    0.    0.    0.    0.    0.\n",
      "   37.  154.  251.  255.  166.   12.    0.    0.    0.    0.    0.    0.\n",
      "    0.   22.  116.  205.  252.  173.   97.  255.  109.    0.    0.    0.\n",
      "    0.    0.    0.    0.   90.  248.  198.   93.   14.    0.   16.  255.\n",
      "   29.    0.    0.    0.    0.    0.    0.    0.   62.   29.    0.    0.\n",
      "    0.    0.   61.  249.   23.    0.    0.    0.    0.    0.    0.    0.\n",
      "    0.    0.    0.    0.    0.    0.  119.  203.    0.    0.    0.    0.\n",
      "    0.    0.    0.    0.    0.    0.    0.    0.    0.    0.  177.  180.\n",
      "    0.    0.    0.    0.    0.    0.    0.    0.    0.    0.    0.    0.\n",
      "    0.    7.  238.  134.    0.    0.    0.    0.    0.    0.    0.    0.\n",
      "    0.    0.    0.    0.    0.   14.  148.   32.    0.    0.    0.    0.\n",
      "    0.    0.    0.    0.]\n"
     ]
    }
   ],
   "source": [
    "# Data for a single sample\n",
    "print raw_train[0]"
   ]
  },
  {
   "cell_type": "code",
   "execution_count": 19,
   "metadata": {
    "collapsed": true
   },
   "outputs": [],
   "source": [
    "## This is not completely working, we need to figure out why the image seems upside down ##\n",
    "\n",
    "# Displays a single sample for context\n",
    "def visualize_sample(data,target):\n",
    "    temp = np.reshape(data[target],(16,16))\n",
    "    img = Image.fromarray(temp)\n",
    "    img.show()\n",
    "    \n",
    "# Example call to function\n",
    "visualize_sample(raw_train, 1200)"
   ]
  },
  {
   "cell_type": "code",
   "execution_count": 20,
   "metadata": {
    "collapsed": true
   },
   "outputs": [],
   "source": [
    "# NOT YET NEEDED, INCORRECT FIRST ATTEMPT AT ASSIGNMENT\n",
    "\n",
    "# Compute optimal weight vector w = (X^T * X)^-1 (X^T * Y)\n",
    "# def calc_w_vector(X, y):\n",
    "#     return np.dot(inv(np.dot(X.T,X)), np.dot(X.T,y))\n",
    "\n",
    "# w_train = calc_w_vector(X_train,y_train)\n",
    "# w_test = calc_w_vector(X_test,y_test)\n",
    "\n",
    "# Computer linear regression function\n",
    "# target_function_train = np.dot(X_test,w_test)\n",
    "# target_function_test = np.dot(X_test,w_test)\n",
    "\n",
    "# # Plot the values gathered above\n",
    "# fig = plt.figure(figsize=(9,6))\n",
    "# plt.plot(target_function_train)\n",
    "# fig.suptitle('Linear Regression Function for X_train', fontsize=16)\n",
    "# plt.xlabel('Sample number', fontsize=16)\n",
    "# plt.ylabel('Intensity', fontsize=16)\n",
    "\n",
    "# fig = plt.figure(figsize=(9,6))\n",
    "# plt.plot(target_function_test)\n",
    "# fig.suptitle('Linear Regression Function for X_test', fontsize=16)\n",
    "# plt.xlabel('Sample number', fontsize=16)\n",
    "# plt.ylabel('Intensity', fontsize=16)\n",
    "\n",
    "# sigmoid_train = calc_sigmoid(target_function_train)\n",
    "# sigmoid_test = calc_sigmoid(target_function_test)\n",
    "\n",
    "# # Plot the values gathered above\n",
    "# fig = plt.figure(figsize=(9,6))\n",
    "# plt.plot(sigmoid_train)\n",
    "# fig.suptitle('Sigmoid Function for X_train', fontsize=16)\n",
    "# plt.xlabel('Sample number', fontsize=16)\n",
    "# plt.ylabel('Intensity', fontsize=16)\n",
    "\n",
    "# fig = plt.figure(figsize=(9,6))\n",
    "# plt.plot(sigmoid_test)\n",
    "# fig.suptitle('Sigmoid Function for X_test', fontsize=16)\n",
    "# plt.xlabel('Sample number', fontsize=16)\n",
    "# plt.ylabel('Intensity', fontsize=16)"
   ]
  },
  {
   "cell_type": "code",
   "execution_count": 21,
   "metadata": {
    "collapsed": true
   },
   "outputs": [],
   "source": [
    "# Calculate sigmoid function\n",
    "def calc_sigmoid(target_function):\n",
    "    return (1 / (1 + np.exp(-target_function)))"
   ]
  },
  {
   "cell_type": "code",
   "execution_count": 32,
   "metadata": {},
   "outputs": [
    {
     "name": "stdout",
     "output_type": "stream",
     "text": [
      "10\n"
     ]
    }
   ],
   "source": [
    "print len(np.arange(0,5,0.5))"
   ]
  },
  {
   "cell_type": "code",
   "execution_count": 76,
   "metadata": {
    "scrolled": true
   },
   "outputs": [
    {
     "name": "stderr",
     "output_type": "stream",
     "text": [
      "C:\\Anaconda2\\lib\\site-packages\\ipykernel\\__main__.py:3: RuntimeWarning: overflow encountered in exp\n",
      "  app.launch_new_instance()\n"
     ]
    }
   ],
   "source": [
    "## Part 1\n",
    "\n",
    "w_vectors = []\n",
    "learning_rates = np.arange(0.0001,1.05,0.05) # 10 values between 0 and 5\n",
    "\n",
    "def batch_learning(X,y,n,lrn_rate,iterations):\n",
    "    w_batch = np.zeros(len(X[0]))\n",
    "    \n",
    "    ## Repeat until convergence  \n",
    "    ctr = 0\n",
    "    for i in range(iterations):\n",
    "        d = np.zeros(len(X[0]))\n",
    "        #Range argument limits batch size\n",
    "        while(ctr < 1400):\n",
    "            for i in range(n):\n",
    "                y_hat_i = calc_sigmoid((np.dot(w_batch.T,X[ctr])))      \n",
    "                error = y[i] - y_hat_i\n",
    "                test = error * X[i]\n",
    "                d = np.add(d,test)\n",
    "                ctr += 1\n",
    "            modified_descent = lrn_rate * d\n",
    "            w_batch = np.add(w_batch,modified_descent) \n",
    "    return w_batch\n",
    "\n",
    "for i in learning_rates:\n",
    "    w_vectors.append(batch_learning(X_train,y_train,200,i,1))\n",
    "\n",
    "\n",
    "## Consider experimenting with alternate convergence conditions\n",
    "# - Cease to change in objective value\n",
    "# - norm of the gradient within a threshold"
   ]
  },
  {
   "cell_type": "code",
   "execution_count": 79,
   "metadata": {},
   "outputs": [
    {
     "data": {
      "text/plain": [
       "<matplotlib.text.Text at 0x96e57f0>"
      ]
     },
     "execution_count": 79,
     "metadata": {},
     "output_type": "execute_result"
    },
    {
     "data": {
      "image/png": "[encoded data removed]",
      "text/plain": [
       "<matplotlib.figure.Figure at 0x988cba8>"
      ]
     },
     "metadata": {},
     "output_type": "display_data"
    }
   ],
   "source": [
    "norms = []\n",
    "\n",
    "for i in range(len(w_vectors)):\n",
    "    norms.append(np.linalg.norm(w_vectors[i]))\n",
    "\n",
    "# Plot the values gathered above\n",
    "fig = plt.figure(figsize=(9,6))\n",
    "plt.plot(learning_rates,norms)\n",
    "fig.suptitle('Effect of Learning Rate on w Vector Norm', fontsize=16)\n",
    "plt.xlabel('Learning Rate', fontsize=16)\n",
    "plt.ylabel('Norm Value', fontsize=16)"
   ]
  },
  {
   "cell_type": "code",
   "execution_count": 78,
   "metadata": {},
   "outputs": [
    {
     "name": "stdout",
     "output_type": "stream",
     "text": [
      "[ 0.    0.05  0.1   0.15  0.2   0.25  0.3   0.35  0.4   0.45  0.5   0.55\n",
      "  0.6   0.65  0.7   0.75  0.8   0.85  0.9   0.95  1.  ]\n"
     ]
    }
   ],
   "source": [
    "print learning_rates"
   ]
  },
  {
   "cell_type": "code",
   "execution_count": 66,
   "metadata": {},
   "outputs": [
    {
     "name": "stdout",
     "output_type": "stream",
     "text": [
      "[ -0.07   -0.047  -0.232  -0.36   -0.581  -0.97   -1.927  -3.125  -4.005\n",
      "  -3.455  -1.647  -0.992  -0.358  -0.182  -0.195  -0.934  -1.089  -0.168\n",
      "  -0.707  -1.396  -2.729  -4.622  -7.245  -9.311 -10.105  -8.565  -4.675\n",
      "  -2.408  -0.986  -0.695  -1.625  -2.469  -1.37   -0.264  -0.989  -2.529\n",
      "  -4.506  -6.766  -9.043 -10.457 -10.551  -8.744  -5.188  -2.593  -1.496\n",
      "  -2.158  -2.806  -2.576  -1.227  -0.345  -1.951  -3.431  -5.228  -6.644\n",
      "  -7.641  -8.208  -8.516  -7.958  -5.195  -3.087  -2.966  -3.136  -3.055\n",
      "  -2.668  -1.441  -0.805  -2.494  -4.082  -5.211  -5.916  -5.38   -5.553\n",
      "  -7.252  -7.319  -5.645  -4.551  -3.984  -3.594  -3.299  -3.582  -2.021\n",
      "  -0.862  -2.446  -4.115  -4.719  -3.914  -3.216  -4.071  -6.189  -7.45\n",
      "  -6.958  -5.854  -4.688  -4.025  -4.281  -3.955  -1.98   -0.901  -2.468\n",
      "  -3.35   -2.945  -2.113  -2.018  -3.56   -5.955  -8.269  -8.524  -6.588\n",
      "  -5.202  -4.873  -4.268  -3.449  -1.631  -0.732  -1.951  -1.92   -1.612\n",
      "  -1.179  -1.519  -3.926  -7.036  -9.547  -9.247  -7.104  -5.801  -4.519\n",
      "  -3.743  -2.972  -1.305  -0.834  -1.693  -1.434  -1.059  -1.198  -2.632\n",
      "  -5.836  -8.757  -9.898  -9.111  -7.009  -5.049  -3.333  -2.736  -2.108\n",
      "  -0.975  -0.878  -1.565  -1.372  -1.619  -2.694  -4.851  -7.683  -9.317\n",
      " -10.291  -8.623  -5.727  -3.585  -2.431  -1.855  -1.649  -0.878  -0.674\n",
      "  -1.465  -1.979  -3.356  -5.381  -7.326  -8.798 -10.181  -9.309  -6.823\n",
      "  -4.224  -2.649  -1.917  -1.6    -1.682  -0.869  -0.713  -1.943  -3.337\n",
      "  -5.365  -7.372  -8.731  -9.4    -9.255  -7.807  -5.255  -3.522  -2.273\n",
      "  -1.615  -1.457  -1.588  -0.864  -1.049  -2.907  -5.411  -7.621  -8.505\n",
      "  -8.259  -7.291  -6.411  -5.696  -4.194  -3.299  -2.176  -1.418  -1.079\n",
      "  -1.022  -0.472  -1.902  -5.527  -8.087  -8.472  -7.015  -5.352  -3.98\n",
      "  -4.165  -4.127  -3.492  -2.584  -1.89   -1.513  -1.281  -0.978  -0.424\n",
      "  -3.744  -8.03   -7.952  -5.662  -3.339  -2.269  -1.951  -2.563  -2.522\n",
      "  -2.235  -1.381  -1.152  -1.022  -1.203  -1.259  -0.758  -3.331  -4.542\n",
      "  -2.849  -1.139  -0.697  -0.492  -0.55   -0.821  -0.838  -0.643  -0.34\n",
      "  -0.243  -0.085  -0.295  -0.549  -0.331]\n"
     ]
    }
   ],
   "source": [
    "print w_vectors[0]"
   ]
  },
  {
   "cell_type": "code",
   "execution_count": null,
   "metadata": {
    "collapsed": true
   },
   "outputs": [],
   "source": [
    "# Experimenting with different learing values\n",
    "\n",
    "## Thought: Maybe we can use the norm to quantify the effect of the learning rate on our w vector\n"
   ]
  }
 ],
 "metadata": {
  "kernelspec": {
   "display_name": "Python 2",
   "language": "python",
   "name": "python2"
  },
  "language_info": {
   "codemirror_mode": {
    "name": "ipython",
    "version": 2
   },
   "file_extension": ".py",
   "mimetype": "text/x-python",
   "name": "python",
   "nbconvert_exporter": "python",
   "pygments_lexer": "ipython2",
   "version": "2.7.11"
  }
 },
 "nbformat": 4,
 "nbformat_minor": 1
}
