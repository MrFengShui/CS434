{
 "cells": [
  {
   "cell_type": "code",
   "execution_count": 1,
   "metadata": {
    "collapsed": true
   },
   "outputs": [],
   "source": [
    "# Plotting library\n",
    "import matplotlib.pyplot as plt\n",
    "import matplotlib.image as mpimg\n",
    "from matplotlib import gridspec\n",
    "\n",
    "# Numerical Library\n",
    "import numpy as np\n",
    "from numpy import genfromtxt\n",
    "from numpy.linalg import inv\n",
    "\n",
    "import math\n",
    "\n",
    "from scipy.special import expit\n",
    "\n",
    "# Image manipulation library\n",
    "from PIL import Image\n",
    "\n",
    "# Limit printout to 3 decimal places\n",
    "np.set_printoptions(precision=3,suppress=True)\n",
    "\n",
    "# Allows for printing inline for jupyter notebook\n",
    "%matplotlib inline \n",
    "\n",
    "# http://scikit-learn.org/stable/tutorial/machine_learning_map/"
   ]
  },
  {
   "cell_type": "code",
   "execution_count": 2,
   "metadata": {
    "collapsed": true
   },
   "outputs": [],
   "source": [
    "# Load datasets and store in ndarray\n",
    "raw_train = genfromtxt('usps-4-9-train.csv', delimiter=',')\n",
    "raw_test = genfromtxt('usps-4-9-test.csv', delimiter=',')"
   ]
  },
  {
   "cell_type": "code",
   "execution_count": 3,
   "metadata": {
    "collapsed": true
   },
   "outputs": [],
   "source": [
    "# Split off known target values\n",
    "y_train = raw_train[:,256]\n",
    "y_test = raw_test[:,256]\n",
    "\n",
    "# Add dimension to y_train and transpose\n",
    "y_train = y_train[np.newaxis].T\n",
    "y_test = y_test[np.newaxis].T\n",
    "\n",
    "# Remove column 256 from X\n",
    "raw_train = np.delete(raw_train, 256, axis=1)\n",
    "raw_test = np.delete(raw_test, 256, axis=1)\n",
    "\n",
    "# Function to create array of dummy ones and returned \n",
    "# columnar vector\n",
    "def make_dummy_vector(target):\n",
    "    temp = np.ones(len(target))\n",
    "    return temp[np.newaxis].T\n",
    "\n",
    "# Create dummy 1 values\n",
    "dummy_train = make_dummy_vector(raw_train)\n",
    "dummy_test = make_dummy_vector(raw_test)\n",
    "\n",
    "# Add dummy data to feature matrices\n",
    "X_train = np.concatenate((dummy_train, raw_train), axis=1)\n",
    "X_test = np.concatenate((dummy_test, raw_test), axis=1)"
   ]
  },
  {
   "cell_type": "code",
   "execution_count": 4,
   "metadata": {},
   "outputs": [
    {
     "name": "stdout",
     "output_type": "stream",
     "text": [
      "[   0.    0.    0.    0.    0.    0.    0.    0.   11.  133.  195.    7.\n",
      "    0.    0.    0.    0.    0.    0.    0.    0.    0.    0.   12.  120.\n",
      "  220.  255.  149.    2.    0.    0.    0.    0.    0.    0.    0.   20.\n",
      "  113.  172.  239.  255.  255.   72.    0.    0.    0.    0.    0.    0.\n",
      "    0.    0.  122.  255.  253.  174.  105.  155.  255.    3.    0.    0.\n",
      "    0.    0.    0.    0.    0.   73.  243.  183.   17.    0.    0.  144.\n",
      "  244.    2.    0.    0.    0.    0.   30.   28.    0.    0.    0.    0.\n",
      "    0.    0.    0.   98.  201.    0.    0.   15.  102.  179.  255.  174.\n",
      "    0.    0.    0.    0.    0.    0.    0.  155.  212.   90.  167.  253.\n",
      "  255.  206.   94.   16.    0.    0.    0.    0.    0.    0.   25.  223.\n",
      "  255.  239.  139.   64.   43.    0.    0.    0.    0.    0.    0.    0.\n",
      "   37.  154.  251.  255.  166.   12.    0.    0.    0.    0.    0.    0.\n",
      "    0.   22.  116.  205.  252.  173.   97.  255.  109.    0.    0.    0.\n",
      "    0.    0.    0.    0.   90.  248.  198.   93.   14.    0.   16.  255.\n",
      "   29.    0.    0.    0.    0.    0.    0.    0.   62.   29.    0.    0.\n",
      "    0.    0.   61.  249.   23.    0.    0.    0.    0.    0.    0.    0.\n",
      "    0.    0.    0.    0.    0.    0.  119.  203.    0.    0.    0.    0.\n",
      "    0.    0.    0.    0.    0.    0.    0.    0.    0.    0.  177.  180.\n",
      "    0.    0.    0.    0.    0.    0.    0.    0.    0.    0.    0.    0.\n",
      "    0.    7.  238.  134.    0.    0.    0.    0.    0.    0.    0.    0.\n",
      "    0.    0.    0.    0.    0.   14.  148.   32.    0.    0.    0.    0.\n",
      "    0.    0.    0.    0.]\n"
     ]
    }
   ],
   "source": [
    "# Data for a single sample\n",
    "print raw_train[0]"
   ]
  },
  {
   "cell_type": "code",
   "execution_count": 359,
   "metadata": {
    "collapsed": true
   },
   "outputs": [],
   "source": [
    "# Displays a single sample for context\n",
    "def visualize_sample(data,target):\n",
    "    temp = np.reshape(data[target],(16,16), order='F')\n",
    "    img = Image.fromarray(temp)\n",
    "    img.show()\n",
    "    \n",
    "# Example call to function\n",
    "visualize_sample(raw_train, 1200)"
   ]
  },
  {
   "cell_type": "code",
   "execution_count": 238,
   "metadata": {
    "collapsed": true
   },
   "outputs": [],
   "source": [
    "# Calculate sigmoid function\n",
    "def calc_sigmoid(target_function):\n",
    "    return (1 / (1 + np.exp(-target_function)))\n",
    "\n",
    "# Try to predict\n",
    "def prediction(X,w):\n",
    "    values = []\n",
    "    for i in range(len(X)):      \n",
    "        values.append(calc_sigmoid(np.dot(w.T,X[i])))\n",
    "        \n",
    "    fours = values[0:(len(X)/2)]\n",
    "    nines = values[(len(X)/2):len(X)]\n",
    "    ctr_four, ctr_nine = 0.0, 0.0\n",
    "    \n",
    "    for i in range(len(X)/2):\n",
    "        if fours[i] == 0.0:\n",
    "            ctr_four += 1\n",
    "        if nines[i] == 1.0:\n",
    "            ctr_nine += 1  \n",
    "    return  ((ctr_four / (len(X)/2) * 100), (ctr_nine / (len(X)/2) * 100)) \n",
    "                "
   ]
  },
  {
   "cell_type": "code",
   "execution_count": 204,
   "metadata": {
    "collapsed": true
   },
   "outputs": [],
   "source": [
    "## Consider swapping order of bottom conditional, update to w should happend before break\n",
    "\n",
    "def batch_learning(X, y, n, eta, epsilon = 0.001):\n",
    "    accuracy = []\n",
    "    length = len(X[0])\n",
    "    w, old_d = np.zeros(length), np.zeros(length)\n",
    "    ctr = 0\n",
    "    while True:\n",
    "        new_d = np.zeros(length)\n",
    "        for i in range(n):\n",
    "            y_hat_i = 1 / (1 + np.exp(-np.dot(w.T, X[i])))\n",
    "            error = y[i] - y_hat_i\n",
    "            new_d = np.add(new_d, error * X[i])\n",
    "        d_norm = np.linalg.norm(old_d - new_d, 2)\n",
    "        #print d_norm\n",
    "        ctr = ctr + 1\n",
    "        if d_norm < epsilon:\n",
    "            break\n",
    "        else:\n",
    "            w, old_d = np.add(w, eta * new_d), new_d\n",
    "            accuracy.append(prediction(X,w))\n",
    "    return w, ctr, accuracy"
   ]
  },
  {
   "cell_type": "code",
   "execution_count": 364,
   "metadata": {},
   "outputs": [
    {
     "name": "stderr",
     "output_type": "stream",
     "text": [
      "C:\\Anaconda2\\lib\\site-packages\\ipykernel\\__main__.py:3: RuntimeWarning: overflow encountered in exp\n",
      "  app.launch_new_instance()\n",
      "C:\\Anaconda2\\lib\\site-packages\\ipykernel\\__main__.py:11: RuntimeWarning: overflow encountered in exp\n"
     ]
    },
    {
     "data": {
      "text/plain": [
       "<matplotlib.text.Text at 0x1067a320>"
      ]
     },
     "execution_count": 364,
     "metadata": {},
     "output_type": "execute_result"
    },
    {
     "data": {
      "image/png": "[encoded data removed]",
      "text/plain": [
       "<matplotlib.figure.Figure at 0x133e1908>"
      ]
     },
     "metadata": {},
     "output_type": "display_data"
    }
   ],
   "source": [
    "## Part 2\n",
    "w_train = []\n",
    "iter_train = []\n",
    "\n",
    "#for i in learning_rates:\n",
    "w, ctr, accuracy = batch_learning(X_train,y_train,1400,0.001)\n",
    "w_train.append(w)\n",
    "iter_train.append(ctr)\n",
    "acc_train = accuracy\n",
    "\n",
    "four_acc_per_epoch = []\n",
    "nine_acc_per_epoch = []\n",
    "for i,(a, b) in enumerate(acc_train):\n",
    "    four_acc_per_epoch.append(a)\n",
    "    nine_acc_per_epoch.append(b)\n",
    "\n",
    "# Plot the values gathered above\n",
    "fig = plt.figure(figsize=(9,6))\n",
    "plt.plot(range(33),four_acc_per_epoch,label=\"Four\")\n",
    "plt.plot(range(33),nine_acc_per_epoch,label=\"Nine\")\n",
    "plt.legend()\n",
    "fig.suptitle('Training Prediction Precentage', fontsize=16)\n",
    "plt.xlabel('Iterations', fontsize=16)\n",
    "plt.ylabel('Prediction Percent', fontsize=16)"
   ]
  },
  {
   "cell_type": "code",
   "execution_count": 363,
   "metadata": {},
   "outputs": [
    {
     "name": "stderr",
     "output_type": "stream",
     "text": [
      "C:\\Anaconda2\\lib\\site-packages\\ipykernel\\__main__.py:3: RuntimeWarning: overflow encountered in exp\n",
      "  app.launch_new_instance()\n",
      "C:\\Anaconda2\\lib\\site-packages\\ipykernel\\__main__.py:11: RuntimeWarning: overflow encountered in exp\n"
     ]
    },
    {
     "data": {
      "text/plain": [
       "<matplotlib.text.Text at 0x12f32908>"
      ]
     },
     "execution_count": 363,
     "metadata": {},
     "output_type": "execute_result"
    },
    {
     "data": {
      "image/png": "[encoded data removed]",
      "text/plain": [
       "<matplotlib.figure.Figure at 0x12ee6940>"
      ]
     },
     "metadata": {},
     "output_type": "display_data"
    }
   ],
   "source": [
    "w_test = []\n",
    "iter_test = []\n",
    "\n",
    "w, ctr, accuracy = batch_learning(X_test,y_test,800,0.001)\n",
    "w_test.append(w)\n",
    "iter_test.append(ctr)\n",
    "acc_test = accuracy\n",
    "\n",
    "four_acc_per_epoch = []\n",
    "nine_acc_per_epoch = []\n",
    "for i,(a, b) in enumerate(acc_test):\n",
    "    four_acc_per_epoch.append(a)\n",
    "    nine_acc_per_epoch.append(b)\n",
    "    \n",
    "fig = plt.figure(figsize=(9,6))\n",
    "plt.plot(range(35),four_acc_per_epoch,label=\"Four\")\n",
    "plt.plot(range(35),nine_acc_per_epoch,label=\"Nine\")\n",
    "plt.legend()\n",
    "fig.suptitle('Testing Prediction Precentage', fontsize=16)\n",
    "plt.xlabel('Iterations', fontsize=16)\n",
    "plt.ylabel('Prediction Percent', fontsize=16)\n"
   ]
  },
  {
   "cell_type": "code",
   "execution_count": 249,
   "metadata": {},
   "outputs": [
    {
     "name": "stderr",
     "output_type": "stream",
     "text": [
      "C:\\Anaconda2\\lib\\site-packages\\ipykernel\\__main__.py:3: RuntimeWarning: overflow encountered in exp\n",
      "  app.launch_new_instance()\n",
      "C:\\Anaconda2\\lib\\site-packages\\ipykernel\\__main__.py:11: RuntimeWarning: overflow encountered in exp\n"
     ]
    }
   ],
   "source": [
    "w, ctr, accuracy = batch_learning(X_train,y_train,1400,100000000000000000000)"
   ]
  },
  {
   "cell_type": "code",
   "execution_count": 248,
   "metadata": {},
   "outputs": [
    {
     "name": "stdout",
     "output_type": "stream",
     "text": [
      "34\n"
     ]
    }
   ],
   "source": [
    "print ctr"
   ]
  },
  {
   "cell_type": "code",
   "execution_count": 344,
   "metadata": {
    "collapsed": true
   },
   "outputs": [],
   "source": [
    "def batch_learning_reg(X, y, n, eta, lam,epsilon = 0.001):\n",
    "    length = len(X[0])\n",
    "    w, old_d = np.zeros(length), np.zeros(length)\n",
    "    while True:\n",
    "        new_d = np.zeros(length)\n",
    "        for i in range(n):\n",
    "            y_hat_i = 1 / (1 + np.exp(-np.dot(w.T, X[i])))\n",
    "            error = y[i] - y_hat_i\n",
    "            new_d = np.add(new_d, error * X[i])\n",
    "        d_norm = np.linalg.norm(old_d - new_d, 2)\n",
    "        if d_norm < epsilon:\n",
    "            break\n",
    "        else:\n",
    "            w, old_d = np.add(np.add(w, eta * new_d), (lam * np.linalg.norm(w,2))) , new_d\n",
    "    return w"
   ]
  },
  {
   "cell_type": "code",
   "execution_count": 281,
   "metadata": {},
   "outputs": [
    {
     "name": "stdout",
     "output_type": "stream",
     "text": [
      "13\n",
      "[(43.75, 99.75), (100.0, 0.0), (0.0, 100.0), (100.0, 63.74999999999999), (50.5, 100.0), (100.0, 69.0), (68.0, 99.75), (98.5, 88.75), (91.75, 98.5), (95.0, 97.5), (94.75, 98.0), (95.5, 98.0)]\n"
     ]
    },
    {
     "name": "stderr",
     "output_type": "stream",
     "text": [
      "C:\\Anaconda2\\lib\\site-packages\\ipykernel\\__main__.py:3: RuntimeWarning: overflow encountered in exp\n",
      "  app.launch_new_instance()\n",
      "C:\\Anaconda2\\lib\\site-packages\\ipykernel\\__main__.py:9: RuntimeWarning: overflow encountered in exp\n"
     ]
    }
   ],
   "source": [
    "w, ctr, accuracy = batch_learning_reg(X_test,y_test,800,0.00003,0.001)\n",
    "\n",
    "#print w\n",
    "print ctr\n",
    "print accuracy"
   ]
  },
  {
   "cell_type": "code",
   "execution_count": 354,
   "metadata": {},
   "outputs": [
    {
     "name": "stderr",
     "output_type": "stream",
     "text": [
      "C:\\Anaconda2\\lib\\site-packages\\ipykernel\\__main__.py:7: RuntimeWarning: overflow encountered in exp\n"
     ]
    }
   ],
   "source": [
    "lambdas = [0.000001,0.00001,0.0001,0.001,0.01,0.1]\n",
    "w_temp = []\n",
    "\n",
    "for i in lambdas:\n",
    "    w  = batch_learning_reg(X_test,y_test,800,0.00003,i)\n",
    "    w_temp.append(w)"
   ]
  },
  {
   "cell_type": "code",
   "execution_count": 355,
   "metadata": {},
   "outputs": [
    {
     "name": "stderr",
     "output_type": "stream",
     "text": [
      "C:\\Anaconda2\\lib\\site-packages\\ipykernel\\__main__.py:3: RuntimeWarning: overflow encountered in exp\n",
      "  app.launch_new_instance()\n"
     ]
    }
   ],
   "source": [
    "predictions = []\n",
    "\n",
    "for i in range(len(w_temp)):\n",
    "    predictions.append(prediction(X_test,w_temp[i]))\n",
    "    "
   ]
  },
  {
   "cell_type": "code",
   "execution_count": 356,
   "metadata": {},
   "outputs": [
    {
     "name": "stdout",
     "output_type": "stream",
     "text": [
      "[(100.0, 100.0), (98.0, 98.25), (96.75, 97.25), (76.75, 98.75), (0.0, 100.0), (0.0, 100.0)]\n"
     ]
    }
   ],
   "source": [
    "print predictions\n",
    "\n",
    "four_test = []\n",
    "nine_test = []\n",
    "for i,(a, b) in enumerate(predictions):\n",
    "    four_test.append(a)\n",
    "    nine_test.append(b)"
   ]
  },
  {
   "cell_type": "code",
   "execution_count": 367,
   "metadata": {},
   "outputs": [
    {
     "data": {
      "text/plain": [
       "[<matplotlib.lines.Line2D at 0x13a9e940>]"
      ]
     },
     "execution_count": 367,
     "metadata": {},
     "output_type": "execute_result"
    },
    {
     "data": {
      "image/png": "[encoded data removed]",
      "text/plain": [
       "<matplotlib.figure.Figure at 0x13a9e908>"
      ]
     },
     "metadata": {},
     "output_type": "display_data"
    }
   ],
   "source": [
    "plt.plot(lambdas,nine_test)\n",
    "plt.plot(lambdas,four_test)"
   ]
  },
  {
   "cell_type": "code",
   "execution_count": null,
   "metadata": {
    "collapsed": true
   },
   "outputs": [],
   "source": []
  }
 ],
 "metadata": {
  "kernelspec": {
   "display_name": "Python 2",
   "language": "python",
   "name": "python2"
  },
  "language_info": {
   "codemirror_mode": {
    "name": "ipython",
    "version": 2
   },
   "file_extension": ".py",
   "mimetype": "text/x-python",
   "name": "python",
   "nbconvert_exporter": "python",
   "pygments_lexer": "ipython2",
   "version": "2.7.11"
  }
 },
 "nbformat": 4,
 "nbformat_minor": 1
}
