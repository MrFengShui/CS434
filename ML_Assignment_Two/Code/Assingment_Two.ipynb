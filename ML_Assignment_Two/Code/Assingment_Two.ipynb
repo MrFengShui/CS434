{
 "cells": [
  {
   "cell_type": "code",
   "execution_count": 148,
   "metadata": {
    "collapsed": true
   },
   "outputs": [],
   "source": [
    "# Plotting library\n",
    "import matplotlib.pyplot as plt\n",
    "import matplotlib.image as mpimg\n",
    "from matplotlib import gridspec\n",
    "\n",
    "# Numerical Library\n",
    "import numpy as np\n",
    "from numpy import genfromtxt\n",
    "from numpy.linalg import inv\n",
    "\n",
    "from scipy.special import expit\n",
    "\n",
    "# Image manipulation library\n",
    "from PIL import Image\n",
    "\n",
    "# Limit printout to 3 decimal places\n",
    "np.set_printoptions(precision=3,suppress=True)\n",
    "\n",
    "# Allows for printing inline for jupyter notebook\n",
    "%matplotlib inline \n",
    "\n",
    "# http://scikit-learn.org/stable/tutorial/machine_learning_map/"
   ]
  },
  {
   "cell_type": "code",
   "execution_count": 2,
   "metadata": {
    "collapsed": true
   },
   "outputs": [],
   "source": [
    "# Load datasets and store in ndarray\n",
    "raw_train = genfromtxt('usps-4-9-train.csv', delimiter=',')\n",
    "raw_test = genfromtxt('usps-4-9-test.csv', delimiter=',')"
   ]
  },
  {
   "cell_type": "code",
   "execution_count": 12,
   "metadata": {},
   "outputs": [
    {
     "name": "stdout",
     "output_type": "stream",
     "text": [
      "[[ 0.]\n",
      " [ 0.]\n",
      " [ 0.]\n",
      " ..., \n",
      " [ 1.]\n",
      " [ 1.]\n",
      " [ 1.]]\n"
     ]
    }
   ],
   "source": [
    "print raw_train[:,256][np.newaxis].T"
   ]
  },
  {
   "cell_type": "code",
   "execution_count": 13,
   "metadata": {
    "collapsed": true
   },
   "outputs": [],
   "source": [
    "# Split off known target values\n",
    "y_train = raw_train[:,256]\n",
    "y_test = raw_test[:,256]\n",
    "\n",
    "# Add dimension to y_train and transpose\n",
    "y_train = y_train[np.newaxis].T\n",
    "y_test = y_test[np.newaxis].T\n",
    "\n",
    "# Remove column 256 from X\n",
    "raw_train = np.delete(raw_train, 256, axis=1)\n",
    "raw_test = np.delete(raw_test, 256, axis=1)\n",
    "\n",
    "## NOT COMPLETELY SURE WE NEED DUMMY ONES\n",
    "\n",
    "# Function to create array of dummy ones and returned \n",
    "# columnar vector\n",
    "def make_dummy_vector(target):\n",
    "   temp = np.ones(len(target))\n",
    "   return temp[np.newaxis].T\n",
    "\n",
    "# Create dummy 1 values\n",
    "dummy_train = make_dummy_vector(raw_train)\n",
    "dummy_test = make_dummy_vector(raw_test)\n",
    "\n",
    "# Add dummy data to feature matrices\n",
    "X_train = np.concatenate((dummy_train, raw_train), axis=1)\n",
    "X_test = np.concatenate((dummy_test, raw_test), axis=1)\n",
    "\n",
    "\n",
    "# In case we don't need dummy ones\n",
    "#X_train = raw_train\n",
    "#X_test = raw_test"
   ]
  },
  {
   "cell_type": "code",
   "execution_count": 15,
   "metadata": {},
   "outputs": [
    {
     "name": "stdout",
     "output_type": "stream",
     "text": [
      "[   0.    0.    0.    0.    0.    0.    0.    0.   11.  133.  195.    7.\n",
      "    0.    0.    0.    0.    0.    0.    0.    0.    0.    0.   12.  120.\n",
      "  220.  255.  149.    2.    0.    0.    0.    0.    0.    0.    0.   20.\n",
      "  113.  172.  239.  255.  255.   72.    0.    0.    0.    0.    0.    0.\n",
      "    0.    0.  122.  255.  253.  174.  105.  155.  255.    3.    0.    0.\n",
      "    0.    0.    0.    0.    0.   73.  243.  183.   17.    0.    0.  144.\n",
      "  244.    2.    0.    0.    0.    0.   30.   28.    0.    0.    0.    0.\n",
      "    0.    0.    0.   98.  201.    0.    0.   15.  102.  179.  255.  174.\n",
      "    0.    0.    0.    0.    0.    0.    0.  155.  212.   90.  167.  253.\n",
      "  255.  206.   94.   16.    0.    0.    0.    0.    0.    0.   25.  223.\n",
      "  255.  239.  139.   64.   43.    0.    0.    0.    0.    0.    0.    0.\n",
      "   37.  154.  251.  255.  166.   12.    0.    0.    0.    0.    0.    0.\n",
      "    0.   22.  116.  205.  252.  173.   97.  255.  109.    0.    0.    0.\n",
      "    0.    0.    0.    0.   90.  248.  198.   93.   14.    0.   16.  255.\n",
      "   29.    0.    0.    0.    0.    0.    0.    0.   62.   29.    0.    0.\n",
      "    0.    0.   61.  249.   23.    0.    0.    0.    0.    0.    0.    0.\n",
      "    0.    0.    0.    0.    0.    0.  119.  203.    0.    0.    0.    0.\n",
      "    0.    0.    0.    0.    0.    0.    0.    0.    0.    0.  177.  180.\n",
      "    0.    0.    0.    0.    0.    0.    0.    0.    0.    0.    0.    0.\n",
      "    0.    7.  238.  134.    0.    0.    0.    0.    0.    0.    0.    0.\n",
      "    0.    0.    0.    0.    0.   14.  148.   32.    0.    0.    0.    0.\n",
      "    0.    0.    0.    0.]\n"
     ]
    }
   ],
   "source": [
    "# Data for a single sample\n",
    "print raw_train[0]"
   ]
  },
  {
   "cell_type": "code",
   "execution_count": 19,
   "metadata": {
    "collapsed": true
   },
   "outputs": [],
   "source": [
    "## This is not completely working, we need to figure out why the image seems upside down ##\n",
    "\n",
    "# Displays a single sample for context\n",
    "def visualize_sample(data,target):\n",
    "    temp = np.reshape(data[target],(16,16))\n",
    "    img = Image.fromarray(temp)\n",
    "    img.show()\n",
    "    \n",
    "# Example call to function\n",
    "visualize_sample(raw_train, 1200)"
   ]
  },
  {
   "cell_type": "code",
   "execution_count": 20,
   "metadata": {
    "collapsed": true
   },
   "outputs": [],
   "source": [
    "# NOT YET NEEDED, INCORRECT FIRST ATTEMPT AT ASSIGNMENT\n",
    "\n",
    "# Compute optimal weight vector w = (X^T * X)^-1 (X^T * Y)\n",
    "# def calc_w_vector(X, y):\n",
    "#     return np.dot(inv(np.dot(X.T,X)), np.dot(X.T,y))\n",
    "\n",
    "# w_train = calc_w_vector(X_train,y_train)\n",
    "# w_test = calc_w_vector(X_test,y_test)\n",
    "\n",
    "# Computer linear regression function\n",
    "# target_function_train = np.dot(X_test,w_test)\n",
    "# target_function_test = np.dot(X_test,w_test)\n",
    "\n",
    "# # Plot the values gathered above\n",
    "# fig = plt.figure(figsize=(9,6))\n",
    "# plt.plot(target_function_train)\n",
    "# fig.suptitle('Linear Regression Function for X_train', fontsize=16)\n",
    "# plt.xlabel('Sample number', fontsize=16)\n",
    "# plt.ylabel('Intensity', fontsize=16)\n",
    "\n",
    "# fig = plt.figure(figsize=(9,6))\n",
    "# plt.plot(target_function_test)\n",
    "# fig.suptitle('Linear Regression Function for X_test', fontsize=16)\n",
    "# plt.xlabel('Sample number', fontsize=16)\n",
    "# plt.ylabel('Intensity', fontsize=16)\n",
    "\n",
    "# sigmoid_train = calc_sigmoid(target_function_train)\n",
    "# sigmoid_test = calc_sigmoid(target_function_test)\n",
    "\n",
    "# # Plot the values gathered above\n",
    "# fig = plt.figure(figsize=(9,6))\n",
    "# plt.plot(sigmoid_train)\n",
    "# fig.suptitle('Sigmoid Function for X_train', fontsize=16)\n",
    "# plt.xlabel('Sample number', fontsize=16)\n",
    "# plt.ylabel('Intensity', fontsize=16)\n",
    "\n",
    "# fig = plt.figure(figsize=(9,6))\n",
    "# plt.plot(sigmoid_test)\n",
    "# fig.suptitle('Sigmoid Function for X_test', fontsize=16)\n",
    "# plt.xlabel('Sample number', fontsize=16)\n",
    "# plt.ylabel('Intensity', fontsize=16)"
   ]
  },
  {
   "cell_type": "code",
   "execution_count": 170,
   "metadata": {
    "collapsed": true
   },
   "outputs": [],
   "source": [
    "# Calculate sigmoid function\n",
    "def calc_sigmoid(target_function):\n",
    "    return (1 / (1 + expit(target_function)))"
   ]
  },
  {
   "cell_type": "code",
   "execution_count": 171,
   "metadata": {},
   "outputs": [
    {
     "name": "stdout",
     "output_type": "stream",
     "text": [
      "10\n"
     ]
    }
   ],
   "source": [
    "print len(np.arange(0,5,0.5))"
   ]
  },
  {
   "cell_type": "code",
   "execution_count": 172,
   "metadata": {
    "collapsed": true,
    "scrolled": true
   },
   "outputs": [],
   "source": [
    "## Part 1\n",
    "\n",
    "w_vectors = []\n",
    "learning_rates = np.arange(0.0001,1.05,0.05) # 10 values between 0 and 5\n",
    "\n",
    "def batch_learning(X,y,n,lrn_rate,iterations):\n",
    "    w_batch = np.zeros(len(X[0]))\n",
    "    \n",
    "    ## Repeat until convergence  \n",
    "    ctr = 0\n",
    "    for i in range(iterations):\n",
    "        d = np.zeros(len(X[0]))\n",
    "        #Range argument limits batch size\n",
    "        while(ctr < 1400):\n",
    "            for i in range(n):\n",
    "                y_hat_i = calc_sigmoid((np.dot(w_batch.T,X[ctr])))      \n",
    "                error = y[i] - y_hat_i\n",
    "                test = error * X[i]\n",
    "                d = np.add(d,test)\n",
    "                ctr += 1\n",
    "            modified_descent = lrn_rate * d\n",
    "            w_batch = np.add(w_batch,modified_descent) \n",
    "    return w_batch\n",
    "\n",
    "for i in learning_rates:\n",
    "    w_vectors.append(batch_learning(X_train,y_train,200,i,1))\n",
    "\n",
    "\n",
    "## Consider experimenting with alternate convergence conditions\n",
    "# - Cease to change in objective value\n",
    "# - norm of the gradient within a threshold"
   ]
  },
  {
   "cell_type": "code",
   "execution_count": 173,
   "metadata": {},
   "outputs": [
    {
     "data": {
      "text/plain": [
       "<matplotlib.text.Text at 0xd0090f0>"
      ]
     },
     "execution_count": 173,
     "metadata": {},
     "output_type": "execute_result"
    },
    {
     "data": {
      "image/png": "[encoded data removed]",
      "text/plain": [
       "<matplotlib.figure.Figure at 0xc207b38>"
      ]
     },
     "metadata": {},
     "output_type": "display_data"
    }
   ],
   "source": [
    "# Experimenting with different learing values\n",
    "\n",
    "## Thought: Maybe we can use the norm to quantify the effect of the learning rate on our w vector\n",
    "norms = []\n",
    "\n",
    "for i in range(len(w_vectors)):\n",
    "    norms.append(np.linalg.norm(w_vectors[i]))\n",
    "\n",
    "# Plot the values gathered above\n",
    "fig = plt.figure(figsize=(9,6))\n",
    "plt.plot(learning_rates,norms)\n",
    "fig.suptitle('Effect of Learning Rate on w Vector Norm', fontsize=16)\n",
    "plt.xlabel('Learning Rate', fontsize=16)\n",
    "plt.ylabel('Norm Value', fontsize=16)"
   ]
  },
  {
   "cell_type": "code",
   "execution_count": 174,
   "metadata": {
    "collapsed": true
   },
   "outputs": [],
   "source": [
    "## PART 2\n",
    "# Good learning rate? Assuming 0.2\n",
    "\n",
    "\n",
    "\n",
    "for i in range(5):\n",
    "    w_vectors.append(batch_learning(X_train,y_train,200,i,5))\n",
    "\n"
   ]
  },
  {
   "cell_type": "code",
   "execution_count": 186,
   "metadata": {},
   "outputs": [
    {
     "name": "stdout",
     "output_type": "stream",
     "text": [
      "[ 0.299  0.312  0.183  0.092  0.019  0.001  0.     0.     0.     0.     0.\n",
      "  0.001  0.094  0.222  0.212  0.001  0.     0.233  0.007  0.     0.     0.\n",
      "  0.     0.     0.     0.     0.     0.     0.001  0.008  0.     0.     0.\n",
      "  0.158  0.001  0.     0.     0.     0.     0.     0.     0.     0.     0.\n",
      "  0.     0.     0.     0.     0.     0.101  0.     0.     0.     0.     0.\n",
      "  0.     0.     0.     0.     0.     0.     0.     0.     0.     0.     0.003\n",
      "  0.     0.     0.     0.     0.     0.     0.     0.     0.     0.     0.\n",
      "  0.     0.     0.     0.     0.002  0.     0.     0.     0.     0.     0.\n",
      "  0.     0.     0.     0.     0.     0.     0.     0.     0.     0.002  0.\n",
      "  0.     0.     0.     0.     0.     0.     0.     0.     0.     0.     0.\n",
      "  0.     0.     0.     0.006  0.     0.     0.     0.     0.     0.     0.\n",
      "  0.     0.     0.     0.     0.     0.     0.     0.     0.003  0.     0.\n",
      "  0.     0.     0.     0.     0.     0.     0.     0.     0.     0.     0.\n",
      "  0.     0.001  0.002  0.     0.     0.     0.     0.     0.     0.     0.\n",
      "  0.     0.     0.     0.     0.     0.     0.002  0.011  0.     0.     0.\n",
      "  0.     0.     0.     0.     0.     0.     0.     0.     0.     0.     0.\n",
      "  0.002  0.008  0.     0.     0.     0.     0.     0.     0.     0.     0.\n",
      "  0.     0.     0.     0.     0.     0.002  0.     0.     0.     0.     0.\n",
      "  0.     0.     0.     0.     0.     0.     0.     0.     0.     0.001\n",
      "  0.043  0.     0.     0.     0.     0.     0.     0.     0.     0.     0.\n",
      "  0.     0.     0.     0.     0.001  0.06   0.     0.     0.     0.     0.\n",
      "  0.     0.     0.     0.     0.     0.     0.     0.001  0.     0.     0.005\n",
      "  0.     0.     0.     0.     0.008  0.038  0.033  0.003  0.002  0.011\n",
      "  0.104  0.174  0.29   0.135  0.024  0.11 ]\n"
     ]
    }
   ],
   "source": [
    "# Attempt at predicting training data\n",
    "p =  (expit(w_vectors[0] * X_train[0])) / (1 + expit(w_vectors[0] * X_train[0]))\n",
    "print p"
   ]
  },
  {
   "cell_type": "code",
   "execution_count": 167,
   "metadata": {},
   "outputs": [
    {
     "name": "stdout",
     "output_type": "stream",
     "text": [
      "(257L, 1L)\n",
      "(1L, 257L)\n"
     ]
    }
   ],
   "source": [
    "print w_vectors[0][np.newaxis].T.shape\n",
    "print X_train[0][np.newaxis].shape"
   ]
  },
  {
   "cell_type": "code",
   "execution_count": 144,
   "metadata": {},
   "outputs": [
    {
     "name": "stdout",
     "output_type": "stream",
     "text": [
      "[   -70.07     -46.947   -231.932   -360.861   -581.231   -971.17\n",
      "  -1929.377  -3127.925  -4009.055  -3457.955  -1649.097   -992.892\n",
      "   -358.058   -181.832   -195.145   -935.435  -1089.589   -168.168\n",
      "   -707.707  -1397.196  -2731.329  -4626.722  -7252.595  -9320.711\n",
      " -10114.955  -8573.415  -4679.975  -2410.758   -986.936   -695.445\n",
      "  -1627.025  -2471.019  -1371.27    -264.164   -989.739  -2531.629\n",
      "  -4510.406  -6772.266  -9051.643 -10467.407 -10561.651  -8752.794\n",
      "  -5193.238  -2595.393  -1497.396  -2160.608  -2808.756  -2578.576\n",
      "  -1228.677   -345.445  -1953.201  -3434.481  -5233.178  -6650.694\n",
      "  -7648.841  -8216.408  -8524.366  -7965.908  -5200.595  -3089.737\n",
      "  -2968.866  -3139.486  -3057.855  -2670.368  -1442.391   -805.455\n",
      "  -2496.944  -4085.782  -5216.361  -5921.966  -5385.23   -5558.303\n",
      "  -7258.902  -7326.169  -5650.445  -4555.601  -3987.684  -3597.394\n",
      "  -3302.749  -3585.482  -2022.571   -862.912  -2448.947  -4119.065\n",
      "  -4723.419  -3917.964  -3219.016  -4074.921  -6195.589  -7457.9    -6965.308\n",
      "  -5859.604  -4692.238  -4028.675  -4285.481  -3958.605  -1981.58\n",
      "   -901.801  -2470.318  -3353.55   -2947.845  -2115.063  -2019.768\n",
      "  -3563.059  -5961.205  -8277.719  -8532.074  -6594.988  -5207.602\n",
      "  -4877.573  -4272.518  -3452.349  -1632.281   -732.932  -1953.201\n",
      "  -1921.67   -1614.062  -1179.979  -1520.869  -3929.876  -7043.436\n",
      "  -9556.497  -9256.247  -7110.704  -5807.051  -4523.719  -3746.643\n",
      "  -2974.822  -1306.806   -835.234  -1694.993  -1435.734  -1060.159\n",
      "  -1199.248  -2634.632  -5841.386  -8765.407  -9907.898  -9119.961\n",
      "  -7015.759  -5053.799  -3336.033  -2739.036  -2109.808   -976.425\n",
      "   -879.379  -1566.065  -1373.372  -1621.069  -2696.994  -4855.851\n",
      "  -7690.182  -9325.967 -10301.691  -8631.923  -5732.427  -3588.285\n",
      "  -2433.531  -1857.205  -1650.849   -878.678   -674.424  -1466.915\n",
      "  -1981.229  -3359.506  -5385.931  -7333.526  -8806.748 -10190.981\n",
      "  -9317.909  -6829.373  -4228.024  -2652.15   -1918.867  -1601.45\n",
      "  -1683.782   -869.919   -713.313  -1944.793  -3339.887  -5370.165\n",
      "  -7379.422  -8740.181  -9409.     -9264.655  -7814.557  -5260.505\n",
      "  -3525.572  -2275.173  -1616.865  -1458.507  -1589.538   -865.014\n",
      "  -1049.999  -2909.657  -5416.411  -7628.521  -8513.155  -8267.209\n",
      "  -7298.491  -6417.011  -5701.246  -4198.594  -3302.749  -2178.476\n",
      "  -1419.268  -1079.779  -1023.022   -472.272  -1903.452  -5532.026\n",
      "  -8094.837  -8480.572  -7022.065  -5356.852  -3984.18   -4169.165\n",
      "  -4130.627  -3495.092  -2586.634  -1892.24   -1514.913  -1281.931\n",
      "   -978.878   -424.624  -3747.694  -8037.73   -7960.302  -5667.262\n",
      "  -3342.339  -2271.319  -1952.501  -2565.963  -2524.622  -2237.685\n",
      "  -1382.831  -1153.352  -1023.372  -1204.153  -1259.859   -759.208\n",
      "  -3334.631  -4546.492  -2851.499  -1140.389   -697.197   -492.242   -550.4\n",
      "   -821.571   -838.738   -643.943   -340.19    -243.493    -85.135\n",
      "   -294.995   -549.699   -331.431]\n"
     ]
    }
   ],
   "source": [
    "print w_vectors[2]"
   ]
  },
  {
   "cell_type": "code",
   "execution_count": null,
   "metadata": {
    "collapsed": true
   },
   "outputs": [],
   "source": []
  }
 ],
 "metadata": {
  "kernelspec": {
   "display_name": "Python 2",
   "language": "python",
   "name": "python2"
  },
  "language_info": {
   "codemirror_mode": {
    "name": "ipython",
    "version": 2
   },
   "file_extension": ".py",
   "mimetype": "text/x-python",
   "name": "python",
   "nbconvert_exporter": "python",
   "pygments_lexer": "ipython2",
   "version": "2.7.11"
  }
 },
 "nbformat": 4,
 "nbformat_minor": 1
}
