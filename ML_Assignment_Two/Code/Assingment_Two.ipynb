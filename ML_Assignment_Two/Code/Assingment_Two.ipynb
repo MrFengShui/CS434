{
 "cells": [
  {
   "cell_type": "code",
   "execution_count": 117,
   "metadata": {
    "collapsed": true
   },
   "outputs": [],
   "source": [
    "# Plotting library\n",
    "import matplotlib.pyplot as plt\n",
    "import matplotlib.image as mpimg\n",
    "from matplotlib import gridspec\n",
    "\n",
    "# Numerical Library\n",
    "import numpy as np\n",
    "from numpy import genfromtxt\n",
    "from numpy.linalg import inv\n",
    "\n",
    "import math\n",
    "\n",
    "from scipy.special import expit\n",
    "\n",
    "# Image manipulation library\n",
    "from PIL import Image\n",
    "\n",
    "# Limit printout to 3 decimal places\n",
    "np.set_printoptions(precision=3,suppress=True)\n",
    "\n",
    "# Allows for printing inline for jupyter notebook\n",
    "%matplotlib inline \n",
    "\n",
    "# http://scikit-learn.org/stable/tutorial/machine_learning_map/"
   ]
  },
  {
   "cell_type": "code",
   "execution_count": 118,
   "metadata": {
    "collapsed": true
   },
   "outputs": [],
   "source": [
    "# Load datasets and store in ndarray\n",
    "raw_train = genfromtxt('usps-4-9-train.csv', delimiter=',')\n",
    "raw_test = genfromtxt('usps-4-9-test.csv', delimiter=',')"
   ]
  },
  {
   "cell_type": "code",
<<<<<<< HEAD
   "execution_count": 4,
=======
   "execution_count": 119,
   "metadata": {
    "collapsed": false
   },
   "outputs": [
    {
     "name": "stdout",
     "output_type": "stream",
     "text": [
      "[[ 0.]\n",
      " [ 0.]\n",
      " [ 0.]\n",
      " ..., \n",
      " [ 1.]\n",
      " [ 1.]\n",
      " [ 1.]]\n"
     ]
    }
   ],
   "source": [
    "print raw_train[:,256][np.newaxis].T"
   ]
  },
  {
   "cell_type": "code",
   "execution_count": 120,
>>>>>>> df631979eb550b76306f06b92d8223c9094283f9
   "metadata": {
    "collapsed": true
   },
   "outputs": [],
   "source": [
    "# Split off known target values\n",
    "y_train = raw_train[:,256]\n",
    "y_test = raw_test[:,256]\n",
    "\n",
    "# Add dimension to y_train and transpose\n",
    "y_train = y_train[np.newaxis].T\n",
    "y_test = y_test[np.newaxis].T\n",
    "\n",
    "# Remove column 256 from X\n",
    "raw_train = np.delete(raw_train, 256, axis=1)\n",
    "raw_test = np.delete(raw_test, 256, axis=1)\n",
    "\n",
    "# Function to create array of dummy ones and returned \n",
    "# columnar vector\n",
    "def make_dummy_vector(target):\n",
    "    temp = np.ones(len(target))\n",
    "    return temp[np.newaxis].T\n",
    "\n",
    "# Create dummy 1 values\n",
    "dummy_train = make_dummy_vector(raw_train)\n",
    "dummy_test = make_dummy_vector(raw_test)\n",
    "\n",
    "# Add dummy data to feature matrices\n",
    "X_train = np.concatenate((dummy_train, raw_train), axis=1)\n",
    "X_test = np.concatenate((dummy_test, raw_test), axis=1)"
   ]
  },
  {
   "cell_type": "code",
<<<<<<< HEAD
   "execution_count": 5,
   "metadata": {},
=======
   "execution_count": 121,
   "metadata": {
    "collapsed": false
   },
>>>>>>> df631979eb550b76306f06b92d8223c9094283f9
   "outputs": [
    {
     "name": "stdout",
     "output_type": "stream",
     "text": [
      "[   0.    0.    0.    0.    0.    0.    0.    0.   11.  133.  195.    7.\n",
      "    0.    0.    0.    0.    0.    0.    0.    0.    0.    0.   12.  120.\n",
      "  220.  255.  149.    2.    0.    0.    0.    0.    0.    0.    0.   20.\n",
      "  113.  172.  239.  255.  255.   72.    0.    0.    0.    0.    0.    0.\n",
      "    0.    0.  122.  255.  253.  174.  105.  155.  255.    3.    0.    0.\n",
      "    0.    0.    0.    0.    0.   73.  243.  183.   17.    0.    0.  144.\n",
      "  244.    2.    0.    0.    0.    0.   30.   28.    0.    0.    0.    0.\n",
      "    0.    0.    0.   98.  201.    0.    0.   15.  102.  179.  255.  174.\n",
      "    0.    0.    0.    0.    0.    0.    0.  155.  212.   90.  167.  253.\n",
      "  255.  206.   94.   16.    0.    0.    0.    0.    0.    0.   25.  223.\n",
      "  255.  239.  139.   64.   43.    0.    0.    0.    0.    0.    0.    0.\n",
      "   37.  154.  251.  255.  166.   12.    0.    0.    0.    0.    0.    0.\n",
      "    0.   22.  116.  205.  252.  173.   97.  255.  109.    0.    0.    0.\n",
      "    0.    0.    0.    0.   90.  248.  198.   93.   14.    0.   16.  255.\n",
      "   29.    0.    0.    0.    0.    0.    0.    0.   62.   29.    0.    0.\n",
      "    0.    0.   61.  249.   23.    0.    0.    0.    0.    0.    0.    0.\n",
      "    0.    0.    0.    0.    0.    0.  119.  203.    0.    0.    0.    0.\n",
      "    0.    0.    0.    0.    0.    0.    0.    0.    0.    0.  177.  180.\n",
      "    0.    0.    0.    0.    0.    0.    0.    0.    0.    0.    0.    0.\n",
      "    0.    7.  238.  134.    0.    0.    0.    0.    0.    0.    0.    0.\n",
      "    0.    0.    0.    0.    0.   14.  148.   32.    0.    0.    0.    0.\n",
      "    0.    0.    0.    0.]\n"
     ]
    }
   ],
   "source": [
    "# Data for a single sample\n",
    "print raw_train[0]"
   ]
  },
  {
   "cell_type": "code",
<<<<<<< HEAD
   "execution_count": 6,
=======
   "execution_count": 122,
>>>>>>> df631979eb550b76306f06b92d8223c9094283f9
   "metadata": {
    "collapsed": true
   },
   "outputs": [],
   "source": [
    "## This is not completely working, we need to figure out why the image seems upside down ##\n",
    "\n",
    "# Displays a single sample for context\n",
    "def visualize_sample(data,target):\n",
    "    temp = np.reshape(data[target],(16,16), order='F')\n",
    "    img = Image.fromarray(temp)\n",
    "    img.show()\n",
    "    \n",
    "# Example call to function\n",
    "visualize_sample(raw_train, 1200)"
   ]
  },
  {
   "cell_type": "code",
<<<<<<< HEAD
   "execution_count": 106,
=======
   "execution_count": 123,
>>>>>>> df631979eb550b76306f06b92d8223c9094283f9
   "metadata": {
    "collapsed": true
   },
   "outputs": [],
   "source": [
    "# Calculate sigmoid function\n",
    "def calc_sigmoid(target_function):\n",
    "    return (1 / (1 + np.exp(-target_function)))"
   ]
  },
  {
   "cell_type": "code",
<<<<<<< HEAD
   "execution_count": 151,
=======
   "execution_count": 124,
>>>>>>> df631979eb550b76306f06b92d8223c9094283f9
   "metadata": {
    "collapsed": false
   },
   "outputs": [],
   "source": [
<<<<<<< HEAD
    "def batch_learning(X, y, n, eta, epsilon = 0.001):\n",
    "    #accuracy = []\n",
    "    length = len(X[0])\n",
    "    w, old_d = np.zeros(length), np.zeros(length)\n",
    "    ctr = 0\n",
    "    while True:\n",
    "        new_d = np.zeros(length)\n",
    "        for i in range(n):\n",
    "            y_hat_i = 1 / (1 + np.exp(-np.dot(w.T, X[i])))\n",
    "            error = y[i] - y_hat_i\n",
    "            new_d = np.add(new_d, error * X[i])\n",
    "        d_norm = np.linalg.norm(old_d - new_d, 2)\n",
    "        #print d_norm\n",
    "        ctr = ctr + 1\n",
    "        if d_norm < epsilon:\n",
    "            break\n",
    "        else:\n",
    "            w, old_d = np.add(w, eta * new_d), new_d\n",
    "            #accuracy.append(prediction(X,w))\n",
    "    #print ctr\n",
    "    return w, ctr"
=======
    "# Calculate sigmoid function\n",
    "def calc_sigmoid(X, w):\n",
    "    return 1 / (1 + np.exp(-np.dot(w.T, X)))"
>>>>>>> df631979eb550b76306f06b92d8223c9094283f9
   ]
  },
  {
   "cell_type": "code",
<<<<<<< HEAD
   "execution_count": 150,
   "metadata": {},
   "outputs": [
    {
     "ename": "KeyboardInterrupt",
     "evalue": "",
     "output_type": "error",
     "traceback": [
      "\u001b[1;31m---------------------------------------------------------------------------\u001b[0m",
      "\u001b[1;31mKeyboardInterrupt\u001b[0m                         Traceback (most recent call last)",
      "\u001b[1;32m<ipython-input-150-9166ff32a577>\u001b[0m in \u001b[0;36m<module>\u001b[1;34m()\u001b[0m\n\u001b[1;32m----> 1\u001b[1;33m \u001b[0mw_new\u001b[0m\u001b[1;33m,\u001b[0m \u001b[0mctr\u001b[0m\u001b[1;33m,\u001b[0m \u001b[0maccuracy\u001b[0m \u001b[1;33m=\u001b[0m \u001b[0mbatch_learning\u001b[0m\u001b[1;33m(\u001b[0m\u001b[0mX_train\u001b[0m\u001b[1;33m,\u001b[0m\u001b[0my_train\u001b[0m\u001b[1;33m,\u001b[0m\u001b[1;36m1400\u001b[0m\u001b[1;33m,\u001b[0m\u001b[1;36m0.1\u001b[0m\u001b[1;33m)\u001b[0m\u001b[1;33m\u001b[0m\u001b[0m\n\u001b[0m\u001b[0;32m      2\u001b[0m \u001b[1;33m\u001b[0m\u001b[0m\n\u001b[0;32m      3\u001b[0m \u001b[1;32mprint\u001b[0m \u001b[0maccuracy\u001b[0m\u001b[1;33m\u001b[0m\u001b[0m\n",
      "\u001b[1;32m<ipython-input-148-b54813f40d96>\u001b[0m in \u001b[0;36mbatch_learning\u001b[1;34m(X, y, n, eta, epsilon)\u001b[0m\n\u001b[0;32m     17\u001b[0m         \u001b[1;32melse\u001b[0m\u001b[1;33m:\u001b[0m\u001b[1;33m\u001b[0m\u001b[0m\n\u001b[0;32m     18\u001b[0m             \u001b[0mw\u001b[0m\u001b[1;33m,\u001b[0m \u001b[0mold_d\u001b[0m \u001b[1;33m=\u001b[0m \u001b[0mnp\u001b[0m\u001b[1;33m.\u001b[0m\u001b[0madd\u001b[0m\u001b[1;33m(\u001b[0m\u001b[0mw\u001b[0m\u001b[1;33m,\u001b[0m \u001b[0meta\u001b[0m \u001b[1;33m*\u001b[0m \u001b[0mnew_d\u001b[0m\u001b[1;33m)\u001b[0m\u001b[1;33m,\u001b[0m \u001b[0mnew_d\u001b[0m\u001b[1;33m\u001b[0m\u001b[0m\n\u001b[1;32m---> 19\u001b[1;33m             \u001b[0maccuracy\u001b[0m\u001b[1;33m.\u001b[0m\u001b[0mappend\u001b[0m\u001b[1;33m(\u001b[0m\u001b[0mprediction\u001b[0m\u001b[1;33m(\u001b[0m\u001b[0mX\u001b[0m\u001b[1;33m,\u001b[0m\u001b[0mw\u001b[0m\u001b[1;33m)\u001b[0m\u001b[1;33m)\u001b[0m\u001b[1;33m\u001b[0m\u001b[0m\n\u001b[0m\u001b[0;32m     20\u001b[0m     \u001b[1;31m#print ctr\u001b[0m\u001b[1;33m\u001b[0m\u001b[1;33m\u001b[0m\u001b[0m\n\u001b[0;32m     21\u001b[0m     \u001b[1;32mreturn\u001b[0m \u001b[0mw\u001b[0m\u001b[1;33m,\u001b[0m \u001b[0mctr\u001b[0m\u001b[1;33m,\u001b[0m \u001b[0maccuracy\u001b[0m\u001b[1;33m\u001b[0m\u001b[0m\n",
      "\u001b[1;32m<ipython-input-146-687a41ba236f>\u001b[0m in \u001b[0;36mprediction\u001b[1;34m(X, w)\u001b[0m\n\u001b[0;32m      3\u001b[0m     \u001b[0mvalues\u001b[0m \u001b[1;33m=\u001b[0m \u001b[1;33m[\u001b[0m\u001b[1;33m]\u001b[0m\u001b[1;33m\u001b[0m\u001b[0m\n\u001b[0;32m      4\u001b[0m     \u001b[1;32mfor\u001b[0m \u001b[0mi\u001b[0m \u001b[1;32min\u001b[0m \u001b[0mrange\u001b[0m\u001b[1;33m(\u001b[0m\u001b[0mlen\u001b[0m\u001b[1;33m(\u001b[0m\u001b[0mX\u001b[0m\u001b[1;33m)\u001b[0m\u001b[1;33m)\u001b[0m\u001b[1;33m:\u001b[0m\u001b[1;33m\u001b[0m\u001b[0m\n\u001b[1;32m----> 5\u001b[1;33m         \u001b[0mvalues\u001b[0m\u001b[1;33m.\u001b[0m\u001b[0mappend\u001b[0m\u001b[1;33m(\u001b[0m\u001b[0mcalc_sigmoid\u001b[0m\u001b[1;33m(\u001b[0m\u001b[0mnp\u001b[0m\u001b[1;33m.\u001b[0m\u001b[0mdot\u001b[0m\u001b[1;33m(\u001b[0m\u001b[0mw\u001b[0m\u001b[1;33m.\u001b[0m\u001b[0mT\u001b[0m\u001b[1;33m,\u001b[0m\u001b[0mX\u001b[0m\u001b[1;33m[\u001b[0m\u001b[0mi\u001b[0m\u001b[1;33m]\u001b[0m\u001b[1;33m)\u001b[0m\u001b[1;33m)\u001b[0m\u001b[1;33m)\u001b[0m\u001b[1;33m\u001b[0m\u001b[0m\n\u001b[0m\u001b[0;32m      6\u001b[0m \u001b[1;33m\u001b[0m\u001b[0m\n\u001b[0;32m      7\u001b[0m     \u001b[0mfours\u001b[0m \u001b[1;33m=\u001b[0m \u001b[0mvalues\u001b[0m\u001b[1;33m[\u001b[0m\u001b[1;36m0\u001b[0m\u001b[1;33m:\u001b[0m\u001b[1;36m700\u001b[0m\u001b[1;33m]\u001b[0m\u001b[1;33m\u001b[0m\u001b[0m\n",
      "\u001b[1;31mKeyboardInterrupt\u001b[0m: "
=======
   "execution_count": 125,
   "metadata": {
    "collapsed": false
   },
   "outputs": [
    {
     "name": "stdout",
     "output_type": "stream",
     "text": [
      "10\n",
      "[ 0.     0.     0.     0.     0.001  0.001  0.001  0.001  0.001]\n"
>>>>>>> df631979eb550b76306f06b92d8223c9094283f9
     ]
    }
   ],
   "source": [
<<<<<<< HEAD
    "w_new, ctr = batch_learning(X_train,y_train,1400,0.1)\n",
    "\n",
    "print ctr"
=======
    "print len(np.arange(0,5,0.5))\n",
    "print np.arange(0.0001, 0.001, 0.0001)"
>>>>>>> df631979eb550b76306f06b92d8223c9094283f9
   ]
  },
  {
   "cell_type": "code",
<<<<<<< HEAD
   "execution_count": 146,
   "metadata": {},
   "outputs": [],
   "source": [
    "# Try to predict\n",
    "def prediction(X,w):\n",
    "    values = []\n",
    "    for i in range(len(X)):\n",
    "        values.append(calc_sigmoid(np.dot(w.T,X[i])))\n",
    "        \n",
    "    fours = values[0:700]\n",
    "    nines = values[700:1400]\n",
    "    ctr_four, ctr_nine = 0.0, 0.0\n",
    "    \n",
    "    for i in range(700):\n",
    "        if fours[i] == 0.0:\n",
    "            ctr_four += 1\n",
    "        if nines[i] == 1.0:\n",
    "            ctr_nine += 1  \n",
    "    return  ((ctr_four / 700 * 100), (ctr_nine / 700 * 100)) \n",
    "                "
   ]
  },
  {
   "cell_type": "code",
   "execution_count": 147,
   "metadata": {},
=======
   "execution_count": 126,
   "metadata": {
    "collapsed": false,
    "scrolled": true
   },
>>>>>>> df631979eb550b76306f06b92d8223c9094283f9
   "outputs": [
    {
     "name": "stdout",
     "output_type": "stream",
     "text": [
      "(98.85714285714286, 99.0)\n"
     ]
    },
    {
     "name": "stderr",
     "output_type": "stream",
     "text": [
      "D:\\Development\\Anaconda2\\lib\\site-packages\\ipykernel\\__main__.py:35: RuntimeWarning: overflow encountered in exp\n"
     ]
    }
   ],
   "source": [
    "print prediction(X_train,w_new)"
   ]
  },
  {
   "cell_type": "code",
   "execution_count": null,
   "metadata": {
    "scrolled": true
   },
   "outputs": [],
   "source": [
    "## Part 1\n",
<<<<<<< HEAD
    "\n",
    "w_vector = []\n",
    "iterations = []\n",
    "learning_rates = np.linspace(0,0.3,50)\n",
    "\n",
    "for i in learning_rates:\n",
    "    w, ctr = batch_learning(X_train,y_train,1400,i)\n",
    "    w_vector.append(w)\n",
    "    iterations.append(ctr)\n",
=======
    "w_vectors = []\n",
    "learning_rates = [\n",
    "    0.000001, 0.000005, \n",
    "    0.00001, 0.00005, \n",
    "    0.0001, 0.0005, \n",
    "    0.001, 0.005,\n",
    "    0.01, 0.05,\n",
    "    0.1, 0.5\n",
    "] # 10 values between 0 and 5\n",
    "# def batch_learning(X,y,n,lrn_rate,iterations=1):\n",
    "#     w_batch = np.zeros(len(X[0]))\n",
    "#     ## Repeat until convergence  \n",
    "#     ctr = 0\n",
    "#     for i in range(iterations):\n",
    "#         d = np.zeros(len(X[0]))\n",
    "#         #Range argument limits batch size\n",
    "#         while(ctr < 1400):\n",
    "#             for i in range(n):\n",
    "#                 y_hat_i = calc_sigmoid((np.dot(w_batch.T,X[ctr])))\n",
    "#                 error = y[i] - y_hat_i\n",
    "#                 d = np.add(d,error * X[i])\n",
    "#                 ctr += 1\n",
    "#             w_batch = np.add(w_batch,lrn_rate * d) \n",
    "    \n",
    "#     return w_batch\n",
    "\n",
    "def batch_learning(X, y, n, eta, epsilon = 0.001):\n",
    "    length = len(X[0])\n",
    "    w, old_d = np.zeros(length), np.zeros(length)\n",
    "    while True:\n",
    "        new_d = np.zeros(length)\n",
    "        for i in range(n):\n",
    "            expo = np.dot(w.T, X[i])\n",
    "            y_hat_i = 1 / (1 + np.exp(-expo))\n",
    "            error = y[i] - y_hat_i\n",
    "            new_d = np.add(new_d, error * X[i])\n",
    "        d_norm = np.linalg.norm(old_d - new_d, 2)\n",
    "        if d_norm < epsilon: break\n",
    "        w, old_d = np.add(w, eta * new_d), new_d\n",
    "    return w\n",
>>>>>>> df631979eb550b76306f06b92d8223c9094283f9
    "\n",
    "for i in learning_rates:\n",
    "    w_vectors.append(batch_learning(X_train, y_train, 200, i))"
   ]
  },
  {
   "cell_type": "code",
<<<<<<< HEAD
   "execution_count": null,
   "metadata": {},
   "outputs": [],
   "source": [
    "print iterations\n",
    "print learning_rates\n",
    "\n",
    "plt.plot(learning_rates,iterations)"
   ]
  },
  {
   "cell_type": "code",
   "execution_count": 35,
   "metadata": {
    "collapsed": true
   },
   "outputs": [],
   "source": [
    "# Calculates the Sum of Square \n",
    "def calc_sse(X, y, w):\n",
    "    return np.dot(np.subtract(y, np.dot(X, w)).T, np.subtract(y,np.dot(X, w)))"
   ]
  },
  {
   "cell_type": "code",
   "execution_count": 31,
   "metadata": {},
=======
   "execution_count": 127,
   "metadata": {
    "collapsed": false
   },
>>>>>>> df631979eb550b76306f06b92d8223c9094283f9
   "outputs": [
    {
     "data": {
      "text/plain": [
<<<<<<< HEAD
       "<matplotlib.text.Text at 0xd7e6eb8>"
      ]
     },
     "execution_count": 31,
=======
       "<matplotlib.text.Text at 0x9992ef0>"
      ]
     },
     "execution_count": 127,
>>>>>>> df631979eb550b76306f06b92d8223c9094283f9
     "metadata": {},
     "output_type": "execute_result"
    },
    {
     "data": {
<<<<<<< HEAD
      "image/png": "iVBORw0KGgoAAAANSUhEUgAAAkgAAAGjCAYAAADXdepzAAAABHNCSVQICAgIfAhkiAAAAAlwSFlz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\nZTggmZmZmWU4IJmZmZllOCCZmZmZZfw/orDDwACHneUAAAAASUVORK5CYII=\n",
      "text/plain": [
       "<matplotlib.figure.Figure at 0x90fbf60>"
=======
      "image/png": "iVBORw0KGgoAAAANSUhEUgAAAjIAAAGjCAYAAAA2Hv8iAAAABHNCSVQICAgIfAhkiAAAAAlwSFlz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\nrSMSNQAAAABJRU5ErkJggg==\n",
      "text/plain": [
       "<matplotlib.figure.Figure at 0x94ffef0>"
>>>>>>> df631979eb550b76306f06b92d8223c9094283f9
      ]
     },
     "metadata": {},
     "output_type": "display_data"
    }
   ],
   "source": [
    "# Experimenting with different learing values\n",
    "\n",
    "## Thought: Maybe we can use the norm to quantify the effect of the learning rate on our w vector\n",
    "norms = []\n",
    "\n",
    "for w_vector in w_vectors:\n",
    "    norms.append(np.linalg.norm(w_vector))\n",
    "\n",
    "# Plot the values gathered above\n",
    "fig = plt.figure(figsize=(9,6))\n",
    "plt.plot(norms, learning_rates)\n",
    "fig.suptitle('Effect of Learning Rate on w Vector Norm', fontsize=16)\n",
    "plt.xlabel('Weight Norm Value', fontsize=16)\n",
    "plt.ylabel('Learning Rate', fontsize=16)"
   ]
  },
  {
   "cell_type": "code",
<<<<<<< HEAD
   "execution_count": 174,
   "metadata": {
    "collapsed": true
   },
   "outputs": [],
   "source": [
    "## PART 2\n",
    "# Good learning rate? Assuming 0.2\n",
    "\n",
    "\n",
    "\n",
    "for i in range(5):\n",
    "    w_vectors.append(batch_learning(X_train,y_train,200,i,5))\n",
    "\n"
   ]
  },
  {
   "cell_type": "code",
   "execution_count": 24,
   "metadata": {},
   "outputs": [
    {
     "name": "stdout",
     "output_type": "stream",
     "text": [
      "[ 0.272  0.333  0.333  0.333  0.333  0.333  0.333  0.333  0.333  0.     0.\n",
      "  0.     0.     0.333  0.333  0.333  0.333  0.333  0.333  0.333  0.333\n",
      "  0.333  0.333  0.     0.     0.     0.     0.     0.     0.333  0.333\n",
      "  0.333  0.333  0.333  0.333  0.333  0.     0.     0.     0.     0.     0.\n",
      "  0.     0.333  0.333  0.333  0.333  0.333  0.333  0.333  0.333  0.     0.\n",
      "  0.     0.     0.     0.     0.     0.     0.333  0.333  0.333  0.333\n",
      "  0.333  0.333  0.333  0.     0.     0.     0.     0.333  0.333  0.     0.\n",
      "  0.     0.333  0.333  0.333  0.333  0.     0.     0.333  0.333  0.333\n",
      "  0.333  0.333  0.333  0.333  0.     0.     0.333  0.333  0.     0.     0.\n",
      "  0.     0.     0.333  0.333  0.333  0.333  0.333  0.333  0.333  0.     0.\n",
      "  0.     0.     0.     0.     0.     0.     0.     0.333  0.333  0.333\n",
      "  0.333  0.333  0.333  0.     0.     0.     0.     0.     0.     0.     0.333\n",
      "  0.333  0.333  0.333  0.333  0.333  0.333  0.     0.     0.     0.     0.\n",
      "  0.     0.333  0.333  0.333  0.333  0.333  0.333  0.333  0.     0.     0.\n",
      "  0.     0.     0.     0.     0.     0.333  0.333  0.333  0.333  0.333\n",
      "  0.333  0.333  0.     0.     0.     0.     0.     0.333  0.     0.     0.\n",
      "  0.333  0.333  0.333  0.333  0.333  0.333  0.333  0.     0.     0.333\n",
      "  0.333  0.333  0.333  0.     0.     0.     0.333  0.333  0.333  0.333\n",
      "  0.333  0.333  0.333  0.333  0.333  0.333  0.333  0.333  0.333  0.     0.\n",
      "  0.333  0.333  0.333  0.333  0.333  0.333  0.333  0.333  0.333  0.333\n",
      "  0.333  0.333  0.333  0.333  0.     0.     0.333  0.333  0.333  0.333\n",
      "  0.333  0.333  0.333  0.333  0.333  0.333  0.333  0.333  0.333  0.     0.\n",
      "  0.     0.333  0.333  0.333  0.333  0.333  0.333  0.333  0.333  0.333\n",
      "  0.333  0.333  0.333  0.333  0.     0.     0.     0.333  0.333  0.333\n",
      "  0.333  0.333  0.333  0.333  0.333]\n"
     ]
    }
   ],
   "source": [
    "# Attempt at predicting training data\n",
    "p =  (expit(w_vectors[0] * X_train[0])) / (1 + expit(w_vectors[0] * X_train[0]))\n",
    "print p"
   ]
  },
  {
   "cell_type": "code",
   "execution_count": 25,
   "metadata": {},
=======
   "execution_count": 128,
   "metadata": {
    "collapsed": false
   },
>>>>>>> df631979eb550b76306f06b92d8223c9094283f9
   "outputs": [
    {
     "name": "stdout",
     "output_type": "stream",
     "text": [
<<<<<<< HEAD
      "(257L, 1L)\n",
      "(1L, 257L)\n"
=======
      "[1e-06, 5e-06, 1e-05, 5e-05, 0.0001, 0.0005, 0.001, 0.005, 0.01, 0.05, 0.1, 0.5]\n"
>>>>>>> df631979eb550b76306f06b92d8223c9094283f9
     ]
    }
   ],
   "source": [
    "print w_vectors[0][np.newaxis].T.shape\n",
    "print X_train[0][np.newaxis].shape"
   ]
  },
  {
   "cell_type": "code",
<<<<<<< HEAD
   "execution_count": 144,
   "metadata": {},
=======
   "execution_count": 129,
   "metadata": {
    "collapsed": false
   },
>>>>>>> df631979eb550b76306f06b92d8223c9094283f9
   "outputs": [
    {
     "name": "stdout",
     "output_type": "stream",
     "text": [
<<<<<<< HEAD
      "[   -70.07     -46.947   -231.932   -360.861   -581.231   -971.17\n",
      "  -1929.377  -3127.925  -4009.055  -3457.955  -1649.097   -992.892\n",
      "   -358.058   -181.832   -195.145   -935.435  -1089.589   -168.168\n",
      "   -707.707  -1397.196  -2731.329  -4626.722  -7252.595  -9320.711\n",
      " -10114.955  -8573.415  -4679.975  -2410.758   -986.936   -695.445\n",
      "  -1627.025  -2471.019  -1371.27    -264.164   -989.739  -2531.629\n",
      "  -4510.406  -6772.266  -9051.643 -10467.407 -10561.651  -8752.794\n",
      "  -5193.238  -2595.393  -1497.396  -2160.608  -2808.756  -2578.576\n",
      "  -1228.677   -345.445  -1953.201  -3434.481  -5233.178  -6650.694\n",
      "  -7648.841  -8216.408  -8524.366  -7965.908  -5200.595  -3089.737\n",
      "  -2968.866  -3139.486  -3057.855  -2670.368  -1442.391   -805.455\n",
      "  -2496.944  -4085.782  -5216.361  -5921.966  -5385.23   -5558.303\n",
      "  -7258.902  -7326.169  -5650.445  -4555.601  -3987.684  -3597.394\n",
      "  -3302.749  -3585.482  -2022.571   -862.912  -2448.947  -4119.065\n",
      "  -4723.419  -3917.964  -3219.016  -4074.921  -6195.589  -7457.9    -6965.308\n",
      "  -5859.604  -4692.238  -4028.675  -4285.481  -3958.605  -1981.58\n",
      "   -901.801  -2470.318  -3353.55   -2947.845  -2115.063  -2019.768\n",
      "  -3563.059  -5961.205  -8277.719  -8532.074  -6594.988  -5207.602\n",
      "  -4877.573  -4272.518  -3452.349  -1632.281   -732.932  -1953.201\n",
      "  -1921.67   -1614.062  -1179.979  -1520.869  -3929.876  -7043.436\n",
      "  -9556.497  -9256.247  -7110.704  -5807.051  -4523.719  -3746.643\n",
      "  -2974.822  -1306.806   -835.234  -1694.993  -1435.734  -1060.159\n",
      "  -1199.248  -2634.632  -5841.386  -8765.407  -9907.898  -9119.961\n",
      "  -7015.759  -5053.799  -3336.033  -2739.036  -2109.808   -976.425\n",
      "   -879.379  -1566.065  -1373.372  -1621.069  -2696.994  -4855.851\n",
      "  -7690.182  -9325.967 -10301.691  -8631.923  -5732.427  -3588.285\n",
      "  -2433.531  -1857.205  -1650.849   -878.678   -674.424  -1466.915\n",
      "  -1981.229  -3359.506  -5385.931  -7333.526  -8806.748 -10190.981\n",
      "  -9317.909  -6829.373  -4228.024  -2652.15   -1918.867  -1601.45\n",
      "  -1683.782   -869.919   -713.313  -1944.793  -3339.887  -5370.165\n",
      "  -7379.422  -8740.181  -9409.     -9264.655  -7814.557  -5260.505\n",
      "  -3525.572  -2275.173  -1616.865  -1458.507  -1589.538   -865.014\n",
      "  -1049.999  -2909.657  -5416.411  -7628.521  -8513.155  -8267.209\n",
      "  -7298.491  -6417.011  -5701.246  -4198.594  -3302.749  -2178.476\n",
      "  -1419.268  -1079.779  -1023.022   -472.272  -1903.452  -5532.026\n",
      "  -8094.837  -8480.572  -7022.065  -5356.852  -3984.18   -4169.165\n",
      "  -4130.627  -3495.092  -2586.634  -1892.24   -1514.913  -1281.931\n",
      "   -978.878   -424.624  -3747.694  -8037.73   -7960.302  -5667.262\n",
      "  -3342.339  -2271.319  -1952.501  -2565.963  -2524.622  -2237.685\n",
      "  -1382.831  -1153.352  -1023.372  -1204.153  -1259.859   -759.208\n",
      "  -3334.631  -4546.492  -2851.499  -1140.389   -697.197   -492.242   -550.4\n",
      "   -821.571   -838.738   -643.943   -340.19    -243.493    -85.135\n",
      "   -294.995   -549.699   -331.431]\n"
=======
      "[-0.    -0.    -0.    -0.001 -0.001 -0.001 -0.003 -0.004 -0.006 -0.005\n",
      " -0.002 -0.001 -0.001 -0.    -0.    -0.001 -0.002 -0.    -0.001 -0.002\n",
      " -0.004 -0.007 -0.01  -0.013 -0.014 -0.012 -0.007 -0.003 -0.001 -0.001\n",
      " -0.002 -0.004 -0.002 -0.    -0.001 -0.004 -0.006 -0.01  -0.013 -0.015\n",
      " -0.015 -0.012 -0.007 -0.004 -0.002 -0.003 -0.004 -0.004 -0.002 -0.    -0.003\n",
      " -0.005 -0.007 -0.009 -0.011 -0.012 -0.012 -0.011 -0.007 -0.004 -0.004\n",
      " -0.004 -0.004 -0.004 -0.002 -0.001 -0.004 -0.006 -0.007 -0.008 -0.008\n",
      " -0.008 -0.01  -0.01  -0.008 -0.007 -0.006 -0.005 -0.005 -0.005 -0.003\n",
      " -0.001 -0.003 -0.006 -0.007 -0.006 -0.005 -0.006 -0.009 -0.011 -0.01\n",
      " -0.008 -0.007 -0.006 -0.006 -0.006 -0.003 -0.001 -0.004 -0.005 -0.004\n",
      " -0.003 -0.003 -0.005 -0.009 -0.012 -0.012 -0.009 -0.007 -0.007 -0.006\n",
      " -0.005 -0.002 -0.001 -0.003 -0.003 -0.002 -0.002 -0.002 -0.006 -0.01\n",
      " -0.014 -0.013 -0.01  -0.008 -0.006 -0.005 -0.004 -0.002 -0.001 -0.002\n",
      " -0.002 -0.002 -0.002 -0.004 -0.008 -0.013 -0.014 -0.013 -0.01  -0.007\n",
      " -0.005 -0.004 -0.003 -0.001 -0.001 -0.002 -0.002 -0.002 -0.004 -0.007\n",
      " -0.011 -0.013 -0.015 -0.012 -0.008 -0.005 -0.003 -0.003 -0.002 -0.001\n",
      " -0.001 -0.002 -0.003 -0.005 -0.008 -0.01  -0.013 -0.015 -0.013 -0.01\n",
      " -0.006 -0.004 -0.003 -0.002 -0.002 -0.001 -0.001 -0.003 -0.005 -0.008\n",
      " -0.011 -0.012 -0.013 -0.013 -0.011 -0.008 -0.005 -0.003 -0.002 -0.002\n",
      " -0.002 -0.001 -0.001 -0.004 -0.008 -0.011 -0.012 -0.012 -0.01  -0.009\n",
      " -0.008 -0.006 -0.005 -0.003 -0.002 -0.002 -0.001 -0.001 -0.003 -0.008\n",
      " -0.012 -0.012 -0.01  -0.008 -0.006 -0.006 -0.006 -0.005 -0.004 -0.003\n",
      " -0.002 -0.002 -0.001 -0.001 -0.005 -0.011 -0.011 -0.008 -0.005 -0.003\n",
      " -0.003 -0.004 -0.004 -0.003 -0.002 -0.002 -0.001 -0.002 -0.002 -0.001\n",
      " -0.005 -0.006 -0.004 -0.002 -0.001 -0.001 -0.001 -0.001 -0.001 -0.001 -0.\n",
      " -0.    -0.    -0.    -0.001 -0.   ]\n"
>>>>>>> df631979eb550b76306f06b92d8223c9094283f9
     ]
    }
   ],
   "source": [
    "print w_vectors[2]"
   ]
  },
  {
   "cell_type": "code",
   "execution_count": 130,
   "metadata": {
    "collapsed": false
   },
   "outputs": [
    {
     "ename": "TypeError",
     "evalue": "calc_sigmoid() takes exactly 2 arguments (1 given)",
     "output_type": "error",
     "traceback": [
      "\u001b[0;31m---------------------------------------------------------------------------\u001b[0m",
      "\u001b[0;31mTypeError\u001b[0m                                 Traceback (most recent call last)",
      "\u001b[0;32m<ipython-input-130-fa8f7f4a2ce6>\u001b[0m in \u001b[0;36m<module>\u001b[0;34m()\u001b[0m\n\u001b[1;32m     16\u001b[0m     \u001b[0mnorms\u001b[0m\u001b[1;33m.\u001b[0m\u001b[0mappend\u001b[0m\u001b[1;33m(\u001b[0m\u001b[0mnp\u001b[0m\u001b[1;33m.\u001b[0m\u001b[0mlinalg\u001b[0m\u001b[1;33m.\u001b[0m\u001b[0mnorm\u001b[0m\u001b[1;33m(\u001b[0m\u001b[0mw_vector\u001b[0m\u001b[1;33m)\u001b[0m\u001b[1;33m)\u001b[0m\u001b[1;33m\u001b[0m\u001b[0m\n\u001b[1;32m     17\u001b[0m     \u001b[1;32mfor\u001b[0m \u001b[0mlamda\u001b[0m \u001b[1;32min\u001b[0m \u001b[0mlambdas\u001b[0m\u001b[1;33m:\u001b[0m\u001b[1;33m\u001b[0m\u001b[0m\n\u001b[0;32m---> 18\u001b[0;31m         \u001b[0mvalue\u001b[0m \u001b[1;33m=\u001b[0m \u001b[0mfunc_calc_reg\u001b[0m\u001b[1;33m(\u001b[0m\u001b[0mX_train\u001b[0m\u001b[1;33m,\u001b[0m \u001b[0my_train\u001b[0m\u001b[1;33m,\u001b[0m \u001b[0mw_vector\u001b[0m\u001b[1;33m,\u001b[0m \u001b[0mlamda\u001b[0m\u001b[1;33m)\u001b[0m\u001b[1;33m\u001b[0m\u001b[0m\n\u001b[0m\u001b[1;32m     19\u001b[0m \u001b[1;31m#         print value\u001b[0m\u001b[1;33m\u001b[0m\u001b[1;33m\u001b[0m\u001b[0m\n",
      "\u001b[0;32m<ipython-input-130-fa8f7f4a2ce6>\u001b[0m in \u001b[0;36mfunc_calc_reg\u001b[0;34m(X, y, w, lamda)\u001b[0m\n\u001b[1;32m      4\u001b[0m     \u001b[0mfst\u001b[0m \u001b[1;33m=\u001b[0m \u001b[1;36m0\u001b[0m\u001b[1;33m\u001b[0m\u001b[0m\n\u001b[1;32m      5\u001b[0m     \u001b[1;32mfor\u001b[0m \u001b[0mi\u001b[0m \u001b[1;32min\u001b[0m \u001b[0mrange\u001b[0m\u001b[1;33m(\u001b[0m\u001b[0mlen\u001b[0m\u001b[1;33m(\u001b[0m\u001b[0mw\u001b[0m\u001b[1;33m)\u001b[0m\u001b[1;33m)\u001b[0m\u001b[1;33m:\u001b[0m\u001b[1;33m\u001b[0m\u001b[0m\n\u001b[0;32m----> 6\u001b[0;31m         \u001b[0mg\u001b[0m \u001b[1;33m=\u001b[0m \u001b[0mcalc_sigmoid\u001b[0m\u001b[1;33m(\u001b[0m\u001b[1;33m(\u001b[0m\u001b[0mnp\u001b[0m\u001b[1;33m.\u001b[0m\u001b[0mdot\u001b[0m\u001b[1;33m(\u001b[0m\u001b[0mw\u001b[0m\u001b[1;33m[\u001b[0m\u001b[0mi\u001b[0m\u001b[1;33m]\u001b[0m\u001b[1;33m.\u001b[0m\u001b[0mT\u001b[0m\u001b[1;33m,\u001b[0m \u001b[0mX\u001b[0m\u001b[1;33m[\u001b[0m\u001b[0mi\u001b[0m\u001b[1;33m]\u001b[0m\u001b[1;33m)\u001b[0m\u001b[1;33m)\u001b[0m\u001b[1;33m)\u001b[0m\u001b[1;33m\u001b[0m\u001b[0m\n\u001b[0m\u001b[1;32m      7\u001b[0m         \u001b[1;32mif\u001b[0m \u001b[0my\u001b[0m\u001b[1;33m[\u001b[0m\u001b[0mi\u001b[0m\u001b[1;33m]\u001b[0m \u001b[1;33m==\u001b[0m \u001b[1;36m1\u001b[0m\u001b[1;33m:\u001b[0m \u001b[0mfst\u001b[0m \u001b[1;33m+=\u001b[0m \u001b[1;33m(\u001b[0m\u001b[1;33m-\u001b[0m\u001b[0mnp\u001b[0m\u001b[1;33m.\u001b[0m\u001b[0mlog10\u001b[0m\u001b[1;33m(\u001b[0m\u001b[0mg\u001b[0m\u001b[1;33m)\u001b[0m\u001b[1;33m)\u001b[0m\u001b[1;33m\u001b[0m\u001b[0m\n\u001b[1;32m      8\u001b[0m         \u001b[1;32mif\u001b[0m \u001b[0my\u001b[0m\u001b[1;33m[\u001b[0m\u001b[0mi\u001b[0m\u001b[1;33m]\u001b[0m \u001b[1;33m==\u001b[0m \u001b[1;36m0\u001b[0m\u001b[1;33m:\u001b[0m \u001b[0mfst\u001b[0m \u001b[1;33m+=\u001b[0m \u001b[1;33m(\u001b[0m\u001b[1;33m-\u001b[0m\u001b[0mnp\u001b[0m\u001b[1;33m.\u001b[0m\u001b[0mlog10\u001b[0m\u001b[1;33m(\u001b[0m\u001b[1;36m1\u001b[0m \u001b[1;33m-\u001b[0m \u001b[0mg\u001b[0m\u001b[1;33m)\u001b[0m\u001b[1;33m)\u001b[0m\u001b[1;33m\u001b[0m\u001b[0m\n",
      "\u001b[0;31mTypeError\u001b[0m: calc_sigmoid() takes exactly 2 arguments (1 given)"
     ]
    }
   ],
   "source": [
    "## Part 4\n",
    "\n",
    "def func_calc_reg(X, y, w, lamda):\n",
    "    fst = 0\n",
    "    for i in range(len(w)):\n",
    "        g = calc_sigmoid((np.dot(w[i].T, X[i])))\n",
    "        if y[i] == 1: fst += (-np.log10(g))        \n",
    "        if y[i] == 0: fst += (-np.log10(1 - g))\n",
    "            \n",
    "    snd = (lamda * np.linalg.norm(w, 2) ** 2) / 2\n",
    "    return np.add(fst, snd)\n",
    "\n",
    "lambdas, norms = [0, 0.001, 0.01, 0.1, 1, 10, 100, 1000], []\n",
    "\n",
    "for w_vector in w_vectors:\n",
    "    norms.append(np.linalg.norm(w_vector))\n",
    "    for lamda in lambdas:\n",
    "        value = func_calc_reg(X_train, y_train, w_vector, lamda)\n",
    "#         print value"
   ]
  },
  {
   "cell_type": "code",
   "execution_count": null,
   "metadata": {
    "collapsed": true
   },
   "outputs": [],
   "source": [
    "norms = []\n",
    "\n",
    "for i in range(len(w_vectors)):\n",
    "    norms.append(np.linalg.norm(w_vectors[i]))\n",
    "\n",
    "# Plot the values gathered above\n",
    "fig = plt.figure(figsize=(9,6))\n",
    "plt.plot(learning_rates,norms)\n",
    "fig.suptitle('Effect of Learning Rate on w Vector Norm', fontsize=16)\n",
    "plt.xlabel('Learning Rate', fontsize=16)\n",
    "plt.ylabel('Norm Value', fontsize=16)"
   ]
  },
  {
   "cell_type": "code",
   "execution_count": null,
   "metadata": {
    "collapsed": true
   },
   "outputs": [],
   "source": []
  },
  {
   "cell_type": "code",
   "execution_count": 20,
   "metadata": {
    "collapsed": true
   },
   "outputs": [],
   "source": [
    "# NOT YET NEEDED, INCORRECT FIRST ATTEMPT AT ASSIGNMENT\n",
    "\n",
    "# Compute optimal weight vector w = (X^T * X)^-1 (X^T * Y)\n",
    "# def calc_w_vector(X, y):\n",
    "#     return np.dot(inv(np.dot(X.T,X)), np.dot(X.T,y))\n",
    "\n",
    "# w_train = calc_w_vector(X_train,y_train)\n",
    "# w_test = calc_w_vector(X_test,y_test)\n",
    "\n",
    "# Computer linear regression function\n",
    "# target_function_train = np.dot(X_test,w_test)\n",
    "# target_function_test = np.dot(X_test,w_test)\n",
    "\n",
    "# # Plot the values gathered above\n",
    "# fig = plt.figure(figsize=(9,6))\n",
    "# plt.plot(target_function_train)\n",
    "# fig.suptitle('Linear Regression Function for X_train', fontsize=16)\n",
    "# plt.xlabel('Sample number', fontsize=16)\n",
    "# plt.ylabel('Intensity', fontsize=16)\n",
    "\n",
    "# fig = plt.figure(figsize=(9,6))\n",
    "# plt.plot(target_function_test)\n",
    "# fig.suptitle('Linear Regression Function for X_test', fontsize=16)\n",
    "# plt.xlabel('Sample number', fontsize=16)\n",
    "# plt.ylabel('Intensity', fontsize=16)\n",
    "\n",
    "# sigmoid_train = calc_sigmoid(target_function_train)\n",
    "# sigmoid_test = calc_sigmoid(target_function_test)\n",
    "\n",
    "# # Plot the values gathered above\n",
    "# fig = plt.figure(figsize=(9,6))\n",
    "# plt.plot(sigmoid_train)\n",
    "# fig.suptitle('Sigmoid Function for X_train', fontsize=16)\n",
    "# plt.xlabel('Sample number', fontsize=16)\n",
    "# plt.ylabel('Intensity', fontsize=16)\n",
    "\n",
    "# fig = plt.figure(figsize=(9,6))\n",
    "# plt.plot(sigmoid_test)\n",
    "# fig.suptitle('Sigmoid Function for X_test', fontsize=16)\n",
    "# plt.xlabel('Sample number', fontsize=16)\n",
    "# plt.ylabel('Intensity', fontsize=16)"
   ]
  }
 ],
 "metadata": {
  "kernelspec": {
   "display_name": "Python 2",
   "language": "python",
   "name": "python2"
  },
  "language_info": {
   "codemirror_mode": {
    "name": "ipython",
    "version": 2
   },
   "file_extension": ".py",
   "mimetype": "text/x-python",
   "name": "python",
   "nbconvert_exporter": "python",
   "pygments_lexer": "ipython2",
   "version": "2.7.13"
  }
 },
 "nbformat": 4,
 "nbformat_minor": 1
}
