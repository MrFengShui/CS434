{
 "cells": [
  {
   "cell_type": "code",
   "execution_count": 31,
   "metadata": {
    "collapsed": false
   },
   "outputs": [],
   "source": [
    "# Import third party libraries\n",
    "\n",
    "# Numerical library\n",
    "import numpy as np\n",
    "\n",
    "# Used for matrix inversion\n",
    "from numpy.linalg import inv\n",
    "\n",
    "# Plotting library\n",
    "import matplotlib.pyplot as plt\n",
    "\n",
    "# Allows for printing inline for jupyter notebook\n",
    "%matplotlib inline "
   ]
  },
  {
   "cell_type": "code",
   "execution_count": 32,
   "metadata": {
    "collapsed": false
   },
   "outputs": [],
   "source": [
    "# Load datasets and store in ndarray\n",
    "training_data = open('housing_train.txt','r')\n",
    "X_init_train = np.loadtxt(training_data)\n",
    "\n",
    "testing_data = open('housing_test.txt', 'r')\n",
    "X_init_test = np.loadtxt(testing_data)"
   ]
  },
  {
   "cell_type": "code",
   "execution_count": 33,
   "metadata": {
    "collapsed": false
   },
   "outputs": [],
   "source": [
    "# Split off known target values\n",
    "y_train = X_init_train[:,13]\n",
    "y_test = X_init_test[:,13]\n",
    "\n",
    "# Add dimension to y_train and transpose\n",
    "y_train = y_train[np.newaxis].T\n",
    "y_test = y_test[np.newaxis].T"
   ]
  },
  {
   "cell_type": "code",
   "execution_count": 34,
   "metadata": {
    "collapsed": false
   },
   "outputs": [
    {
     "name": "stdout",
     "output_type": "stream",
     "text": [
      "(433L, 14L)\n"
     ]
    }
   ],
   "source": [
    "# Remove column 13 from X\n",
    "X_train = np.delete(X_init_train, 13, axis=1)\n",
    "X_test = np.delete(X_init_test, 13, axis=1)\n",
    "\n",
    "# Function to create array of dummy ones and returned \n",
    "# columnar vector\n",
    "def make_dummy_vector(target):\n",
    "    temp = np.ones(len(target))\n",
    "    return temp[np.newaxis].T\n",
    "\n",
    "# Create dummy 1 values\n",
    "dummy_train = make_dummy_vector(X_train)\n",
    "dummy_test = make_dummy_vector(X_test)\n",
    "\n",
    "# Add dummy data to feature matrices\n",
    "X_train = np.concatenate((dummy_train, X_train), axis=1)\n",
    "X_test = np.concatenate((dummy_test, X_test), axis=1)\n",
    "\n",
    "## WE SHOULD TALK ABOUT THIS AS A GROUP\n",
    "# Transpose X for further calculations\n",
    "#X_train = X_train.T\n",
    "#X_test = X_test.T\n",
    "\n",
    "print X_train.shape"
   ]
  },
  {
   "cell_type": "code",
   "execution_count": 35,
   "metadata": {
    "collapsed": false
   },
   "outputs": [
    {
     "name": "stdout",
     "output_type": "stream",
     "text": [
      "w_train vector:\n",
      "0: [ 39.584]\n",
      "1: [-0.101]\n",
      "2: [ 0.046]\n",
      "3: [-0.003]\n",
      "4: [ 3.072]\n",
      "5: [-17.225]\n",
      "6: [ 3.711]\n",
      "7: [ 0.007]\n",
      "8: [-1.599]\n",
      "9: [ 0.374]\n",
      "10: [-0.016]\n",
      "11: [-1.024]\n",
      "12: [ 0.01]\n",
      "13: [-0.586]\n",
      " \r\n",
      "w_test vector:\n",
      "0: [ 16.494]\n",
      "1: [-0.03]\n",
      "2: [ 0.01]\n",
      "3: [-0.16]\n",
      "4: [ 1.129]\n",
      "5: [-6.583]\n",
      "6: [ 4.438]\n",
      "7: [-0.077]\n",
      "8: [-0.845]\n",
      "9: [-0.025]\n",
      "10: [ 0.005]\n",
      "11: [-0.7]\n",
      "12: [ 0.01]\n",
      "13: [-0.037]\n"
     ]
    }
   ],
   "source": [
    "## PART 2\n",
    "# Compute optimal weight vector w -- (X^T * X)^-1 (X^T * Y)\n",
    "def calc_w_vector(X, y):\n",
    "    return np.dot(inv(np.dot(X.T,X)), np.dot(X.T,y))\n",
    "\n",
    "def alt_calc(X,y):\n",
    "    return np.dot(np.dot(inv(X), inv(X.T), np.dot(X.T,y)))\n",
    "    \n",
    "# Limit printout to 3 decimal places\n",
    "np.set_printoptions(precision=3)\n",
    "\n",
    "# Caculate w vectors\n",
    "w_train = calc_w_vector(X_train,y_train)\n",
    "w_test = calc_w_vector(X_test,y_test)\n",
    "\n",
    "# Print both weight vectors to console\n",
    "print 'w_train vector:'\n",
    "print('\\n'.join('{}: {}'.format(*k) for k in enumerate(w_train)))\n",
    "\n",
    "print ' \\r\\nw_test vector:'\n",
    "print('\\n'.join('{}: {}'.format(*k) for k in enumerate(w_test)))"
   ]
  },
  {
   "cell_type": "code",
   "execution_count": 36,
   "metadata": {
    "collapsed": false
   },
   "outputs": [
    {
     "name": "stdout",
     "output_type": "stream",
     "text": [
      "Training Model: \r\n",
      "SSE: 9561.19 \r\n",
      "\n",
      "Testing Model: \r\n",
      "SSE: 852.51\n"
     ]
    }
   ],
   "source": [
    "## PART 3\n",
    "# Functions\n",
    "def calc_sse(X, y, w):\n",
    "    return np.dot(np.subtract(y, np.dot(X, w)).T, np.subtract(y,np.dot(X, w)))\n",
    "\n",
    "# Apply learned weight vectors\n",
    "target_func_train = np.dot(X_train, w_train)\n",
    "target_func_test = np.dot(X_test, w_test)\n",
    "\n",
    "# Print error output, not sure about the 0 values\n",
    "\n",
    "print 'Training Model: \\r\\nSSE: %.2f \\r\\n' % calc_sse(X_train, y_train, w_train)\n",
    "\n",
    "print 'Testing Model: \\r\\nSSE: %.2f' % calc_sse(X_test, y_test, w_test)"
   ]
  },
  {
   "cell_type": "code",
   "execution_count": 37,
   "metadata": {
    "collapsed": false
   },
   "outputs": [
    {
     "name": "stdout",
     "output_type": "stream",
     "text": [
      "w_train_no_dummy vector:\n",
      "0: [-0.098]\n",
      "1: [ 0.049]\n",
      "2: [-0.025]\n",
      "3: [ 3.451]\n",
      "4: [-0.355]\n",
      "5: [ 5.817]\n",
      "6: [-0.003]\n",
      "7: [-1.021]\n",
      "8: [ 0.227]\n",
      "9: [-0.012]\n",
      "10: [-0.388]\n",
      "11: [ 0.017]\n",
      "12: [-0.485]\n",
      " \n",
      "w_test_no_dummy vector:\n",
      "0: [ 0.011]\n",
      "1: [ 0.01]\n",
      "2: [-0.19]\n",
      "3: [ 1.126]\n",
      "4: [-1.137]\n",
      "5: [ 5.801]\n",
      "6: [-0.081]\n",
      "7: [-0.649]\n",
      "8: [-0.129]\n",
      "9: [ 0.008]\n",
      "10: [-0.572]\n",
      "11: [ 0.011]\n",
      "12: [ 0.072]\n"
     ]
    }
   ],
   "source": [
    "## PART 4\n",
    "# Repeating part 2 and 3 without a dummy features of 1's in X\n",
    "\n",
    "# Remove dummy column from both tables\n",
    "X_train_no_dummy = X_train[:, (1,2,3,4,5,6,7,8,9,10,11,12,13)]\n",
    "X_test_no_dummy = X_test[:, (1,2,3,4,5,6,7,8,9,10,11,12,13)]\n",
    "\n",
    "# Caculate w vectors\n",
    "w_train_no_dummy = calc_w_vector(X_train_no_dummy,y_train)\n",
    "w_test_no_dummy = calc_w_vector(X_test_no_dummy,y_test)\n",
    "\n",
    "# Print both weight vectors to console\n",
    "print 'w_train_no_dummy vector:'\n",
    "print('\\n'.join('{}: {}'.format(*k) for k in enumerate(w_train_no_dummy)))\n",
    "\n",
    "print ' \\r\\nw_test_no_dummy vector:'\n",
    "print('\\n'.join('{}: {}'.format(*k) for k in enumerate(w_test_no_dummy)))"
   ]
  },
  {
   "cell_type": "markdown",
   "metadata": {},
   "source": [
    "<h3>Thoughts about results</h3>\n",
    "The above results make it seems like our model will be centered around the orgin beacuse we did not calcuate a true b value in the w vector."
   ]
  },
  {
   "cell_type": "code",
   "execution_count": 38,
   "metadata": {
    "collapsed": false
   },
   "outputs": [
    {
     "name": "stdout",
     "output_type": "stream",
     "text": [
      "Training Model without Dummy: \n",
      "SSE: 10598.06 \n",
      "\n",
      "Testing Model without dummy: \n",
      "SSE: 883.85\n"
     ]
    }
   ],
   "source": [
    "## PART 4 cont.\n",
    "# Apply learned weight vectors\n",
    "target_func_train_no_dummy = np.dot(X_train_no_dummy, w_train_no_dummy)\n",
    "target_func_test_no_dummy = np.dot(X_test_no_dummy, w_test_no_dummy)\n",
    "\n",
    "# Print error output, not sure about the 0 values\n",
    "print 'Training Model without Dummy: \\r\\nSSE: %.2f \\r\\n' % calc_sse(X_train_no_dummy, y_train, w_train_no_dummy)\n",
    "\n",
    "print 'Testing Model without dummy: \\r\\nSSE: %.2f' % calc_sse(X_test_no_dummy, y_test, w_test_no_dummy)"
   ]
  },
  {
   "cell_type": "code",
   "execution_count": 39,
   "metadata": {
    "collapsed": false
   },
   "outputs": [],
   "source": [
    "# Generate uniform additional uniformly distributed features\n",
    "feature_one = np.random.uniform(0,10,433)\n",
    "feature_two = np.random.uniform(0,100,433)\n",
    "feature_three = np.random.uniform(0,200,433)\n",
    "feature_four = np.random.uniform(0,400,433)\n",
    "feature_five = np.random.uniform(0,600,433)\n",
    "feature_six = np.random.uniform(0,800,433)\n",
    "feature_seven = np.random.uniform(0,1000,433)\n",
    "feature_eight = np.random.uniform(0,1200,433)\n",
    "feature_nine = np.random.uniform(0,1400,433)\n",
    "feature_ten = np.random.uniform(0,1600,433)"
   ]
  },
  {
   "cell_type": "code",
   "execution_count": 40,
   "metadata": {
    "collapsed": false
   },
   "outputs": [],
   "source": [
    "# Set up cases for 2,4,6,8,10 additional uniformly distributed features\n",
    "#two_feat = X_train[:, ()]"
   ]
  },
  {
   "cell_type": "code",
   "execution_count": 41,
   "metadata": {
    "collapsed": false
   },
   "outputs": [
    {
     "name": "stdout",
     "output_type": "stream",
     "text": [
      "Training Model:\n",
      "[0.50]-SSE: 9790.23 \r\n",
      "\n",
      "[1.00]-SSE: 9977.30 \r\n",
      "\n",
      "[2.00]-SSE: 10174.59 \r\n",
      "\n",
      "[3.00]-SSE: 10275.63 \r\n",
      "\n",
      "[4.00]-SSE: 10338.01 \r\n",
      "\n",
      "[5.00]-SSE: 10381.24 \r\n",
      "\n",
      "[6.00]-SSE: 10413.66 \r\n",
      "\n",
      "[7.00]-SSE: 10439.41 \r\n",
      "\n",
      "[8.00]-SSE: 10460.77 \r\n",
      "\n",
      "[9.00]-SSE: 10479.13 \r\n",
      "\n",
      "[10.00]-SSE: 10495.34 \r\n",
      "\n",
      "[11.00]-SSE: 10509.96 \r\n",
      "\n",
      "[12.00]-SSE: 10523.40 \r\n",
      "\n",
      "[13.00]-SSE: 10535.94 \r\n",
      "\n",
      "[14.00]-SSE: 10547.77 \r\n",
      "\n",
      "[15.00]-SSE: 10559.04 \r\n",
      "\n",
      "[16.00]-SSE: 10569.87 \r\n",
      "\n",
      "[17.00]-SSE: 10580.35 \r\n",
      "\n",
      "[18.00]-SSE: 10590.55 \r\n",
      "\n",
      "[19.00]-SSE: 10600.51 \r\n",
      "\n",
      "[20.00]-SSE: 10610.29 \r\n",
      "\n",
      "[0.03]-SSE: 9563.99 \r\n",
      "\n",
      "[22.00]-SSE: 10629.44 \r\n",
      "\n",
      "[23.00]-SSE: 10638.85 \r\n",
      "\n",
      "[24.00]-SSE: 10648.19 \r\n",
      "\n",
      "[25.00]-SSE: 10657.46 \r\n",
      "\n",
      "[26.00]-SSE: 10666.69 \r\n",
      "\n",
      "[27.00]-SSE: 10675.89 \r\n",
      "\n",
      "[28.00]-SSE: 10685.06 \r\n",
      "\n",
      "[29.00]-SSE: 10694.22 \r\n",
      "\n",
      "[30.00]-SSE: 10703.37 \r\n",
      "\n",
      "[31.00]-SSE: 10712.51 \r\n",
      "\n",
      "[32.00]-SSE: 10721.66 \r\n",
      "\n",
      "[33.00]-SSE: 10730.82 \r\n",
      "\n",
      "[34.00]-SSE: 10740.00 \r\n",
      "\n",
      "[35.00]-SSE: 10749.19 \r\n",
      "\n",
      "[36.00]-SSE: 10758.39 \r\n",
      "\n",
      "[37.00]-SSE: 10767.62 \r\n",
      "\n",
      "[38.00]-SSE: 10776.88 \r\n",
      "\n",
      "[39.00]-SSE: 10786.16 \r\n",
      "\n",
      "[40.00]-SSE: 10795.47 \r\n",
      "\n",
      "[41.00]-SSE: 10804.81 \r\n",
      "\n",
      "[42.00]-SSE: 10814.17 \r\n",
      "\n",
      "[43.00]-SSE: 10823.57 \r\n",
      "\n",
      "[44.00]-SSE: 10833.00 \r\n",
      "\n",
      "[45.00]-SSE: 10842.47 \r\n",
      "\n",
      "[46.00]-SSE: 10851.97 \r\n",
      "\n",
      "[47.00]-SSE: 10861.50 \r\n",
      "\n",
      "[48.00]-SSE: 10871.06 \r\n",
      "\n",
      "[49.00]-SSE: 10880.66 \r\n",
      "\n",
      "[50.00]-SSE: 10890.30 \r\n",
      "\n",
      "[51.00]-SSE: 10899.96 \r\n",
      "\n",
      "[52.00]-SSE: 10909.67 \r\n",
      "\n",
      "[53.00]-SSE: 10919.40 \r\n",
      "\n",
      "[54.00]-SSE: 10929.17 \r\n",
      "\n",
      "[55.00]-SSE: 10938.98 \r\n",
      "\n",
      "[56.00]-SSE: 10948.82 \r\n",
      "\n",
      "[57.00]-SSE: 10958.69 \r\n",
      "\n",
      "[58.00]-SSE: 10968.59 \r\n",
      "\n",
      "[59.00]-SSE: 10978.53 \r\n",
      "\n",
      "[60.00]-SSE: 10988.50 \r\n",
      "\n",
      "[61.00]-SSE: 10998.50 \r\n",
      "\n",
      "[62.00]-SSE: 11008.53 \r\n",
      "\n",
      "[63.00]-SSE: 11018.59 \r\n",
      "\n",
      "[64.00]-SSE: 11028.69 \r\n",
      "\n",
      "[65.00]-SSE: 11038.81 \r\n",
      "\n",
      "[66.00]-SSE: 11048.96 \r\n",
      "\n",
      "[67.00]-SSE: 11059.14 \r\n",
      "\n",
      "[68.00]-SSE: 11069.35 \r\n",
      "\n",
      "[69.00]-SSE: 11079.59 \r\n",
      "\n",
      "[70.00]-SSE: 11089.85 \r\n",
      "\n",
      "[71.00]-SSE: 11100.15 \r\n",
      "\n",
      "[72.00]-SSE: 11110.46 \r\n",
      "\n",
      "[73.00]-SSE: 11120.81 \r\n",
      "\n",
      "[74.00]-SSE: 11131.17 \r\n",
      "\n",
      "[75.00]-SSE: 11141.56 \r\n",
      "\n",
      "[76.00]-SSE: 11151.98 \r\n",
      "\n",
      "[77.00]-SSE: 11162.42 \r\n",
      "\n",
      "[78.00]-SSE: 11172.88 \r\n",
      "\n",
      "[79.00]-SSE: 11183.36 \r\n",
      "\n",
      "[80.00]-SSE: 11193.87 \r\n",
      "\n",
      "[81.00]-SSE: 11204.39 \r\n",
      "\n",
      "[82.00]-SSE: 11214.94 \r\n",
      "\n",
      "[83.00]-SSE: 11225.50 \r\n",
      "\n",
      "[84.00]-SSE: 11236.09 \r\n",
      "\n",
      "[85.00]-SSE: 11246.69 \r\n",
      "\n",
      "[86.00]-SSE: 11257.31 \r\n",
      "\n",
      "[87.00]-SSE: 11267.95 \r\n",
      "\n",
      "[88.00]-SSE: 11278.60 \r\n",
      "\n",
      "[89.00]-SSE: 11289.28 \r\n",
      "\n",
      "[90.00]-SSE: 11299.96 \r\n",
      "\n",
      "[91.00]-SSE: 11310.67 \r\n",
      "\n",
      "[92.00]-SSE: 11321.38 \r\n",
      "\n",
      "[93.00]-SSE: 11332.11 \r\n",
      "\n",
      "[94.00]-SSE: 11342.86 \r\n",
      "\n",
      "[95.00]-SSE: 11353.62 \r\n",
      "\n",
      "[96.00]-SSE: 11364.39 \r\n",
      "\n",
      "[97.00]-SSE: 11375.17 \r\n",
      "\n",
      "[98.00]-SSE: 11385.96 \r\n",
      "\n",
      "[99.00]-SSE: 11396.77 \r\n",
      "\n",
      "[100.00]-SSE: 11407.59 \r\n",
      "\n",
      "[0.20]-SSE: 9634.24 \r\n",
      "\n",
      "[0.40]-SSE: 9741.00 \r\n",
      "\n",
      "[0.80]-SSE: 9913.19 \r\n",
      "\n",
      "[0.07]-SSE: 9574.47 \r\n",
      "\n",
      "[21.00]-SSE: 10619.93 \r\n",
      "\n",
      "[0.01]-SSE: 9561.53 \r\n",
      "\n",
      "[0.60]-SSE: 9835.26 \r\n",
      "\n",
      "[0.30]-SSE: 9688.22 \r\n",
      "\n",
      "[0.05]-SSE: 9568.44 \r\n",
      "\n",
      "[0.04]-SSE: 9566.00 \r\n",
      "\n",
      "[0.90]-SSE: 9946.78 \r\n",
      "\n",
      "[0.10]-SSE: 9585.75 \r\n",
      "\n",
      "[0.08]-SSE: 9577.97 \r\n",
      "\n",
      "[0.02]-SSE: 9562.48 \r\n",
      "\n",
      "[0.70]-SSE: 9876.15 \r\n",
      "\n",
      "[0.06]-SSE: 9571.28 \r\n",
      "\n",
      "[0.09]-SSE: 9581.74 \r\n",
      "\n",
      "Testing Model:\n",
      "[0.50]-SSE: 873.74 \r\n",
      "\n",
      "[1.00]-SSE: 878.50 \r\n",
      "\n",
      "[2.00]-SSE: 883.70 \r\n",
      "\n",
      "[3.00]-SSE: 888.66 \r\n",
      "\n",
      "[4.00]-SSE: 894.22 \r\n",
      "\n",
      "[5.00]-SSE: 900.44 \r\n",
      "\n",
      "[6.00]-SSE: 907.29 \r\n",
      "\n",
      "[7.00]-SSE: 914.66 \r\n",
      "\n",
      "[8.00]-SSE: 922.49 \r\n",
      "\n",
      "[9.00]-SSE: 930.70 \r\n",
      "\n",
      "[10.00]-SSE: 939.23 \r\n",
      "\n",
      "[11.00]-SSE: 948.01 \r\n",
      "\n",
      "[12.00]-SSE: 956.99 \r\n",
      "\n",
      "[13.00]-SSE: 966.14 \r\n",
      "\n",
      "[14.00]-SSE: 975.42 \r\n",
      "\n",
      "[15.00]-SSE: 984.78 \r\n",
      "\n",
      "[16.00]-SSE: 994.20 \r\n",
      "\n",
      "[17.00]-SSE: 1003.66 \r\n",
      "\n",
      "[18.00]-SSE: 1013.13 \r\n",
      "\n",
      "[19.00]-SSE: 1022.60 \r\n",
      "\n",
      "[20.00]-SSE: 1032.06 \r\n",
      "\n",
      "[0.03]-SSE: 854.13 \r\n",
      "\n",
      "[22.00]-SSE: 1050.84 \r\n",
      "\n",
      "[23.00]-SSE: 1060.16 \r\n",
      "\n",
      "[24.00]-SSE: 1069.41 \r\n",
      "\n",
      "[25.00]-SSE: 1078.59 \r\n",
      "\n",
      "[26.00]-SSE: 1087.69 \r\n",
      "\n",
      "[27.00]-SSE: 1096.71 \r\n",
      "\n",
      "[28.00]-SSE: 1105.64 \r\n",
      "\n",
      "[29.00]-SSE: 1114.48 \r\n",
      "\n",
      "[30.00]-SSE: 1123.23 \r\n",
      "\n",
      "[31.00]-SSE: 1131.88 \r\n",
      "\n",
      "[32.00]-SSE: 1140.43 \r\n",
      "\n",
      "[33.00]-SSE: 1148.88 \r\n",
      "\n",
      "[34.00]-SSE: 1157.23 \r\n",
      "\n",
      "[35.00]-SSE: 1165.48 \r\n",
      "\n",
      "[36.00]-SSE: 1173.63 \r\n",
      "\n",
      "[37.00]-SSE: 1181.67 \r\n",
      "\n",
      "[38.00]-SSE: 1189.61 \r\n",
      "\n",
      "[39.00]-SSE: 1197.45 \r\n",
      "\n",
      "[40.00]-SSE: 1205.19 \r\n",
      "\n",
      "[41.00]-SSE: 1212.83 \r\n",
      "\n",
      "[42.00]-SSE: 1220.37 \r\n",
      "\n",
      "[43.00]-SSE: 1227.81 \r\n",
      "\n",
      "[44.00]-SSE: 1235.15 \r\n",
      "\n",
      "[45.00]-SSE: 1242.39 \r\n",
      "\n",
      "[46.00]-SSE: 1249.54 \r\n",
      "\n",
      "[47.00]-SSE: 1256.59 \r\n",
      "\n",
      "[48.00]-SSE: 1263.55 \r\n",
      "\n",
      "[49.00]-SSE: 1270.42 \r\n",
      "\n",
      "[50.00]-SSE: 1277.19 \r\n",
      "\n",
      "[51.00]-SSE: 1283.88 \r\n",
      "\n",
      "[52.00]-SSE: 1290.47 \r\n",
      "\n",
      "[53.00]-SSE: 1296.98 \r\n",
      "\n",
      "[54.00]-SSE: 1303.40 \r\n",
      "\n",
      "[55.00]-SSE: 1309.74 \r\n",
      "\n",
      "[56.00]-SSE: 1316.00 \r\n",
      "\n",
      "[57.00]-SSE: 1322.17 \r\n",
      "\n",
      "[58.00]-SSE: 1328.26 \r\n",
      "\n",
      "[59.00]-SSE: 1334.27 \r\n",
      "\n",
      "[60.00]-SSE: 1340.21 \r\n",
      "\n",
      "[61.00]-SSE: 1346.06 \r\n",
      "\n",
      "[62.00]-SSE: 1351.84 \r\n",
      "\n",
      "[63.00]-SSE: 1357.55 \r\n",
      "\n",
      "[64.00]-SSE: 1363.18 \r\n",
      "\n",
      "[65.00]-SSE: 1368.75 \r\n",
      "\n",
      "[66.00]-SSE: 1374.24 \r\n",
      "\n",
      "[67.00]-SSE: 1379.66 \r\n",
      "\n",
      "[68.00]-SSE: 1385.01 \r\n",
      "\n",
      "[69.00]-SSE: 1390.30 \r\n",
      "\n",
      "[70.00]-SSE: 1395.52 \r\n",
      "\n",
      "[71.00]-SSE: 1400.68 \r\n",
      "\n",
      "[72.00]-SSE: 1405.77 \r\n",
      "\n",
      "[73.00]-SSE: 1410.80 \r\n",
      "\n",
      "[74.00]-SSE: 1415.77 \r\n",
      "\n",
      "[75.00]-SSE: 1420.68 \r\n",
      "\n",
      "[76.00]-SSE: 1425.53 \r\n",
      "\n",
      "[77.00]-SSE: 1430.32 \r\n",
      "\n",
      "[78.00]-SSE: 1435.05 \r\n",
      "\n",
      "[79.00]-SSE: 1439.73 \r\n",
      "\n",
      "[80.00]-SSE: 1444.35 \r\n",
      "\n",
      "[81.00]-SSE: 1448.92 \r\n",
      "\n",
      "[82.00]-SSE: 1453.44 \r\n",
      "\n",
      "[83.00]-SSE: 1457.90 \r\n",
      "\n",
      "[84.00]-SSE: 1462.31 \r\n",
      "\n",
      "[85.00]-SSE: 1466.67 \r\n",
      "\n",
      "[86.00]-SSE: 1470.98 \r\n",
      "\n",
      "[87.00]-SSE: 1475.24 \r\n",
      "\n",
      "[88.00]-SSE: 1479.45 \r\n",
      "\n",
      "[89.00]-SSE: 1483.62 \r\n",
      "\n",
      "[90.00]-SSE: 1487.74 \r\n",
      "\n",
      "[91.00]-SSE: 1491.81 \r\n",
      "\n",
      "[92.00]-SSE: 1495.84 \r\n",
      "\n",
      "[93.00]-SSE: 1499.82 \r\n",
      "\n",
      "[94.00]-SSE: 1503.76 \r\n",
      "\n",
      "[95.00]-SSE: 1507.66 \r\n",
      "\n",
      "[96.00]-SSE: 1511.51 \r\n",
      "\n",
      "[97.00]-SSE: 1515.33 \r\n",
      "\n",
      "[98.00]-SSE: 1519.10 \r\n",
      "\n",
      "[99.00]-SSE: 1522.83 \r\n",
      "\n",
      "[100.00]-SSE: 1526.53 \r\n",
      "\n",
      "[0.20]-SSE: 865.99 \r\n",
      "\n",
      "[0.40]-SSE: 872.00 \r\n",
      "\n",
      "[0.80]-SSE: 877.03 \r\n",
      "\n",
      "[0.07]-SSE: 857.66 \r\n",
      "\n",
      "[21.00]-SSE: 1041.47 \r\n",
      "\n",
      "[0.01]-SSE: 852.76 \r\n",
      "\n",
      "[0.60]-SSE: 875.07 \r\n",
      "\n",
      "[0.30]-SSE: 869.59 \r\n",
      "\n",
      "[0.05]-SSE: 855.89 \r\n",
      "\n",
      "[0.04]-SSE: 854.99 \r\n",
      "\n",
      "[0.90]-SSE: 877.81 \r\n",
      "\n",
      "[0.10]-SSE: 860.10 \r\n",
      "\n",
      "[0.08]-SSE: 858.51 \r\n",
      "\n",
      "[0.02]-SSE: 853.36 \r\n",
      "\n",
      "[0.70]-SSE: 876.14 \r\n",
      "\n",
      "[0.06]-SSE: 856.78 \r\n",
      "\n",
      "[0.09]-SSE: 859.32 \r\n",
      "\n"
     ]
    }
   ],
   "source": [
    "# Part 6 cont\n",
    "# Split off known target values\n",
    "y_train = X_init_train[:,13]\n",
    "y_test = X_init_test[:,13]\n",
    "\n",
    "# Add dimension to y_train and transpose\n",
    "y_train = y_train[np.newaxis].T\n",
    "y_test = y_test[np.newaxis].T\n",
    "\n",
    "# Remove column 13 from X\n",
    "X_train = np.delete(X_init_train, 13, axis=1)\n",
    "X_test = np.delete(X_init_test, 13, axis=1)\n",
    "\n",
    "# Function to create array of dummy ones and returned \n",
    "# columnar vector\n",
    "def make_dummy_vector(target):\n",
    "    temp = np.ones(len(target))\n",
    "    return temp[np.newaxis].T\n",
    "\n",
    "# Create dummy 1 values\n",
    "dummy_train = make_dummy_vector(X_train)\n",
    "dummy_test = make_dummy_vector(X_test)\n",
    "\n",
    "# Add dummy data to feature matrices\n",
    "X_train = np.concatenate((dummy_train, X_train), axis=1)\n",
    "X_test = np.concatenate((dummy_test, X_test), axis=1)\n",
    "\n",
    "# Compute optimal weight vector w -- (X^T * X + lamda * I)^-1 (X^T * Y)\n",
    "def calc_w_vector(X, y, lamda):\n",
    "    I = np.identity(len(np.dot(X.T,X)))\n",
    "    return np.dot(inv(np.dot(X.T,X) + lamda * I), np.dot(X.T,y))\n",
    "\n",
    "def alt_calc(X,y):\n",
    "    return np.dot(np.dot(inv(X), inv(X.T), np.dot(X.T,y)))\n",
    "    \n",
    "# Limit printout to 3 decimal places\n",
    "np.set_printoptions(precision=3)\n",
    "w_train_results, w_test_results = {}, {}\n",
    "lamdas = [\n",
    "    0.01, 0.02, 0.03, 0.04, 0.05, 0.06, 0.07, 0.08, 0.09,\n",
    "    0.1,  0.2,  0.3,  0.4,  0.5,  0.6,  0.7,  0.8,  0.9,\n",
    "    1,    2,    3,    4,    5,    6,    7,    8,    9,    10,\n",
    "    11,   12,   13,   14,   15,   16,   17,   18,   19,   20,\n",
    "    21,   22,   23,   24,   25,   26,   27,   28,   29,   30,   \n",
    "    31,   32,   33,   34,   35,   36,   37,   38,   39,   40,   \n",
    "    41,   42,   43,   44,   45,   46,   47,   48,   49,   50,   \n",
    "    51,   52,   53,   54,   55,   56,   57,   58,   59,   60,\n",
    "    61,   62,   63,   64,   65,   66,   67,   68,   69,   70,\n",
    "    71,   72,   73,   74,   75,   76,   77,   78,   79,   80,   \n",
    "    81,   82,   83,   84,   85,   86,   87,   88,   89,   90,   \n",
    "    91,   92,   93,   94,   95,   96,   97,   98,   99,   100\n",
    "]\n",
    "# print lamdas\n",
    "# Caculate w vectors\n",
    "for lamda in lamdas:\n",
    "    w_train_results.setdefault(lamda, [])\n",
    "    w_train = calc_w_vector(X_train,y_train, lamda)\n",
    "    w_train_results[lamda] = w_train\n",
    "    \n",
    "    w_test_results.setdefault(lamda, [])\n",
    "    w_test = calc_w_vector(X_test,y_test, lamda)\n",
    "    w_test_results[lamda] = w_test\n",
    "\n",
    "sse_train, sse_test = {}, {}\n",
    "# Print error output, not sure about the 0 values\n",
    "print 'Training Model:'\n",
    "for key in w_train_results:\n",
    "    w_train = w_train_results[key]\n",
    "    target_func_train = np.dot(X_train, w_train)\n",
    "    sse = calc_sse(X_train, y_train, w_train)\n",
    "    sse_train.setdefault(key, sse[0][0])\n",
    "    print '[%0.2f]-SSE: %.2f \\r\\n' % (key, sse)\n",
    "\n",
    "print 'Testing Model:'\n",
    "for key in w_test_results:\n",
    "    w_test = w_test_results[key]\n",
    "    target_func_test = np.dot(X_test, w_test)\n",
    "    sse = calc_sse(X_test, y_test, w_test)\n",
    "    sse_test.setdefault(key, sse[0][0])\n",
    "    print '[%0.2f]-SSE: %.2f \\r\\n' % (key, sse)"
   ]
  },
  {
   "cell_type": "code",
   "execution_count": 65,
   "metadata": {
    "collapsed": false
   },
   "outputs": [
    {
     "data": {
      "text/plain": [
       "<matplotlib.collections.PathCollection at 0xc1bb668>"
      ]
     },
     "execution_count": 65,
     "metadata": {},
     "output_type": "execute_result"
    },
    {
     "data": {
      "image/png": "[encoded data removed]",
      "text/plain": [
       "<matplotlib.figure.Figure at 0xc031390>"
      ]
     },
     "metadata": {},
     "output_type": "display_data"
    }
   ],
   "source": [
    "## part 6 plot\n",
    "x = sse_train.keys()\n",
    "y = sse_train.values()\n",
    "plt.scatter(x, y, marker=\".\")\n",
    "\n",
    "x = sse_test.keys()\n",
    "y = sse_test.values()\n",
    "plt.scatter(x, y, marker=\".\")"
   ]
  },
  {
   "cell_type": "code",
   "execution_count": null,
   "metadata": {
    "collapsed": true
   },
   "outputs": [],
   "source": [
    "## part 8 cont"
   ]
  },
  {
   "cell_type": "code",
   "execution_count": 43,
   "metadata": {
    "collapsed": true
   },
   "outputs": [],
   "source": [
    "## Extra stuff below ##"
   ]
  },
  {
   "cell_type": "code",
   "execution_count": 44,
   "metadata": {
    "collapsed": false
   },
   "outputs": [
    {
     "name": "stdout",
     "output_type": "stream",
     "text": [
      "(433L, 14L)\n",
      "(14L, 1L)\n"
     ]
    }
   ],
   "source": [
    "print X_train.shape\n",
    "print w_train.shape"
   ]
  },
  {
   "cell_type": "code",
   "execution_count": 45,
   "metadata": {
    "collapsed": false
   },
   "outputs": [
    {
     "name": "stdout",
     "output_type": "stream",
     "text": [
      "[[  1.000e+00   1.000e+00   1.000e+00 ...,   1.000e+00   1.000e+00\n",
      "    1.000e+00]\n",
      " [  6.320e-03   2.731e-02   2.729e-02 ...,   6.076e-02   1.096e-01\n",
      "    4.741e-02]\n",
      " [  1.800e+01   0.000e+00   0.000e+00 ...,   0.000e+00   0.000e+00\n",
      "    0.000e+00]\n",
      " ..., \n",
      " [  1.530e+01   1.780e+01   1.780e+01 ...,   2.100e+01   2.100e+01\n",
      "    2.100e+01]\n",
      " [  3.969e+02   3.969e+02   3.928e+02 ...,   3.969e+02   3.934e+02\n",
      "    3.969e+02]\n",
      " [  4.980e+00   9.140e+00   4.030e+00 ...,   5.640e+00   6.480e+00\n",
      "    7.880e+00]]\n"
     ]
    }
   ],
   "source": [
    "print X_train.T"
   ]
  },
  {
   "cell_type": "code",
   "execution_count": 46,
   "metadata": {
    "collapsed": false
   },
   "outputs": [
    {
     "name": "stdout",
     "output_type": "stream",
     "text": [
      "Printing X_train:\n",
      "[[   1.       0.006   18.    ...,   15.3    396.9      4.98 ]\n",
      " [   1.       0.027    0.    ...,   17.8    396.9      9.14 ]\n",
      " [   1.       0.027    0.    ...,   17.8    392.83     4.03 ]\n",
      " ..., \n",
      " [   1.       0.061    0.    ...,   21.     396.9      5.64 ]\n",
      " [   1.       0.11     0.    ...,   21.     393.45     6.48 ]\n",
      " [   1.       0.047    0.    ...,   21.     396.9      7.88 ]]\n"
     ]
    }
   ],
   "source": [
    "# Don't show scientific notation\n",
    "np.set_printoptions(suppress=True)\n",
    "\n",
    "print \"Printing X_train:\"\n",
    "print X_train"
   ]
  },
  {
   "cell_type": "code",
   "execution_count": 47,
   "metadata": {
    "collapsed": false
   },
   "outputs": [
    {
     "name": "stdout",
     "output_type": "stream",
     "text": [
      "Printing y_train:\n",
      "[[ 24. ]\n",
      " [ 21.6]\n",
      " [ 34.7]\n",
      " [ 33.4]\n",
      " [ 36.2]\n",
      " [ 28.7]\n",
      " [ 22.9]\n",
      " [ 27.1]\n",
      " [ 16.5]\n",
      " [ 18.9]\n",
      " [ 15. ]\n",
      " [ 18.9]\n",
      " [ 21.7]\n",
      " [ 20.4]\n",
      " [ 18.2]\n",
      " [ 19.9]\n",
      " [ 23.1]\n",
      " [ 17.5]\n",
      " [ 20.2]\n",
      " [ 18.2]\n",
      " [ 13.6]\n",
      " [ 19.6]\n",
      " [ 15.2]\n",
      " [ 14.5]\n",
      " [ 15.6]\n",
      " [ 12.7]\n",
      " [ 14.5]\n",
      " [ 13.2]\n",
      " [ 13.1]\n",
      " [ 13.5]\n",
      " [ 18.9]\n",
      " [ 20. ]\n",
      " [ 21. ]\n",
      " [ 24.7]\n",
      " [ 30.8]\n",
      " [ 34.9]\n",
      " [ 26.6]\n",
      " [ 25.3]\n",
      " [ 24.7]\n",
      " [ 21.2]\n",
      " [ 19.3]\n",
      " [ 20. ]\n",
      " [ 19.7]\n",
      " [ 20.5]\n",
      " [ 25. ]\n",
      " [ 23.4]\n",
      " [ 18.9]\n",
      " [ 35.4]\n",
      " [ 24.7]\n",
      " [ 31.6]\n",
      " [ 23.3]\n",
      " [ 19.6]\n",
      " [ 18.7]\n",
      " [ 16. ]\n",
      " [ 22.2]\n",
      " [ 25. ]\n",
      " [ 33. ]\n",
      " [ 23.5]\n",
      " [ 19.4]\n",
      " [ 22. ]\n",
      " [ 17.4]\n",
      " [ 20.9]\n",
      " [ 24.2]\n",
      " [ 21.7]\n",
      " [ 22.8]\n",
      " [ 23.4]\n",
      " [ 24.1]\n",
      " [ 21.4]\n",
      " [ 23.9]\n",
      " [ 24.8]\n",
      " [ 22.9]\n",
      " [ 23.9]\n",
      " [ 26.6]\n",
      " [ 22.5]\n",
      " [ 22.2]\n",
      " [ 23.6]\n",
      " [ 28.7]\n",
      " [ 22.6]\n",
      " [ 22. ]\n",
      " [ 22.9]\n",
      " [ 25. ]\n",
      " [ 20.6]\n",
      " [ 28.4]\n",
      " [ 21.4]\n",
      " [ 38.7]\n",
      " [ 43.8]\n",
      " [ 33.2]\n",
      " [ 27.5]\n",
      " [ 20.1]\n",
      " [ 19.5]\n",
      " [ 19.5]\n",
      " [ 20.4]\n",
      " [ 19.8]\n",
      " [ 19.4]\n",
      " [ 21.7]\n",
      " [ 22.8]\n",
      " [ 18.8]\n",
      " [ 18.7]\n",
      " [ 18.5]\n",
      " [ 18.3]\n",
      " [ 21.2]\n",
      " [ 19.2]\n",
      " [ 20.4]\n",
      " [ 19.3]\n",
      " [ 22. ]\n",
      " [ 20.3]\n",
      " [ 20.5]\n",
      " [ 17.3]\n",
      " [ 18.8]\n",
      " [ 21.4]\n",
      " [ 15.7]\n",
      " [ 16.2]\n",
      " [ 18. ]\n",
      " [ 14.3]\n",
      " [ 19.2]\n",
      " [ 19.6]\n",
      " [ 17.1]\n",
      " [ 13.3]\n",
      " [ 17.8]\n",
      " [ 14. ]\n",
      " [ 14.4]\n",
      " [ 13.4]\n",
      " [ 15.6]\n",
      " [ 11.8]\n",
      " [ 13.8]\n",
      " [ 17.8]\n",
      " [ 15.4]\n",
      " [ 21.5]\n",
      " [ 19.6]\n",
      " [ 15.3]\n",
      " [ 19.4]\n",
      " [ 17. ]\n",
      " [ 15.6]\n",
      " [ 13.1]\n",
      " [ 41.3]\n",
      " [ 24.3]\n",
      " [ 23.3]\n",
      " [ 27. ]\n",
      " [ 50. ]\n",
      " [ 50. ]\n",
      " [ 50. ]\n",
      " [ 22.7]\n",
      " [ 25. ]\n",
      " [ 50. ]\n",
      " [ 19.1]\n",
      " [ 23.1]\n",
      " [ 23.6]\n",
      " [ 22.6]\n",
      " [ 29.4]\n",
      " [ 23.2]\n",
      " [ 24.6]\n",
      " [ 29.9]\n",
      " [ 37.2]\n",
      " [ 39.8]\n",
      " [ 36.2]\n",
      " [ 37.9]\n",
      " [ 32.5]\n",
      " [ 26.4]\n",
      " [ 29.6]\n",
      " [ 50. ]\n",
      " [ 32. ]\n",
      " [ 31.1]\n",
      " [ 29.1]\n",
      " [ 50. ]\n",
      " [ 33.3]\n",
      " [ 30.3]\n",
      " [ 34.6]\n",
      " [ 34.9]\n",
      " [ 32.9]\n",
      " [ 24.1]\n",
      " [ 42.3]\n",
      " [ 48.5]\n",
      " [ 50. ]\n",
      " [ 22.6]\n",
      " [ 24.4]\n",
      " [ 22.5]\n",
      " [ 24.4]\n",
      " [ 20. ]\n",
      " [ 21.7]\n",
      " [ 19.3]\n",
      " [ 22.4]\n",
      " [ 28.1]\n",
      " [ 23.7]\n",
      " [ 25. ]\n",
      " [ 23.3]\n",
      " [ 28.7]\n",
      " [ 21.5]\n",
      " [ 23. ]\n",
      " [ 30.1]\n",
      " [ 44.8]\n",
      " [ 50. ]\n",
      " [ 37.6]\n",
      " [ 31.6]\n",
      " [ 46.7]\n",
      " [ 31.5]\n",
      " [ 24.3]\n",
      " [ 31.7]\n",
      " [ 41.7]\n",
      " [ 48.3]\n",
      " [ 29. ]\n",
      " [ 24. ]\n",
      " [ 25.1]\n",
      " [ 31.5]\n",
      " [ 23.7]\n",
      " [ 23.3]\n",
      " [ 22. ]\n",
      " [ 20.1]\n",
      " [ 22.2]\n",
      " [ 23.7]\n",
      " [ 17.6]\n",
      " [ 18.5]\n",
      " [ 24.3]\n",
      " [ 20.5]\n",
      " [ 24.5]\n",
      " [ 21.9]\n",
      " [ 20.9]\n",
      " [ 44. ]\n",
      " [ 50. ]\n",
      " [ 36. ]\n",
      " [ 43.1]\n",
      " [ 48.8]\n",
      " [ 31. ]\n",
      " [ 36.5]\n",
      " [ 22.8]\n",
      " [ 30.7]\n",
      " [ 50. ]\n",
      " [ 43.5]\n",
      " [ 20.7]\n",
      " [ 21.1]\n",
      " [ 25.2]\n",
      " [ 24.4]\n",
      " [ 35.2]\n",
      " [ 32.4]\n",
      " [ 32. ]\n",
      " [ 33.2]\n",
      " [ 33.1]\n",
      " [ 29.1]\n",
      " [ 35.1]\n",
      " [ 45.4]\n",
      " [ 35.4]\n",
      " [ 46. ]\n",
      " [ 50. ]\n",
      " [ 32.2]\n",
      " [ 22.3]\n",
      " [ 24.8]\n",
      " [ 28.5]\n",
      " [ 37.3]\n",
      " [ 27.9]\n",
      " [ 23.9]\n",
      " [ 21.7]\n",
      " [ 28.6]\n",
      " [ 27.1]\n",
      " [ 20.3]\n",
      " [ 22.5]\n",
      " [ 29. ]\n",
      " [ 24.8]\n",
      " [ 22. ]\n",
      " [ 26.4]\n",
      " [ 33.1]\n",
      " [ 36.1]\n",
      " [ 28.4]\n",
      " [ 33.4]\n",
      " [ 28.2]\n",
      " [ 22.8]\n",
      " [ 20.3]\n",
      " [ 16.1]\n",
      " [ 22.1]\n",
      " [ 19.4]\n",
      " [ 21.6]\n",
      " [ 23.8]\n",
      " [ 16.2]\n",
      " [ 17.8]\n",
      " [ 19.8]\n",
      " [ 23.1]\n",
      " [ 21. ]\n",
      " [ 23.8]\n",
      " [ 23.1]\n",
      " [ 20.4]\n",
      " [ 18.5]\n",
      " [ 25. ]\n",
      " [ 24.6]\n",
      " [ 23. ]\n",
      " [ 22.2]\n",
      " [ 19.3]\n",
      " [ 22.6]\n",
      " [ 19.8]\n",
      " [ 17.1]\n",
      " [ 19.4]\n",
      " [ 22.2]\n",
      " [ 20.7]\n",
      " [ 21.1]\n",
      " [ 19.5]\n",
      " [ 18.5]\n",
      " [ 20.6]\n",
      " [ 19. ]\n",
      " [ 18.7]\n",
      " [ 32.7]\n",
      " [ 16.5]\n",
      " [ 23.9]\n",
      " [ 31.2]\n",
      " [ 17.5]\n",
      " [ 17.2]\n",
      " [ 23.1]\n",
      " [ 24.5]\n",
      " [ 26.6]\n",
      " [ 22.9]\n",
      " [ 24.1]\n",
      " [ 18.6]\n",
      " [ 30.1]\n",
      " [ 25. ]\n",
      " [ 19.9]\n",
      " [ 20.8]\n",
      " [ 16.8]\n",
      " [ 21.9]\n",
      " [ 27.5]\n",
      " [ 21.9]\n",
      " [ 23.1]\n",
      " [ 50. ]\n",
      " [ 50. ]\n",
      " [ 50. ]\n",
      " [ 50. ]\n",
      " [ 50. ]\n",
      " [ 13.8]\n",
      " [ 13.9]\n",
      " [ 13.3]\n",
      " [ 13.1]\n",
      " [ 10.2]\n",
      " [ 10.4]\n",
      " [ 10.9]\n",
      " [ 11.3]\n",
      " [ 12.3]\n",
      " [  8.8]\n",
      " [  7.2]\n",
      " [ 10.5]\n",
      " [  7.4]\n",
      " [ 10.2]\n",
      " [ 11.5]\n",
      " [ 15.1]\n",
      " [ 23.2]\n",
      " [  9.7]\n",
      " [ 13.8]\n",
      " [ 12.7]\n",
      " [ 13.1]\n",
      " [ 12.5]\n",
      " [  8.5]\n",
      " [  5. ]\n",
      " [  6.3]\n",
      " [  5.6]\n",
      " [  7.2]\n",
      " [ 12.1]\n",
      " [  8.3]\n",
      " [  8.5]\n",
      " [  5. ]\n",
      " [ 11.9]\n",
      " [ 27.9]\n",
      " [ 17.2]\n",
      " [  7. ]\n",
      " [  7.2]\n",
      " [  7.5]\n",
      " [ 10.4]\n",
      " [  8.8]\n",
      " [  8.4]\n",
      " [ 16.7]\n",
      " [ 14.2]\n",
      " [ 20.8]\n",
      " [ 13.4]\n",
      " [ 11.7]\n",
      " [  8.3]\n",
      " [  9.5]\n",
      " [ 14.5]\n",
      " [ 14.1]\n",
      " [ 16.1]\n",
      " [ 14.3]\n",
      " [ 11.7]\n",
      " [ 13.4]\n",
      " [  9.6]\n",
      " [  8.7]\n",
      " [  8.4]\n",
      " [ 12.8]\n",
      " [ 10.5]\n",
      " [ 17.1]\n",
      " [ 18.4]\n",
      " [ 15.4]\n",
      " [ 10.8]\n",
      " [ 14.1]\n",
      " [ 13. ]\n",
      " [ 13.4]\n",
      " [ 15.2]\n",
      " [ 16.1]\n",
      " [ 17.8]\n",
      " [ 14.9]\n",
      " [ 14.1]\n",
      " [ 12.7]\n",
      " [ 13.5]\n",
      " [ 14.9]\n",
      " [ 20. ]\n",
      " [ 16.4]\n",
      " [ 17.7]\n",
      " [ 19.5]\n",
      " [ 20.2]\n",
      " [ 21.4]\n",
      " [ 20.1]\n",
      " [ 19.9]\n",
      " [ 19.6]\n",
      " [ 23.2]\n",
      " [ 29.8]\n",
      " [ 13.8]\n",
      " [ 13.3]\n",
      " [ 16.7]\n",
      " [ 12. ]\n",
      " [ 14.6]\n",
      " [ 21.4]\n",
      " [ 23. ]\n",
      " [ 23.7]\n",
      " [ 25. ]\n",
      " [ 21.8]\n",
      " [ 20.6]\n",
      " [ 21.2]\n",
      " [ 19.1]\n",
      " [ 20.6]\n",
      " [ 21.8]\n",
      " [ 24.5]\n",
      " [ 23.1]\n",
      " [ 19.7]\n",
      " [ 18.3]\n",
      " [ 21.2]\n",
      " [ 17.5]\n",
      " [ 16.8]\n",
      " [ 22.4]\n",
      " [ 20.6]\n",
      " [ 23.9]\n",
      " [ 22. ]\n",
      " [ 11.9]]\n"
     ]
    }
   ],
   "source": [
    "print \"Printing y_train:\"\n",
    "print y_train"
   ]
  },
  {
   "cell_type": "code",
   "execution_count": 48,
   "metadata": {
    "collapsed": false
   },
   "outputs": [
    {
     "data": {
      "text/plain": [
       "<matplotlib.collections.PathCollection at 0xa24b0b8>"
      ]
     },
     "execution_count": 48,
     "metadata": {},
     "output_type": "execute_result"
    },
    {
     "data": {
      "image/png": "[encoded data removed]",
      "text/plain": [
       "<matplotlib.figure.Figure at 0xa12a630>"
      ]
     },
     "metadata": {},
     "output_type": "display_data"
    }
   ],
   "source": [
    "# Plot feature 1: Crime rate by town\n",
    "plt.scatter(X_train[:, 0],y_train, marker=\".\")"
   ]
  },
  {
   "cell_type": "code",
   "execution_count": 49,
   "metadata": {
    "collapsed": false
   },
   "outputs": [
    {
     "data": {
      "text/plain": [
       "<matplotlib.collections.PathCollection at 0xa405a58>"
      ]
     },
     "execution_count": 49,
     "metadata": {},
     "output_type": "execute_result"
    },
    {
     "data": {
      "image/png": "[encoded data removed]",
      "text/plain": [
       "<matplotlib.figure.Figure at 0xa143860>"
      ]
     },
     "metadata": {},
     "output_type": "display_data"
    }
   ],
   "source": [
    "# Plot feature 2: Residential land zoned for lots over 25,0000 sq. ft\n",
    "plt.scatter(X_train[:, 1],y_train, marker=\".\")"
   ]
  },
  {
   "cell_type": "code",
   "execution_count": 50,
   "metadata": {
    "collapsed": false
   },
   "outputs": [
    {
     "data": {
      "text/plain": [
       "<matplotlib.collections.PathCollection at 0xa5b7cf8>"
      ]
     },
     "execution_count": 50,
     "metadata": {},
     "output_type": "execute_result"
    },
    {
     "data": {
      "image/png": "[encoded data removed]",
      "text/plain": [
       "<matplotlib.figure.Figure at 0xa359eb8>"
      ]
     },
     "metadata": {},
     "output_type": "display_data"
    }
   ],
   "source": [
    "# Multiplotting feature 1 & 2\n",
    "plt.scatter(X_train[:, 0],y_train, marker=\".\")\n",
    "plt.scatter(X_train[:, 1],y_train, marker=\".\")"
   ]
  },
  {
   "cell_type": "code",
   "execution_count": 51,
   "metadata": {
    "collapsed": false
   },
   "outputs": [
    {
     "data": {
      "text/plain": [
       "<matplotlib.collections.PathCollection at 0xa7c09e8>"
      ]
     },
     "execution_count": 51,
     "metadata": {},
     "output_type": "execute_result"
    },
    {
     "data": {
      "image/png": "[encoded data removed]",
      "text/plain": [
       "<matplotlib.figure.Figure at 0x7eb7ba8>"
      ]
     },
     "metadata": {},
     "output_type": "display_data"
    }
   ],
   "source": [
    "# Plot feature 3: Proportion of non-retail business acres per town\n",
    "plt.scatter(X_train[:, 2],y_train, marker=\".\")"
   ]
  },
  {
   "cell_type": "code",
   "execution_count": 52,
   "metadata": {
    "collapsed": false
   },
   "outputs": [
    {
     "data": {
      "text/plain": [
       "<matplotlib.collections.PathCollection at 0xaa129b0>"
      ]
     },
     "execution_count": 52,
     "metadata": {},
     "output_type": "execute_result"
    },
    {
     "data": {
      "image/png": "[encoded data removed]",
      "text/plain": [
       "<matplotlib.figure.Figure at 0xa800470>"
      ]
     },
     "metadata": {},
     "output_type": "display_data"
    }
   ],
   "source": [
    "# Plot feature 4: Charles River dummy variable (= 1 if tract bounds river, 0 otherwise)\n",
    "plt.scatter(X_train[:, 3],y_train, marker=\".\")"
   ]
  },
  {
   "cell_type": "code",
   "execution_count": 53,
   "metadata": {
    "collapsed": false
   },
   "outputs": [
    {
     "data": {
      "text/plain": [
       "<matplotlib.collections.PathCollection at 0xabdb908>"
      ]
     },
     "execution_count": 53,
     "metadata": {},
     "output_type": "execute_result"
    },
    {
     "data": {
      "image/png": "[encoded data removed]",
      "text/plain": [
       "<matplotlib.figure.Figure at 0xab0b7f0>"
      ]
     },
     "metadata": {},
     "output_type": "display_data"
    }
   ],
   "source": [
    "# Plot feature 5: Nitric oxides concentration (parts per 10 million)\n",
    "plt.scatter(X_train[:, 4],y_train, marker=\".\")"
   ]
  },
  {
   "cell_type": "code",
   "execution_count": 54,
   "metadata": {
    "collapsed": false
   },
   "outputs": [
    {
     "data": {
      "text/plain": [
       "<matplotlib.collections.PathCollection at 0xac8a9e8>"
      ]
     },
     "execution_count": 54,
     "metadata": {},
     "output_type": "execute_result"
    },
    {
     "data": {
      "image/png": "[encoded data removed]",
      "text/plain": [
       "<matplotlib.figure.Figure at 0xacce5c0>"
      ]
     },
     "metadata": {},
     "output_type": "display_data"
    }
   ],
   "source": [
    "# Plot feature 6: Average number fo rooms per dwelling\n",
    "plt.scatter(X_train[:, 5],y_train, marker=\".\")"
   ]
  },
  {
   "cell_type": "code",
   "execution_count": 55,
   "metadata": {
    "collapsed": false
   },
   "outputs": [
    {
     "data": {
      "text/plain": [
       "<matplotlib.collections.PathCollection at 0xafc84a8>"
      ]
     },
     "execution_count": 55,
     "metadata": {},
     "output_type": "execute_result"
    },
    {
     "data": {
      "image/png": "[encoded data removed]",
      "text/plain": [
       "<matplotlib.figure.Figure at 0xae6b748>"
      ]
     },
     "metadata": {},
     "output_type": "display_data"
    }
   ],
   "source": [
    "# Plot feature 7: Porportion of owner-occupied units built prior to 1940\n",
    "plt.scatter(X_train[:, 6],y_train, marker=\".\")"
   ]
  },
  {
   "cell_type": "code",
   "execution_count": 56,
   "metadata": {
    "collapsed": false
   },
   "outputs": [
    {
     "data": {
      "text/plain": [
       "<matplotlib.collections.PathCollection at 0xb216588>"
      ]
     },
     "execution_count": 56,
     "metadata": {},
     "output_type": "execute_result"
    },
    {
     "data": {
      "image/png": "[encoded data removed]",
      "text/plain": [
       "<matplotlib.figure.Figure at 0xb0b6358>"
      ]
     },
     "metadata": {},
     "output_type": "display_data"
    }
   ],
   "source": [
    "# Plot feature 8: Weighted distances to five Boston employment centers\n",
    "plt.scatter(X_train[:, 7],y_train, marker=\".\")"
   ]
  },
  {
   "cell_type": "code",
   "execution_count": 57,
   "metadata": {
    "collapsed": false
   },
   "outputs": [
    {
     "data": {
      "text/plain": [
       "<matplotlib.collections.PathCollection at 0xb3de4a8>"
      ]
     },
     "execution_count": 57,
     "metadata": {},
     "output_type": "execute_result"
    },
    {
     "data": {
      "image/png": "[encoded data removed]",
      "text/plain": [
       "<matplotlib.figure.Figure at 0xb2c56d8>"
      ]
     },
     "metadata": {},
     "output_type": "display_data"
    }
   ],
   "source": [
    "# Plot feature 9: Index of accessability to radial highways\n",
    "plt.scatter(X_train[:, 8],y_train, marker=\".\")"
   ]
  },
  {
   "cell_type": "code",
   "execution_count": 58,
   "metadata": {
    "collapsed": false
   },
   "outputs": [
    {
     "data": {
      "text/plain": [
       "<matplotlib.collections.PathCollection at 0xb5ea588>"
      ]
     },
     "execution_count": 58,
     "metadata": {},
     "output_type": "execute_result"
    },
    {
     "data": {
      "image/png": "[encoded data removed]",
      "text/plain": [
       "<matplotlib.figure.Figure at 0xb408048>"
      ]
     },
     "metadata": {},
     "output_type": "display_data"
    }
   ],
   "source": [
    "# Plot feature 10: Full-value property-tax rate per $10,000\n",
    "plt.scatter(X_train[:, 9],y_train, marker=\".\")"
   ]
  },
  {
   "cell_type": "code",
   "execution_count": 59,
   "metadata": {
    "collapsed": false
   },
   "outputs": [
    {
     "data": {
      "text/plain": [
       "<matplotlib.collections.PathCollection at 0xb7b74a8>"
      ]
     },
     "execution_count": 59,
     "metadata": {},
     "output_type": "execute_result"
    },
    {
     "data": {
      "image/png": "[encoded data removed]",
      "text/plain": [
       "<matplotlib.figure.Figure at 0xb61cd30>"
      ]
     },
     "metadata": {},
     "output_type": "display_data"
    }
   ],
   "source": [
    "# Plot feature 11: Pupil-teacher ratio by town\n",
    "plt.scatter(X_train[:, 10],y_train, marker=\".\")"
   ]
  },
  {
   "cell_type": "code",
   "execution_count": 60,
   "metadata": {
    "collapsed": false
   },
   "outputs": [
    {
     "data": {
      "text/plain": [
       "<matplotlib.collections.PathCollection at 0xb96bfd0>"
      ]
     },
     "execution_count": 60,
     "metadata": {},
     "output_type": "execute_result"
    },
    {
     "data": {
      "image/png": "[encoded data removed]",
      "text/plain": [
       "<matplotlib.figure.Figure at 0xb8a5470>"
      ]
     },
     "metadata": {},
     "output_type": "display_data"
    }
   ],
   "source": [
    "# Plot feature 12: 1000(Bk - 0.63)^2 where Bk is the population fo blacks by town\n",
    "plt.scatter(X_train[:, 11],y_train, marker=\".\")"
   ]
  },
  {
   "cell_type": "code",
   "execution_count": 61,
   "metadata": {
    "collapsed": false
   },
   "outputs": [
    {
     "data": {
      "text/plain": [
       "<matplotlib.collections.PathCollection at 0xba13da0>"
      ]
     },
     "execution_count": 61,
     "metadata": {},
     "output_type": "execute_result"
    },
    {
     "data": {
      "image/png": "[encoded data removed]",
      "text/plain": [
       "<matplotlib.figure.Figure at 0xb9337f0>"
      ]
     },
     "metadata": {},
     "output_type": "display_data"
    }
   ],
   "source": [
    "# Plot feature 13: % lower status of the population\n",
    "plt.scatter(X_train[:, 12],y_train, marker=\".\")"
   ]
  }
 ],
 "metadata": {
  "kernelspec": {
   "display_name": "Python 2",
   "language": "python",
   "name": "python2"
  },
  "language_info": {
   "codemirror_mode": {
    "name": "ipython",
    "version": 2
   },
   "file_extension": ".py",
   "mimetype": "text/x-python",
   "name": "python",
   "nbconvert_exporter": "python",
   "pygments_lexer": "ipython2",
   "version": "2.7.13"
  }
 },
 "nbformat": 4,
 "nbformat_minor": 0
}
