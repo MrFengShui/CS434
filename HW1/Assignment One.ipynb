{
 "cells": [
  {
   "cell_type": "code",
   "execution_count": 222,
   "metadata": {
    "collapsed": false
   },
   "outputs": [
    {
     "name": "stdout",
     "output_type": "stream",
     "text": [
      "{0: 'CRIM', 1: 'ZN', 2: 'INDUS', 3: 'CHAS', 4: 'NOX', 5: 'RM', 6: 'AGE', 7: 'DIS', 8: 'RAD', 9: 'TAX', 10: 'PTRATIO', 11: 'B', 12: 'LSTAT', 13: 'MEDV'}\n"
     ]
    }
   ],
   "source": [
    "# Import third party libraries\n",
    "\n",
    "# Numerical library\n",
    "import numpy as np\n",
    "\n",
    "# Machine learning library\n",
    "from sklearn import linear_model\n",
    "from sklearn import metrics\n",
    "\n",
    "# Used for matrix inversion\n",
    "from numpy.linalg import inv\n",
    "\n",
    "# Plotting library\n",
    "import matplotlib.pyplot as plt\n",
    "\n",
    "# Description of each column\n",
    "desc = {\n",
    "    0:'CRIM', 1:'ZN', 2:'INDUS', \n",
    "    3:'CHAS', 4:'NOX', 5:'RM', \n",
    "    6:'AGE', 7:'DIS', 8:'RAD', \n",
    "    9:'TAX', 10:'PTRATIO', 11:'B', \n",
    "    12:'LSTAT', 13:'MEDV'\n",
    "}\n",
    "\n",
    "# Allows for printing inline for jupyter notebook\n",
    "%matplotlib inline "
   ]
  },
  {
   "cell_type": "code",
   "execution_count": 140,
   "metadata": {
    "collapsed": false
   },
   "outputs": [],
   "source": [
    "# Load datasets and store in ndarray\n",
    "training_data = open('housing_train.txt','r')\n",
    "data_train = np.loadtxt(training_data)\n",
    "\n",
    "testing_data = open('housing_test.txt', 'r')\n",
    "data_test = np.loadtxt(testing_data)"
   ]
  },
  {
   "cell_type": "code",
   "execution_count": 141,
   "metadata": {
    "collapsed": false
   },
   "outputs": [],
   "source": [
    "# Split off known target values\n",
    "y_init_train = data_train[:,13]\n",
    "y_init_test = data_test[:,13]\n",
    "\n",
    "# Transpose row vector to columnar\n",
    "y_train = y_init_train[np.newaxis].T\n",
    "y_test = y_init_test[np.newaxis].T"
   ]
  },
  {
   "cell_type": "code",
   "execution_count": 142,
   "metadata": {
    "collapsed": false
   },
   "outputs": [],
   "source": [
    "# Remove column 13 from X\n",
    "X_init_train = np.delete(data_train, 13, axis=1)\n",
    "X_init_test = np.delete(data_test, 13, axis=1)\n",
    "\n",
    "# Function to create array of dummy ones and returned \n",
    "# columnar vector\n",
    "def make_dummy_vector(target):\n",
    "    temp = np.ones(len(target))\n",
    "    return temp[np.newaxis].T\n",
    "\n",
    "# Create dummy 1 values\n",
    "dummy_train = make_dummy_vector(X_init_train)\n",
    "dummy_test = make_dummy_vector(X_init_test)\n",
    "\n",
    "# Add dummy data to feature matrices\n",
    "X_train = np.concatenate((dummy_train, X_init_train), axis=1)\n",
    "X_test = np.concatenate((dummy_test, X_init_test), axis=1)"
   ]
  },
  {
   "cell_type": "code",
   "execution_count": 143,
   "metadata": {
    "collapsed": false
   },
   "outputs": [
    {
     "name": "stdout",
     "output_type": "stream",
     "text": [
      "w_train vector:\n",
      "0: [ 39.584]\n",
      "1: [-0.101]\n",
      "2: [ 0.046]\n",
      "3: [-0.003]\n",
      "4: [ 3.072]\n",
      "5: [-17.225]\n",
      "6: [ 3.711]\n",
      "7: [ 0.007]\n",
      "8: [-1.599]\n",
      "9: [ 0.374]\n",
      "10: [-0.016]\n",
      "11: [-1.024]\n",
      "12: [ 0.01]\n",
      "13: [-0.586]\n",
      " \r\n",
      "w_test vector:\n",
      "0: [ 16.494]\n",
      "1: [-0.03]\n",
      "2: [ 0.01]\n",
      "3: [-0.16]\n",
      "4: [ 1.129]\n",
      "5: [-6.583]\n",
      "6: [ 4.438]\n",
      "7: [-0.077]\n",
      "8: [-0.845]\n",
      "9: [-0.025]\n",
      "10: [ 0.005]\n",
      "11: [-0.7]\n",
      "12: [ 0.01]\n",
      "13: [-0.037]\n"
     ]
    }
   ],
   "source": [
    "## PART 2\n",
    "# Compute optimal weight vector w -- (X^T * X)^-1 (X^T * Y)\n",
    "def calc_w_vector(X, y):\n",
    "    return np.dot(inv(np.dot(X.T,X)), np.dot(X.T,y))\n",
    "    \n",
    "def alternate_calc(X, y):\n",
    "    return np.dot(np.dot(inv(X),inv(X.T)), np.dot(X.T,y))\n",
    "\n",
    "# Limit printout to 3 decimal places\n",
    "np.set_printoptions(precision=3)\n",
    "\n",
    "# Caculate w vectors\n",
    "w_train = calc_w_vector(X_train,y_train)\n",
    "w_test = calc_w_vector(X_test,y_test)\n",
    "\n",
    "# Print both weight vectors to console\n",
    "print 'w_train vector:'\n",
    "print('\\n'.join('{}: {}'.format(*k) for k in enumerate(w_train)))\n",
    "\n",
    "print ' \\r\\nw_test vector:'\n",
    "print('\\n'.join('{}: {}'.format(*k) for k in enumerate(w_test)))"
   ]
  },
  {
   "cell_type": "code",
   "execution_count": 231,
   "metadata": {
    "collapsed": false
   },
   "outputs": [
    {
     "ename": "ValueError",
     "evalue": "shapes (433,13) and (14,1) not aligned: 13 (dim 1) != 14 (dim 0)",
     "output_type": "error",
     "traceback": [
      "\u001b[0;31m---------------------------------------------------------------------------\u001b[0m",
      "\u001b[0;31mValueError\u001b[0m                                Traceback (most recent call last)",
      "\u001b[0;32m<ipython-input-231-2201d81a512c>\u001b[0m in \u001b[0;36m<module>\u001b[0;34m()\u001b[0m\n\u001b[1;32m     73\u001b[0m \u001b[1;31m# Apply learned weight vectors\u001b[0m\u001b[1;33m\u001b[0m\u001b[1;33m\u001b[0m\u001b[0m\n\u001b[1;32m     74\u001b[0m \u001b[1;31m# print 'MSE: %.2f \\r\\n' % calc_mse(X_train, target_func_train, testing_model)\u001b[0m\u001b[1;33m\u001b[0m\u001b[1;33m\u001b[0m\u001b[0m\n\u001b[0;32m---> 75\u001b[0;31m \u001b[0mtarget_func_train\u001b[0m \u001b[1;33m=\u001b[0m \u001b[0mnp\u001b[0m\u001b[1;33m.\u001b[0m\u001b[0mdot\u001b[0m\u001b[1;33m(\u001b[0m\u001b[0mX_init_train\u001b[0m\u001b[1;33m,\u001b[0m \u001b[0mw_train\u001b[0m\u001b[1;33m)\u001b[0m\u001b[1;33m\u001b[0m\u001b[0m\n\u001b[0m\u001b[1;32m     76\u001b[0m \u001b[0mtarget_func_test\u001b[0m \u001b[1;33m=\u001b[0m \u001b[0mnp\u001b[0m\u001b[1;33m.\u001b[0m\u001b[0mdot\u001b[0m\u001b[1;33m(\u001b[0m\u001b[0mX_init_test\u001b[0m\u001b[1;33m,\u001b[0m \u001b[0mw_test\u001b[0m\u001b[1;33m)\u001b[0m\u001b[1;33m\u001b[0m\u001b[0m\n\u001b[1;32m     77\u001b[0m \u001b[1;33m\u001b[0m\u001b[0m\n",
      "\u001b[0;31mValueError\u001b[0m: shapes (433,13) and (14,1) not aligned: 13 (dim 1) != 14 (dim 0)"
     ]
    }
   ],
   "source": [
    "## PART 3\n",
    "# Functions\n",
    "# def calc_sse(X, y, regr):\n",
    "#     return np.sum((regr.predict(X) - y) ** 2)\n",
    "\n",
    "# def calc_mse(X, y, regr):\n",
    "#     return np.mean((regr.predict(X) - y) ** 2)\n",
    "\n",
    "def format_data(array):\n",
    "    result, i = {}, 0\n",
    "    while i < len(array):\n",
    "        j = 0;\n",
    "        while j < len(array[i]):\n",
    "            result.setdefault(j, [])\n",
    "            result[j].append(array[i][j])\n",
    "            j += 1\n",
    "        i += 1\n",
    "    return result.values()\n",
    "\n",
    "def calc_b(X_mean, y_mean, w):\n",
    "    bs, i = [], 0\n",
    "    while i < len(w) - 1:\n",
    "        bs.append(y_mean - w[i] * X_mean[i])\n",
    "        i += 1\n",
    "    return bs\n",
    "    \n",
    "def calc_mean(array):\n",
    "    means, i = [], 0\n",
    "    while i < len(array):\n",
    "        means.append(np.mean(array[i]))\n",
    "        i += 1\n",
    "    return means\n",
    "\n",
    "def calc_sqrt_mean(array):\n",
    "    means, i = [], 0\n",
    "    while i < len(array):\n",
    "        means.append(np.mean([item * item for item in array[i]]))\n",
    "        i += 1\n",
    "    return means\n",
    "\n",
    "def calc_sse(X, y, w, b):\n",
    "    sse, i = [], 0\n",
    "    while i < len(X):\n",
    "        sum, length = 0, len(X[i])\n",
    "        for j in range(length):\n",
    "            sum += y[i] - w[i] * X[i][j] - b[i]\n",
    "        sse.append(sum[0])\n",
    "        i += 1\n",
    "    return sse\n",
    "\n",
    "X_format_train = format_data(X_init_train)\n",
    "X_train_mean = calc_mean(X_format_train)\n",
    "y_train_mean = np.mean(y_init_train)\n",
    "b_train = calc_b(X_train_mean, y_train_mean, w_train)\n",
    "sse = calc_sse(X_format_train, y_init_train, w_train, b_train)\n",
    "# Print error output, not sure about the 0 values\n",
    "print 'Training Model SSE:'\n",
    "for i in range(len(sse)):\n",
    "    print desc[i] + '-[', sse[i], ']'\n",
    "    \n",
    "print\n",
    "\n",
    "X_format_test = format_data(X_init_test)\n",
    "X_test_mean = calc_mean(X_format_test)\n",
    "y_test_mean = np.mean(y_init_test)\n",
    "b_test = calc_b(X_test_mean, y_test_mean, w_test)\n",
    "sse = calc_sse(X_format_test, y_init_test, w_test, b_test)\n",
    "# Print error output, not sure about the 0 values\n",
    "print 'Testing Model SSE:'\n",
    "for i in range(len(sse)):\n",
    "    print desc[i] + '-[', sse[i], ']'\n",
    "    \n",
    "# Apply learned weight vectors\n",
    "# print 'MSE: %.2f \\r\\n' % calc_mse(X_train, target_func_train, testing_model)\n",
    "# target_func_train = np.dot(X_train, w_train)\n",
    "# target_func_test = np.dot(X_test, w_test)\n",
    "\n",
    "# Create linear regression object\n",
    "# training_model = linear_model.LinearRegression()\n",
    "# testing_model = linear_model.LinearRegression()\n",
    "\n",
    "# Train the model using the training sets\n",
    "# training_model.fit(X_train,target_func_train)\n",
    "# testing_model.fit(X_test,target_func_test)\n",
    "\n",
    "# Print error output, not sure about the 0 values\n",
    "# print 'Training Model: \\r\\nSSE: %.2f' % calc_sse(X_train, target_func_train, training_model)\n",
    "# print 'MSE: %.2f \\r\\n' % calc_mse(X_train, target_func_train, testing_model)\n",
    "\n",
    "# print 'Testing Model: \\r\\nSSE: %.2f' % calc_sse(X_test, target_func_test, training_model)\n",
    "# print 'MSE: %.2f' % calc_mse(X_test, target_func_test, testing_model)\n",
    "\n",
    "#metrics.mean_squared_error(y_train,target_func_train)\n",
    "#metrics.mean_squared_error(y_test,target_func_test)\n"
   ]
  },
  {
   "cell_type": "code",
   "execution_count": null,
   "metadata": {
    "collapsed": false
   },
   "outputs": [],
   "source": [
    "## ATTEMPT TO EXPRESS THE OPTIMIZED SSE FORMULA\n",
    "print np.sum(np.dot(np.subtract(target_func_train_no_dummy.T, np.dot(X_train_no_dummy, w_train_no_dummy).T), np.subtract(target_func_train_no_dummy.T, np.dot(X_train_no_dummy, w_train_no_dummy))))"
   ]
  },
  {
   "cell_type": "code",
   "execution_count": null,
   "metadata": {
    "collapsed": false
   },
   "outputs": [],
   "source": [
    "## PART 4\n",
    "# Repeating part 2 and 3 without a dummy features of 1's in X\n",
    "\n",
    "# Remove dummy column from both tables\n",
    "X_train_no_dummy = X_train[:, (1,2,3,4,5,6,7,8,9,10,11,12,13)]\n",
    "X_test_no_dummy = X_test[:, (1,2,3,4,5,6,7,8,9,10,11,12,13)]\n",
    "\n",
    "# Caculate w vectors\n",
    "w_train_no_dummy = calc_w_vector(X_train_no_dummy,y_train)\n",
    "w_test_no_dummy = calc_w_vector(X_test_no_dummy,y_test)\n",
    "\n",
    "# Print both weight vectors to console\n",
    "print 'w_train_no_dummy vector:'\n",
    "print('\\n'.join('{}: {}'.format(*k) for k in enumerate(w_train_no_dummy)))\n",
    "\n",
    "print ' \\r\\nw_test_no_dummy vector:'\n",
    "print('\\n'.join('{}: {}'.format(*k) for k in enumerate(w_test_no_dummy)))"
   ]
  },
  {
   "cell_type": "markdown",
   "metadata": {},
   "source": [
    "<h3>Thoughts about results</h3>\n",
    "The above results make it seems like we our model will be centered around the orgin beacuse we did not calcuate a true b value in the w vector."
   ]
  },
  {
   "cell_type": "code",
   "execution_count": null,
   "metadata": {
    "collapsed": false
   },
   "outputs": [],
   "source": [
    "## PART 4 cont.\n",
    "# Apply learned weight vectors\n",
    "target_func_train_no_dummy = np.dot(X_train_no_dummy, w_train_no_dummy)\n",
    "target_func_test_no_dummy = np.dot(X_test_no_dummy, w_test_no_dummy)\n",
    "\n",
    "# Create linear regression object\n",
    "training_model_no_dummy = linear_model.LinearRegression()\n",
    "testing_model_no_dummy = linear_model.LinearRegression()\n",
    "\n",
    "# Train the model using the training sets\n",
    "training_model_no_dummy.fit(X_train_no_dummy,target_func_train_no_dummy)\n",
    "testing_model_no_dummy.fit(X_test_no_dummy,target_func_test_no_dummy)\n",
    "\n",
    "# Print error output, not sure about the 0 values\n",
    "print 'Training Model without Dummy: \\r\\nSSE: %.2f' % calc_sse(X_train_no_dummy, target_func_train_no_dummy, training_model_no_dummy)\n",
    "print 'MSE: %.2f \\r\\n' % calc_mse(X_train_no_dummy, target_func_train, training_model_no_dummy)\n",
    "\n",
    "print 'Testing Model without dummy: \\r\\nSSE: %.2f' % calc_sse(X_test_no_dummy, target_func_test_no_dummy, testing_model_no_dummy)\n",
    "print 'MSE: %.2f' % calc_mse(X_test_no_dummy, target_func_test_no_dummy, training_model_no_dummy)"
   ]
  },
  {
   "cell_type": "code",
   "execution_count": null,
   "metadata": {
    "collapsed": true
   },
   "outputs": [],
   "source": []
  },
  {
   "cell_type": "code",
   "execution_count": null,
   "metadata": {
    "collapsed": true
   },
   "outputs": [],
   "source": []
  },
  {
   "cell_type": "code",
   "execution_count": null,
   "metadata": {
    "collapsed": true
   },
   "outputs": [],
   "source": []
  },
  {
   "cell_type": "code",
   "execution_count": null,
   "metadata": {
    "collapsed": true
   },
   "outputs": [],
   "source": []
  },
  {
   "cell_type": "code",
   "execution_count": null,
   "metadata": {
    "collapsed": true
   },
   "outputs": [],
   "source": []
  },
  {
   "cell_type": "code",
   "execution_count": null,
   "metadata": {
    "collapsed": false
   },
   "outputs": [],
   "source": [
    "# Coefficients\n",
    "print('Coefficients: \\n' , regr.coef_)\n",
    "\n",
    "# Mean squared error\n",
    "print(\"Mean squared error: %.2f\" \n",
    "      % np.mean((regr.predict(X_test) - y_test) ** 2))\n",
    "\n",
    "# Explained variance score: 1 is perfect prediction\n",
    "print('Variance score: %.2f' % regr.score(X_test, y_test))"
   ]
  },
  {
   "cell_type": "code",
   "execution_count": null,
   "metadata": {
    "collapsed": false
   },
   "outputs": [],
   "source": [
    "print (regr.predict(X_test[:1,]) - y_test[:1,])"
   ]
  },
  {
   "cell_type": "code",
   "execution_count": null,
   "metadata": {
    "collapsed": false
   },
   "outputs": [],
   "source": [
    "print X_train[:,2]"
   ]
  },
  {
   "cell_type": "code",
   "execution_count": null,
   "metadata": {
    "collapsed": true
   },
   "outputs": [],
   "source": []
  },
  {
   "cell_type": "code",
   "execution_count": null,
   "metadata": {
    "collapsed": true
   },
   "outputs": [],
   "source": [
    "# EXTRA MATERIAL BELOW"
   ]
  },
  {
   "cell_type": "code",
   "execution_count": null,
   "metadata": {
    "collapsed": false
   },
   "outputs": [],
   "source": [
    "# Don't show scientific notation\n",
    "np.set_printoptions(suppress=True)\n",
    "\n",
    "print \"Printing X_train:\"\n",
    "print X_train"
   ]
  },
  {
   "cell_type": "code",
   "execution_count": null,
   "metadata": {
    "collapsed": false
   },
   "outputs": [],
   "source": [
    "print \"Printing y_train:\"\n",
    "print y_train"
   ]
  },
  {
   "cell_type": "code",
   "execution_count": null,
   "metadata": {
    "collapsed": false
   },
   "outputs": [],
   "source": [
    "# Plot feature 1: Crime rate by town\n",
    "plt.scatter(X_train[:, 0],y_train)"
   ]
  },
  {
   "cell_type": "code",
   "execution_count": null,
   "metadata": {
    "collapsed": false
   },
   "outputs": [],
   "source": [
    "# Plot feature 2: Residential land zoned for lots over 25,0000 sq. ft\n",
    "plt.scatter(X_train[:, 1],y_train)"
   ]
  },
  {
   "cell_type": "code",
   "execution_count": null,
   "metadata": {
    "collapsed": false
   },
   "outputs": [],
   "source": [
    "# Multiplotting feature 1 & 2\n",
    "plt.scatter(X_train[:, 0],y_train)\n",
    "plt.scatter(X_train[:, 1],y_train)"
   ]
  },
  {
   "cell_type": "code",
   "execution_count": null,
   "metadata": {
    "collapsed": false
   },
   "outputs": [],
   "source": [
    "# Plot feature 3: Proportion of non-retail business acres per town\n",
    "plt.scatter(X_train[:, 2],y_train)"
   ]
  },
  {
   "cell_type": "code",
   "execution_count": null,
   "metadata": {
    "collapsed": false
   },
   "outputs": [],
   "source": [
    "# Plot feature 4: Charles River dummy variable (= 1 if tract bounds river, 0 otherwise)\n",
    "plt.scatter(X_train[:, 3],y_train)"
   ]
  },
  {
   "cell_type": "code",
   "execution_count": null,
   "metadata": {
    "collapsed": false
   },
   "outputs": [],
   "source": [
    "# Plot feature 5: Nitric oxides concentration (parts per 10 million)\n",
    "plt.scatter(X_train[:, 4],y_train)"
   ]
  },
  {
   "cell_type": "code",
   "execution_count": null,
   "metadata": {
    "collapsed": false
   },
   "outputs": [],
   "source": [
    "# Plot feature 6: Average number fo rooms per dwelling\n",
    "plt.scatter(X_train[:, 5],y_train)"
   ]
  },
  {
   "cell_type": "code",
   "execution_count": null,
   "metadata": {
    "collapsed": false
   },
   "outputs": [],
   "source": [
    "# Plot feature 7: Porportion of owner-occupied units built prior to 1940\n",
    "plt.scatter(X_train[:, 6],y_train)"
   ]
  },
  {
   "cell_type": "code",
   "execution_count": null,
   "metadata": {
    "collapsed": false
   },
   "outputs": [],
   "source": [
    "# Plot feature 8: Weighted distances to five Boston employment centers\n",
    "plt.scatter(X_train[:, 7],y_train)"
   ]
  },
  {
   "cell_type": "code",
   "execution_count": null,
   "metadata": {
    "collapsed": false
   },
   "outputs": [],
   "source": [
    "# Plot feature 9: Index of accessability to radial highways\n",
    "plt.scatter(X_train[:, 8],y_train)"
   ]
  },
  {
   "cell_type": "code",
   "execution_count": null,
   "metadata": {
    "collapsed": false
   },
   "outputs": [],
   "source": [
    "# Plot feature 10: Full-value property-tax rate per $10,000\n",
    "plt.scatter(X_train[:, 9],y_train)"
   ]
  },
  {
   "cell_type": "code",
   "execution_count": null,
   "metadata": {
    "collapsed": false
   },
   "outputs": [],
   "source": [
    "# Plot feature 11: Pupil-teacher ratio by town\n",
    "plt.scatter(X_train[:, 10],y_train)"
   ]
  },
  {
   "cell_type": "code",
   "execution_count": null,
   "metadata": {
    "collapsed": false
   },
   "outputs": [],
   "source": [
    "# Plot feature 12: 1000(Bk - 0.63)^2 where Bk is the population fo blacks by town\n",
    "plt.scatter(X_train[:, 11],y_train)"
   ]
  },
  {
   "cell_type": "code",
   "execution_count": null,
   "metadata": {
    "collapsed": false
   },
   "outputs": [],
   "source": [
    "# Plot feature 13: % lower status of the population\n",
    "plt.scatter(X_train[:, 12],y_train)"
   ]
  }
 ],
 "metadata": {
  "kernelspec": {
   "display_name": "Python 2",
   "language": "python",
   "name": "python2"
  },
  "language_info": {
   "codemirror_mode": {
    "name": "ipython",
    "version": 2
   },
   "file_extension": ".py",
   "mimetype": "text/x-python",
   "name": "python",
   "nbconvert_exporter": "python",
   "pygments_lexer": "ipython2",
   "version": "2.7.13"
  }
 },
 "nbformat": 4,
 "nbformat_minor": 0
}
