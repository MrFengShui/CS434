{
 "cells": [
  {
   "cell_type": "code",
   "execution_count": 1,
   "metadata": {
    "collapsed": false
   },
   "outputs": [],
   "source": [
    "# Import third party libraries\n",
    "\n",
    "# Numerical library\n",
    "import numpy as np\n",
    "\n",
    "# Machine learning library\n",
    "from sklearn import linear_model\n",
    "\n",
    "# Used for matrix inversion\n",
    "from numpy.linalg import inv\n",
    "\n",
    "# Plotting library\n",
    "import matplotlib.pyplot as plt\n",
    "\n",
    "# Allows for printing inline for jupyter notebook\n",
    "%matplotlib inline "
   ]
  },
  {
   "cell_type": "code",
   "execution_count": 2,
   "metadata": {
    "collapsed": true
   },
   "outputs": [],
   "source": [
    "# Load datasets and store in ndarray\n",
    "training_data = open('C:\\Users\\whitlock\\Downloads\\housing_train.txt','r')\n",
    "X_train = np.loadtxt(training_data)\n",
    "\n",
    "testing_data = open('C:\\Users\\whitlock\\Downloads\\housing_test.txt', 'r')\n",
    "X_test = np.loadtxt(testing_data)"
   ]
  },
  {
   "cell_type": "code",
   "execution_count": 3,
   "metadata": {
    "collapsed": false
   },
   "outputs": [],
   "source": [
    "# Split off known target values\n",
    "y_train = X_train[:,13]\n",
    "y_test = X_test[:,13]\n",
    "\n",
    "# Transpose row vector to columnar\n",
    "y_train = y_train[np.newaxis].T\n",
    "y_test = y_test[np.newaxis].T"
   ]
  },
  {
   "cell_type": "code",
   "execution_count": 4,
   "metadata": {
    "collapsed": false
   },
   "outputs": [
    {
     "data": {
      "text/plain": [
       "array([[  1.00000000e+00,   6.32000000e-03,   1.80000000e+01, ...,\n",
       "          1.53000000e+01,   3.96900000e+02,   4.98000000e+00],\n",
       "       [  1.00000000e+00,   2.73100000e-02,   0.00000000e+00, ...,\n",
       "          1.78000000e+01,   3.96900000e+02,   9.14000000e+00],\n",
       "       [  1.00000000e+00,   2.72900000e-02,   0.00000000e+00, ...,\n",
       "          1.78000000e+01,   3.92830000e+02,   4.03000000e+00],\n",
       "       ..., \n",
       "       [  1.00000000e+00,   6.07600000e-02,   0.00000000e+00, ...,\n",
       "          2.10000000e+01,   3.96900000e+02,   5.64000000e+00],\n",
       "       [  1.00000000e+00,   1.09590000e-01,   0.00000000e+00, ...,\n",
       "          2.10000000e+01,   3.93450000e+02,   6.48000000e+00],\n",
       "       [  1.00000000e+00,   4.74100000e-02,   0.00000000e+00, ...,\n",
       "          2.10000000e+01,   3.96900000e+02,   7.88000000e+00]])"
      ]
     },
     "execution_count": 4,
     "metadata": {},
     "output_type": "execute_result"
    }
   ],
   "source": [
    "# Remove column 13 from X\n",
    "X_train = np.delete(X_train, 13, axis=1)\n",
    "X_test = np.delete(X_test, 13, axis=1)\n",
    "\n",
    "# Create dummy 1 values\n",
    "dummy_row = np.ones(len(X_train))\n",
    "\n",
    "# Transpose columns\n",
    "dummy_col = dummy_row[np.newaxis].T\n",
    "\n",
    "# Add dummy data to feature matrix\n",
    "np.concatenate((dummy_col, X_train), axis=1)"
   ]
  },
  {
   "cell_type": "code",
   "execution_count": 5,
   "metadata": {
    "collapsed": false
   },
   "outputs": [
    {
     "name": "stdout",
     "output_type": "stream",
     "text": [
      "Weight vector: \r\n",
      "[[ -9.79342380e-02]\n",
      " [  4.89586765e-02]\n",
      " [ -2.53928478e-02]\n",
      " [  3.45087927e+00]\n",
      " [ -3.55458931e-01]\n",
      " [  5.81653272e+00]\n",
      " [ -3.31447963e-03]\n",
      " [ -1.02050134e+00]\n",
      " [  2.26563208e-01]\n",
      " [ -1.22458785e-02]\n",
      " [ -3.88029879e-01]\n",
      " [  1.70214971e-02]\n",
      " [ -4.85012955e-01]]\n"
     ]
    }
   ],
   "source": [
    "# Compute optimal weight vector w -- (X^T * X)^-1 (X^T * Y)\n",
    "def calc_w_vector(X, Y):\n",
    "    return np.dot(inv(np.dot(X.T,X)), np.dot(X.T,Y))\n",
    "    \n",
    "w = calc_w_vector(X_train,y_train)  \n",
    "print 'Weight vector: \\r\\n',  w"
   ]
  },
  {
   "cell_type": "code",
   "execution_count": 6,
   "metadata": {
    "collapsed": false
   },
   "outputs": [],
   "source": [
    "# Apply learned weight vector to training and testing data\n",
    "\n",
    "# Create linear regression object\n",
    "training_model = linear_model.LinearRegression()\n",
    "testing_model = linear_model.LinearRegression()\n",
    "\n",
    "# Train the model using the training sets\n",
    "training_model.fit(X_train,y_train)\n",
    "testing_model.fit(X_test,y_test)\n",
    "\n",
    "\n",
    "### NEED TO IMPLEMENT PART 3\n",
    "\n",
    "\n",
    "\n",
    "# Error on transpose? Might be something with nunmpy function and ndarray object\n",
    "target_function = np.dot(X_train, w)"
   ]
  },
  {
   "cell_type": "code",
   "execution_count": 7,
   "metadata": {
    "collapsed": false
   },
   "outputs": [],
   "source": [
    "# Calculate sum of squared error (SSE)\n",
    "\n",
    "# Not working yet\n",
    "def calc_sse(X,y,w):\n",
    "    return np.dot(inv(np.subtract(y, np.dot(X,w))),np.subtract(y, np.dot(Xw)))"
   ]
  },
  {
   "cell_type": "code",
   "execution_count": 8,
   "metadata": {
    "collapsed": false
   },
   "outputs": [
    {
     "name": "stdout",
     "output_type": "stream",
     "text": [
      "[[ 29.48988464]\n",
      " [ 24.57410546]\n",
      " [ 31.48607486]\n",
      " [ 30.14068403]\n",
      " [ 29.85537138]\n",
      " [ 25.68472308]\n",
      " [ 21.42227421]\n",
      " [ 18.61447787]\n",
      " [  9.91072756]\n",
      " [ 17.83468557]\n",
      " [ 18.69557148]\n",
      " [ 20.28279994]\n",
      " [ 19.23197748]\n",
      " [ 20.88186437]\n",
      " [ 20.65413928]\n",
      " [ 20.32030445]\n",
      " [ 21.72355118]\n",
      " [ 18.21637526]\n",
      " [ 15.51019343]\n",
      " [ 18.9193267 ]\n",
      " [ 12.8896005 ]\n",
      " [ 18.79588976]\n",
      " [ 17.51866906]\n",
      " [ 14.87790842]\n",
      " [ 16.98855524]\n",
      " [ 12.25697752]\n",
      " [ 19.28141781]\n",
      " [  9.24854748]\n",
      " [ 14.67456275]\n",
      " [ 14.10322957]\n",
      " [ 22.8461997 ]\n",
      " [ 21.14412989]\n",
      " [ 22.30605616]\n",
      " [ 22.37893198]\n",
      " [ 31.34983772]\n",
      " [ 34.99919355]\n",
      " [ 28.27639509]\n",
      " [ 24.26183197]\n",
      " [ 23.90290597]\n",
      " [ 21.85983818]\n",
      " [ 20.06556143]\n",
      " [ 18.75952803]\n",
      " [ 19.91948432]\n",
      " [ 22.67338699]\n",
      " [ 27.17728553]\n",
      " [ 22.66499026]\n",
      " [ 16.37005367]\n",
      " [ 33.27325607]\n",
      " [ 25.49214639]\n",
      " [ 32.6411991 ]\n",
      " [ 22.60160682]\n",
      " [ 21.14109507]\n",
      " [ 17.7557515 ]\n",
      " [ 18.47182395]\n",
      " [ 25.05724316]\n",
      " [ 24.77954502]\n",
      " [ 25.989776  ]\n",
      " [ 28.48901849]\n",
      " [ 22.81691922]\n",
      " [ 19.95737098]\n",
      " [ 15.83835829]\n",
      " [ 19.6298428 ]\n",
      " [ 24.4706315 ]\n",
      " [ 20.12704349]\n",
      " [ 23.12313349]\n",
      " [ 22.95165033]\n",
      " [ 24.07624221]\n",
      " [ 22.51815264]\n",
      " [ 27.0246461 ]\n",
      " [ 25.57232854]\n",
      " [ 24.24942763]\n",
      " [ 24.41319143]\n",
      " [ 27.55656295]\n",
      " [ 21.01978288]\n",
      " [ 24.41862541]\n",
      " [ 31.04067196]\n",
      " [ 31.43275581]\n",
      " [ 26.32724477]\n",
      " [ 26.55171136]\n",
      " [ 27.6749549 ]\n",
      " [ 27.38274769]\n",
      " [ 25.37925446]\n",
      " [ 27.48932512]\n",
      " [ 23.06512861]\n",
      " [ 37.67410162]\n",
      " [ 36.61224249]\n",
      " [ 32.96544068]\n",
      " [ 26.08263812]\n",
      " [ 21.71028352]\n",
      " [ 18.18647082]\n",
      " [ 16.97051629]\n",
      " [ 20.86034871]\n",
      " [ 23.53392197]\n",
      " [ 20.34154707]\n",
      " [ 21.31878713]\n",
      " [ 26.56469951]\n",
      " [ 19.24571037]\n",
      " [ 19.67669565]\n",
      " [ 24.042979  ]\n",
      " [ 18.59838179]\n",
      " [ 22.45225769]\n",
      " [ 22.36218283]\n",
      " [ 18.39426124]\n",
      " [ 19.06499993]\n",
      " [ 21.1372473 ]\n",
      " [ 21.78330441]\n",
      " [ 19.84670318]\n",
      " [ 15.60185472]\n",
      " [ 19.63356154]\n",
      " [ 21.72671223]\n",
      " [ 13.27605705]\n",
      " [ 15.83282974]\n",
      " [ 21.03951942]\n",
      " [ 14.77872786]\n",
      " [ 22.20405433]\n",
      " [ 21.39766116]\n",
      " [ 21.47393607]\n",
      " [ 14.89822393]\n",
      " [ 18.0501752 ]\n",
      " [ 15.36630682]\n",
      " [  3.85077161]\n",
      " [ 16.30689436]\n",
      " [ 13.26001443]\n",
      " [  8.78527318]\n",
      " [ 12.7894033 ]\n",
      " [ 10.09222637]\n",
      " [ 15.68823831]\n",
      " [ 22.66672796]\n",
      " [ 18.39078642]\n",
      " [ 20.20979865]\n",
      " [ 17.50047067]\n",
      " [ 24.67622511]\n",
      " [ 20.7329874 ]\n",
      " [ 11.70898442]\n",
      " [ 31.76709521]\n",
      " [ 25.71334997]\n",
      " [ 27.89626544]\n",
      " [ 30.42010072]\n",
      " [ 36.42016957]\n",
      " [ 41.72582348]\n",
      " [ 44.2812239 ]\n",
      " [ 21.91571134]\n",
      " [ 21.67319586]\n",
      " [ 37.78865899]\n",
      " [ 21.08686304]\n",
      " [ 19.86704558]\n",
      " [ 27.46068501]\n",
      " [ 23.88624872]\n",
      " [ 29.61449161]\n",
      " [ 23.79692364]\n",
      " [ 27.56288289]\n",
      " [ 30.75957127]\n",
      " [ 32.99791366]\n",
      " [ 36.32533265]\n",
      " [ 26.2185429 ]\n",
      " [ 34.09093858]\n",
      " [ 30.1162029 ]\n",
      " [ 20.28921388]\n",
      " [ 23.59287355]\n",
      " [ 37.79955308]\n",
      " [ 31.22324234]\n",
      " [ 31.07520815]\n",
      " [ 29.93791148]\n",
      " [ 41.1544092 ]\n",
      " [ 34.85580457]\n",
      " [ 30.87784676]\n",
      " [ 33.45457287]\n",
      " [ 30.88122277]\n",
      " [ 31.6567325 ]\n",
      " [ 26.73873937]\n",
      " [ 37.36021982]\n",
      " [ 42.07288345]\n",
      " [ 43.54455879]\n",
      " [ 21.48943563]\n",
      " [ 23.40944551]\n",
      " [ 16.65059303]\n",
      " [ 23.42143875]\n",
      " [ 15.61681067]\n",
      " [ 22.01006842]\n",
      " [ 15.76384497]\n",
      " [ 22.03409771]\n",
      " [ 24.80499203]\n",
      " [  9.21842499]\n",
      " [ 23.7327507 ]\n",
      " [ 25.30721858]\n",
      " [ 27.68022543]\n",
      " [ 23.70024697]\n",
      " [ 29.22040597]\n",
      " [ 28.86000245]\n",
      " [ 40.34620296]\n",
      " [ 42.69011863]\n",
      " [ 39.19958094]\n",
      " [ 32.29037503]\n",
      " [ 36.66527595]\n",
      " [ 30.16645467]\n",
      " [ 22.51800139]\n",
      " [ 33.88600875]\n",
      " [ 40.61048068]\n",
      " [ 39.47451776]\n",
      " [ 31.77226758]\n",
      " [ 23.53600224]\n",
      " [ 30.43135257]\n",
      " [ 33.58667761]\n",
      " [ 27.1199564 ]\n",
      " [ 27.3520035 ]\n",
      " [ 27.03552656]\n",
      " [ 21.89822236]\n",
      " [ 22.95503898]\n",
      " [ 26.26367487]\n",
      " [ 15.32633479]\n",
      " [ 12.81101943]\n",
      " [ 20.26502391]\n",
      " [ 20.09942873]\n",
      " [ 21.92128059]\n",
      " [ 23.19865715]\n",
      " [ 20.6323676 ]\n",
      " [ 37.5362969 ]\n",
      " [ 46.09516767]\n",
      " [ 36.57258067]\n",
      " [ 37.80137663]\n",
      " [ 43.38001755]\n",
      " [ 34.84637685]\n",
      " [ 35.76454938]\n",
      " [ 25.14470578]\n",
      " [ 31.13118375]\n",
      " [ 41.97625734]\n",
      " [ 38.93168459]\n",
      " [ 25.08399591]\n",
      " [ 21.05222334]\n",
      " [ 26.63406776]\n",
      " [ 28.1675634 ]\n",
      " [ 38.36550814]\n",
      " [ 36.1301364 ]\n",
      " [ 33.27412074]\n",
      " [ 36.95606825]\n",
      " [ 35.37717436]\n",
      " [ 29.23512704]\n",
      " [ 33.15688444]\n",
      " [ 38.68924121]\n",
      " [ 32.94382553]\n",
      " [ 40.83043954]\n",
      " [ 45.40333955]\n",
      " [ 31.60033089]\n",
      " [ 25.79961056]\n",
      " [ 25.97429334]\n",
      " [ 33.83121203]\n",
      " [ 35.3853734 ]\n",
      " [ 31.83792972]\n",
      " [ 23.1976355 ]\n",
      " [ 21.54940963]\n",
      " [ 27.009177  ]\n",
      " [ 25.58813839]\n",
      " [ 16.74524337]\n",
      " [ 26.93614108]\n",
      " [ 31.18721518]\n",
      " [ 29.75867069]\n",
      " [ 27.38373513]\n",
      " [ 27.09439219]\n",
      " [ 31.8926309 ]\n",
      " [ 34.30234234]\n",
      " [ 30.32967525]\n",
      " [ 36.48818528]\n",
      " [ 32.57544056]\n",
      " [ 29.03832774]\n",
      " [ 22.78980518]\n",
      " [ 15.40479214]\n",
      " [ 26.11642277]\n",
      " [ 22.47588302]\n",
      " [ 25.27936336]\n",
      " [ 26.02882011]\n",
      " [ 19.64408415]\n",
      " [ 17.37047221]\n",
      " [ 17.87889615]\n",
      " [ 24.55541508]\n",
      " [ 21.40027403]\n",
      " [ 25.46775565]\n",
      " [ 25.32898423]\n",
      " [ 22.79145938]\n",
      " [ 18.72259745]\n",
      " [ 25.76662923]\n",
      " [ 25.69905618]\n",
      " [ 24.4847381 ]\n",
      " [ 19.8893268 ]\n",
      " [ 19.2290722 ]\n",
      " [ 23.1146783 ]\n",
      " [ 20.33346559]\n",
      " [ 18.34146999]\n",
      " [ 21.94055844]\n",
      " [ 24.13041466]\n",
      " [ 23.57126636]\n",
      " [ 21.99573654]\n",
      " [ 20.88146008]\n",
      " [ 20.19303013]\n",
      " [ 23.0567685 ]\n",
      " [ 22.01372245]\n",
      " [ 22.08903705]\n",
      " [ 31.07910801]\n",
      " [ 22.54377145]\n",
      " [ 28.37911467]\n",
      " [ 29.85390941]\n",
      " [ 16.90151223]\n",
      " [ 14.81532359]\n",
      " [ 26.25749332]\n",
      " [ 28.31880662]\n",
      " [ 25.3046058 ]\n",
      " [ 22.73327607]\n",
      " [ 22.37959028]\n",
      " [ 17.64674687]\n",
      " [ 27.4543007 ]\n",
      " [ 25.21543165]\n",
      " [ 21.13537666]\n",
      " [ 18.61202351]\n",
      " [ 22.17088861]\n",
      " [ 44.15924787]\n",
      " [  9.64184292]\n",
      " [ 13.73207662]\n",
      " [  3.80335793]\n",
      " [ 20.30762176]\n",
      " [ 33.40135988]\n",
      " [ 36.06638459]\n",
      " [ 24.09679396]\n",
      " [ 25.72465109]\n",
      " [  4.55675857]\n",
      " [ 19.14807188]\n",
      " [ 22.04174778]\n",
      " [ 17.07145061]\n",
      " [ 17.58445356]\n",
      " [ 17.21983692]\n",
      " [ 19.91294278]\n",
      " [ 13.40100606]\n",
      " [ 13.00758518]\n",
      " [  0.41275757]\n",
      " [  7.81461453]\n",
      " [  4.61558685]\n",
      " [  4.99885299]\n",
      " [  5.25907141]\n",
      " [ 13.83988515]\n",
      " [ 17.41086221]\n",
      " [ 18.26865888]\n",
      " [  9.06622013]\n",
      " [ 21.17612677]\n",
      " [ 18.36451478]\n",
      " [ 21.80284462]\n",
      " [ 20.74919666]\n",
      " [ 16.44887839]\n",
      " [  6.76691252]\n",
      " [ 11.23591894]\n",
      " [ 12.92754034]\n",
      " [ 19.20022024]\n",
      " [ 19.59423425]\n",
      " [ 12.53253905]\n",
      " [  7.24656399]\n",
      " [  8.76229588]\n",
      " [  4.2374832 ]\n",
      " [ 18.32485953]\n",
      " [ 11.46039976]\n",
      " [ -7.91451815]\n",
      " [  8.56550885]\n",
      " [ 12.8301896 ]\n",
      " [  4.32352448]\n",
      " [  4.29820335]\n",
      " [ 14.97507879]\n",
      " [ 20.8449332 ]\n",
      " [ 18.57800533]\n",
      " [ 16.27992572]\n",
      " [  9.9751483 ]\n",
      " [  9.68381416]\n",
      " [  7.5199101 ]\n",
      " [ 11.96649121]\n",
      " [ 15.35269481]\n",
      " [ 16.92617111]\n",
      " [ 18.85560494]\n",
      " [ 16.80298622]\n",
      " [ 15.24953555]\n",
      " [ 14.28746933]\n",
      " [ 14.2497762 ]\n",
      " [  8.06300601]\n",
      " [  4.42669956]\n",
      " [ 14.02392473]\n",
      " [ 14.13064897]\n",
      " [ 19.70184604]\n",
      " [ 20.65051577]\n",
      " [ 20.55487894]\n",
      " [ 11.81801844]\n",
      " [ 19.11956549]\n",
      " [ 18.57504268]\n",
      " [ 16.19705332]\n",
      " [ 21.62597829]\n",
      " [ 20.31632428]\n",
      " [ 26.37100335]\n",
      " [ 15.11237289]\n",
      " [ 15.51897194]\n",
      " [ 11.06630729]\n",
      " [ 11.19545198]\n",
      " [ 18.26535175]\n",
      " [ 20.00796094]\n",
      " [ 20.66724764]\n",
      " [ 22.09959212]\n",
      " [ 21.72673854]\n",
      " [ 24.59910771]\n",
      " [ 21.20127633]\n",
      " [ 17.25465345]\n",
      " [ 19.70340958]\n",
      " [ 21.65405597]\n",
      " [ 22.39579896]\n",
      " [ 26.82348158]\n",
      " [ 13.96123413]\n",
      " [ 14.88228904]\n",
      " [ 21.02426468]\n",
      " [  9.5460144 ]\n",
      " [ 18.92156036]\n",
      " [ 21.47640235]\n",
      " [ 22.36921645]\n",
      " [ 26.78579401]\n",
      " [ 28.89668416]\n",
      " [ 19.35204677]\n",
      " [ 18.59371852]\n",
      " [ 22.36879215]\n",
      " [ 19.31699534]\n",
      " [ 20.31119388]\n",
      " [ 20.16636283]\n",
      " [ 20.7012416 ]\n",
      " [ 16.8360027 ]\n",
      " [ 13.39487423]\n",
      " [ 19.07291694]\n",
      " [ 21.46789884]\n",
      " [ 17.76210885]\n",
      " [ 20.69335121]\n",
      " [ 25.79419909]\n",
      " [ 23.58424021]\n",
      " [ 30.30518288]\n",
      " [ 28.55535237]\n",
      " [ 23.40700982]]\n"
     ]
    }
   ],
   "source": [
    "print np.dot(X_train,w)"
   ]
  },
  {
   "cell_type": "code",
   "execution_count": null,
   "metadata": {
    "collapsed": false
   },
   "outputs": [],
   "source": [
    "\n"
   ]
  },
  {
   "cell_type": "code",
   "execution_count": null,
   "metadata": {
    "collapsed": true
   },
   "outputs": [],
   "source": [
    "# Create linear regression object\n",
    "regr = linear_model.LinearRegression()"
   ]
  },
  {
   "cell_type": "code",
   "execution_count": null,
   "metadata": {
    "collapsed": false
   },
   "outputs": [],
   "source": [
    "# Train the model using the training sets\n",
    "regr.fit(X_train,y_train)"
   ]
  },
  {
   "cell_type": "code",
   "execution_count": null,
   "metadata": {
    "collapsed": false
   },
   "outputs": [],
   "source": [
    "# Coefficients\n",
    "print('Coefficients: \\n' , regr.coef_)\n",
    "\n",
    "# Mean squared error\n",
    "print(\"Mean squared error: %.2f\" \n",
    "      % np.mean((regr.predict(X_test) - y_test) ** 2))\n",
    "\n",
    "# Explained variance score: 1 is perfect prediction\n",
    "print('Variance score: %.2f' % regr.score(X_test, y_test))"
   ]
  },
  {
   "cell_type": "code",
   "execution_count": null,
   "metadata": {
    "collapsed": false
   },
   "outputs": [],
   "source": [
    "print (regr.predict(X_test[:1,]) - y_test[:1,])"
   ]
  },
  {
   "cell_type": "code",
   "execution_count": null,
   "metadata": {
    "collapsed": false
   },
   "outputs": [],
   "source": []
  },
  {
   "cell_type": "code",
   "execution_count": null,
   "metadata": {
    "collapsed": true
   },
   "outputs": [],
   "source": []
  },
  {
   "cell_type": "code",
   "execution_count": null,
   "metadata": {
    "collapsed": true
   },
   "outputs": [],
   "source": []
  },
  {
   "cell_type": "code",
   "execution_count": null,
   "metadata": {
    "collapsed": true
   },
   "outputs": [],
   "source": []
  },
  {
   "cell_type": "code",
   "execution_count": null,
   "metadata": {
    "collapsed": true
   },
   "outputs": [],
   "source": []
  },
  {
   "cell_type": "code",
   "execution_count": null,
   "metadata": {
    "collapsed": true
   },
   "outputs": [],
   "source": [
    "# EXTRA MATERIAL BELOW"
   ]
  },
  {
   "cell_type": "code",
   "execution_count": 12,
   "metadata": {
    "collapsed": false
   },
   "outputs": [
    {
     "name": "stdout",
     "output_type": "stream",
     "text": [
      "Printing X_train:\n",
      "[[   0.00632   18.         2.31    ...,   15.3      396.9        4.98   ]\n",
      " [   0.02731    0.         7.07    ...,   17.8      396.9        9.14   ]\n",
      " [   0.02729    0.         7.07    ...,   17.8      392.83       4.03   ]\n",
      " ..., \n",
      " [   0.06076    0.        11.93    ...,   21.       396.9        5.64   ]\n",
      " [   0.10959    0.        11.93    ...,   21.       393.45       6.48   ]\n",
      " [   0.04741    0.        11.93    ...,   21.       396.9        7.88   ]]\n"
     ]
    }
   ],
   "source": [
    "# Don't show scientific notation\n",
    "np.set_printoptions(suppress=True)\n",
    "\n",
    "print \"Printing X_train:\"\n",
    "print X_train"
   ]
  },
  {
   "cell_type": "code",
   "execution_count": 13,
   "metadata": {
    "collapsed": false
   },
   "outputs": [
    {
     "name": "stdout",
     "output_type": "stream",
     "text": [
      "Printing y_train:\n",
      "[[ 24. ]\n",
      " [ 21.6]\n",
      " [ 34.7]\n",
      " [ 33.4]\n",
      " [ 36.2]\n",
      " [ 28.7]\n",
      " [ 22.9]\n",
      " [ 27.1]\n",
      " [ 16.5]\n",
      " [ 18.9]\n",
      " [ 15. ]\n",
      " [ 18.9]\n",
      " [ 21.7]\n",
      " [ 20.4]\n",
      " [ 18.2]\n",
      " [ 19.9]\n",
      " [ 23.1]\n",
      " [ 17.5]\n",
      " [ 20.2]\n",
      " [ 18.2]\n",
      " [ 13.6]\n",
      " [ 19.6]\n",
      " [ 15.2]\n",
      " [ 14.5]\n",
      " [ 15.6]\n",
      " [ 12.7]\n",
      " [ 14.5]\n",
      " [ 13.2]\n",
      " [ 13.1]\n",
      " [ 13.5]\n",
      " [ 18.9]\n",
      " [ 20. ]\n",
      " [ 21. ]\n",
      " [ 24.7]\n",
      " [ 30.8]\n",
      " [ 34.9]\n",
      " [ 26.6]\n",
      " [ 25.3]\n",
      " [ 24.7]\n",
      " [ 21.2]\n",
      " [ 19.3]\n",
      " [ 20. ]\n",
      " [ 19.7]\n",
      " [ 20.5]\n",
      " [ 25. ]\n",
      " [ 23.4]\n",
      " [ 18.9]\n",
      " [ 35.4]\n",
      " [ 24.7]\n",
      " [ 31.6]\n",
      " [ 23.3]\n",
      " [ 19.6]\n",
      " [ 18.7]\n",
      " [ 16. ]\n",
      " [ 22.2]\n",
      " [ 25. ]\n",
      " [ 33. ]\n",
      " [ 23.5]\n",
      " [ 19.4]\n",
      " [ 22. ]\n",
      " [ 17.4]\n",
      " [ 20.9]\n",
      " [ 24.2]\n",
      " [ 21.7]\n",
      " [ 22.8]\n",
      " [ 23.4]\n",
      " [ 24.1]\n",
      " [ 21.4]\n",
      " [ 23.9]\n",
      " [ 24.8]\n",
      " [ 22.9]\n",
      " [ 23.9]\n",
      " [ 26.6]\n",
      " [ 22.5]\n",
      " [ 22.2]\n",
      " [ 23.6]\n",
      " [ 28.7]\n",
      " [ 22.6]\n",
      " [ 22. ]\n",
      " [ 22.9]\n",
      " [ 25. ]\n",
      " [ 20.6]\n",
      " [ 28.4]\n",
      " [ 21.4]\n",
      " [ 38.7]\n",
      " [ 43.8]\n",
      " [ 33.2]\n",
      " [ 27.5]\n",
      " [ 20.1]\n",
      " [ 19.5]\n",
      " [ 19.5]\n",
      " [ 20.4]\n",
      " [ 19.8]\n",
      " [ 19.4]\n",
      " [ 21.7]\n",
      " [ 22.8]\n",
      " [ 18.8]\n",
      " [ 18.7]\n",
      " [ 18.5]\n",
      " [ 18.3]\n",
      " [ 21.2]\n",
      " [ 19.2]\n",
      " [ 20.4]\n",
      " [ 19.3]\n",
      " [ 22. ]\n",
      " [ 20.3]\n",
      " [ 20.5]\n",
      " [ 17.3]\n",
      " [ 18.8]\n",
      " [ 21.4]\n",
      " [ 15.7]\n",
      " [ 16.2]\n",
      " [ 18. ]\n",
      " [ 14.3]\n",
      " [ 19.2]\n",
      " [ 19.6]\n",
      " [ 17.1]\n",
      " [ 13.3]\n",
      " [ 17.8]\n",
      " [ 14. ]\n",
      " [ 14.4]\n",
      " [ 13.4]\n",
      " [ 15.6]\n",
      " [ 11.8]\n",
      " [ 13.8]\n",
      " [ 17.8]\n",
      " [ 15.4]\n",
      " [ 21.5]\n",
      " [ 19.6]\n",
      " [ 15.3]\n",
      " [ 19.4]\n",
      " [ 17. ]\n",
      " [ 15.6]\n",
      " [ 13.1]\n",
      " [ 41.3]\n",
      " [ 24.3]\n",
      " [ 23.3]\n",
      " [ 27. ]\n",
      " [ 50. ]\n",
      " [ 50. ]\n",
      " [ 50. ]\n",
      " [ 22.7]\n",
      " [ 25. ]\n",
      " [ 50. ]\n",
      " [ 19.1]\n",
      " [ 23.1]\n",
      " [ 23.6]\n",
      " [ 22.6]\n",
      " [ 29.4]\n",
      " [ 23.2]\n",
      " [ 24.6]\n",
      " [ 29.9]\n",
      " [ 37.2]\n",
      " [ 39.8]\n",
      " [ 36.2]\n",
      " [ 37.9]\n",
      " [ 32.5]\n",
      " [ 26.4]\n",
      " [ 29.6]\n",
      " [ 50. ]\n",
      " [ 32. ]\n",
      " [ 31.1]\n",
      " [ 29.1]\n",
      " [ 50. ]\n",
      " [ 33.3]\n",
      " [ 30.3]\n",
      " [ 34.6]\n",
      " [ 34.9]\n",
      " [ 32.9]\n",
      " [ 24.1]\n",
      " [ 42.3]\n",
      " [ 48.5]\n",
      " [ 50. ]\n",
      " [ 22.6]\n",
      " [ 24.4]\n",
      " [ 22.5]\n",
      " [ 24.4]\n",
      " [ 20. ]\n",
      " [ 21.7]\n",
      " [ 19.3]\n",
      " [ 22.4]\n",
      " [ 28.1]\n",
      " [ 23.7]\n",
      " [ 25. ]\n",
      " [ 23.3]\n",
      " [ 28.7]\n",
      " [ 21.5]\n",
      " [ 23. ]\n",
      " [ 30.1]\n",
      " [ 44.8]\n",
      " [ 50. ]\n",
      " [ 37.6]\n",
      " [ 31.6]\n",
      " [ 46.7]\n",
      " [ 31.5]\n",
      " [ 24.3]\n",
      " [ 31.7]\n",
      " [ 41.7]\n",
      " [ 48.3]\n",
      " [ 29. ]\n",
      " [ 24. ]\n",
      " [ 25.1]\n",
      " [ 31.5]\n",
      " [ 23.7]\n",
      " [ 23.3]\n",
      " [ 22. ]\n",
      " [ 20.1]\n",
      " [ 22.2]\n",
      " [ 23.7]\n",
      " [ 17.6]\n",
      " [ 18.5]\n",
      " [ 24.3]\n",
      " [ 20.5]\n",
      " [ 24.5]\n",
      " [ 21.9]\n",
      " [ 20.9]\n",
      " [ 44. ]\n",
      " [ 50. ]\n",
      " [ 36. ]\n",
      " [ 43.1]\n",
      " [ 48.8]\n",
      " [ 31. ]\n",
      " [ 36.5]\n",
      " [ 22.8]\n",
      " [ 30.7]\n",
      " [ 50. ]\n",
      " [ 43.5]\n",
      " [ 20.7]\n",
      " [ 21.1]\n",
      " [ 25.2]\n",
      " [ 24.4]\n",
      " [ 35.2]\n",
      " [ 32.4]\n",
      " [ 32. ]\n",
      " [ 33.2]\n",
      " [ 33.1]\n",
      " [ 29.1]\n",
      " [ 35.1]\n",
      " [ 45.4]\n",
      " [ 35.4]\n",
      " [ 46. ]\n",
      " [ 50. ]\n",
      " [ 32.2]\n",
      " [ 22.3]\n",
      " [ 24.8]\n",
      " [ 28.5]\n",
      " [ 37.3]\n",
      " [ 27.9]\n",
      " [ 23.9]\n",
      " [ 21.7]\n",
      " [ 28.6]\n",
      " [ 27.1]\n",
      " [ 20.3]\n",
      " [ 22.5]\n",
      " [ 29. ]\n",
      " [ 24.8]\n",
      " [ 22. ]\n",
      " [ 26.4]\n",
      " [ 33.1]\n",
      " [ 36.1]\n",
      " [ 28.4]\n",
      " [ 33.4]\n",
      " [ 28.2]\n",
      " [ 22.8]\n",
      " [ 20.3]\n",
      " [ 16.1]\n",
      " [ 22.1]\n",
      " [ 19.4]\n",
      " [ 21.6]\n",
      " [ 23.8]\n",
      " [ 16.2]\n",
      " [ 17.8]\n",
      " [ 19.8]\n",
      " [ 23.1]\n",
      " [ 21. ]\n",
      " [ 23.8]\n",
      " [ 23.1]\n",
      " [ 20.4]\n",
      " [ 18.5]\n",
      " [ 25. ]\n",
      " [ 24.6]\n",
      " [ 23. ]\n",
      " [ 22.2]\n",
      " [ 19.3]\n",
      " [ 22.6]\n",
      " [ 19.8]\n",
      " [ 17.1]\n",
      " [ 19.4]\n",
      " [ 22.2]\n",
      " [ 20.7]\n",
      " [ 21.1]\n",
      " [ 19.5]\n",
      " [ 18.5]\n",
      " [ 20.6]\n",
      " [ 19. ]\n",
      " [ 18.7]\n",
      " [ 32.7]\n",
      " [ 16.5]\n",
      " [ 23.9]\n",
      " [ 31.2]\n",
      " [ 17.5]\n",
      " [ 17.2]\n",
      " [ 23.1]\n",
      " [ 24.5]\n",
      " [ 26.6]\n",
      " [ 22.9]\n",
      " [ 24.1]\n",
      " [ 18.6]\n",
      " [ 30.1]\n",
      " [ 25. ]\n",
      " [ 19.9]\n",
      " [ 20.8]\n",
      " [ 16.8]\n",
      " [ 21.9]\n",
      " [ 27.5]\n",
      " [ 21.9]\n",
      " [ 23.1]\n",
      " [ 50. ]\n",
      " [ 50. ]\n",
      " [ 50. ]\n",
      " [ 50. ]\n",
      " [ 50. ]\n",
      " [ 13.8]\n",
      " [ 13.9]\n",
      " [ 13.3]\n",
      " [ 13.1]\n",
      " [ 10.2]\n",
      " [ 10.4]\n",
      " [ 10.9]\n",
      " [ 11.3]\n",
      " [ 12.3]\n",
      " [  8.8]\n",
      " [  7.2]\n",
      " [ 10.5]\n",
      " [  7.4]\n",
      " [ 10.2]\n",
      " [ 11.5]\n",
      " [ 15.1]\n",
      " [ 23.2]\n",
      " [  9.7]\n",
      " [ 13.8]\n",
      " [ 12.7]\n",
      " [ 13.1]\n",
      " [ 12.5]\n",
      " [  8.5]\n",
      " [  5. ]\n",
      " [  6.3]\n",
      " [  5.6]\n",
      " [  7.2]\n",
      " [ 12.1]\n",
      " [  8.3]\n",
      " [  8.5]\n",
      " [  5. ]\n",
      " [ 11.9]\n",
      " [ 27.9]\n",
      " [ 17.2]\n",
      " [  7. ]\n",
      " [  7.2]\n",
      " [  7.5]\n",
      " [ 10.4]\n",
      " [  8.8]\n",
      " [  8.4]\n",
      " [ 16.7]\n",
      " [ 14.2]\n",
      " [ 20.8]\n",
      " [ 13.4]\n",
      " [ 11.7]\n",
      " [  8.3]\n",
      " [  9.5]\n",
      " [ 14.5]\n",
      " [ 14.1]\n",
      " [ 16.1]\n",
      " [ 14.3]\n",
      " [ 11.7]\n",
      " [ 13.4]\n",
      " [  9.6]\n",
      " [  8.7]\n",
      " [  8.4]\n",
      " [ 12.8]\n",
      " [ 10.5]\n",
      " [ 17.1]\n",
      " [ 18.4]\n",
      " [ 15.4]\n",
      " [ 10.8]\n",
      " [ 14.1]\n",
      " [ 13. ]\n",
      " [ 13.4]\n",
      " [ 15.2]\n",
      " [ 16.1]\n",
      " [ 17.8]\n",
      " [ 14.9]\n",
      " [ 14.1]\n",
      " [ 12.7]\n",
      " [ 13.5]\n",
      " [ 14.9]\n",
      " [ 20. ]\n",
      " [ 16.4]\n",
      " [ 17.7]\n",
      " [ 19.5]\n",
      " [ 20.2]\n",
      " [ 21.4]\n",
      " [ 20.1]\n",
      " [ 19.9]\n",
      " [ 19.6]\n",
      " [ 23.2]\n",
      " [ 29.8]\n",
      " [ 13.8]\n",
      " [ 13.3]\n",
      " [ 16.7]\n",
      " [ 12. ]\n",
      " [ 14.6]\n",
      " [ 21.4]\n",
      " [ 23. ]\n",
      " [ 23.7]\n",
      " [ 25. ]\n",
      " [ 21.8]\n",
      " [ 20.6]\n",
      " [ 21.2]\n",
      " [ 19.1]\n",
      " [ 20.6]\n",
      " [ 21.8]\n",
      " [ 24.5]\n",
      " [ 23.1]\n",
      " [ 19.7]\n",
      " [ 18.3]\n",
      " [ 21.2]\n",
      " [ 17.5]\n",
      " [ 16.8]\n",
      " [ 22.4]\n",
      " [ 20.6]\n",
      " [ 23.9]\n",
      " [ 22. ]\n",
      " [ 11.9]]\n"
     ]
    }
   ],
   "source": [
    "print \"Printing y_train:\"\n",
    "print y_train"
   ]
  },
  {
   "cell_type": "code",
   "execution_count": 14,
   "metadata": {
    "collapsed": false
   },
   "outputs": [
    {
     "data": {
      "text/plain": [
       "<matplotlib.collections.PathCollection at 0xa0202e8>"
      ]
     },
     "execution_count": 14,
     "metadata": {},
     "output_type": "execute_result"
    },
    {
     "data": {
      "image/png": "[encoded data removed]",
      "text/plain": [
       "<matplotlib.figure.Figure at 0x83b7940>"
      ]
     },
     "metadata": {},
     "output_type": "display_data"
    }
   ],
   "source": [
    "# Plot feature 1: Crime rate by town\n",
    "plt.scatter(X_train[:, 0],y_train)"
   ]
  },
  {
   "cell_type": "code",
   "execution_count": 15,
   "metadata": {
    "collapsed": false
   },
   "outputs": [
    {
     "data": {
      "text/plain": [
       "<matplotlib.collections.PathCollection at 0xa1ba550>"
      ]
     },
     "execution_count": 15,
     "metadata": {},
     "output_type": "execute_result"
    },
    {
     "data": {
      "image/png": "[encoded data removed]",
      "text/plain": [
       "<matplotlib.figure.Figure at 0xa0207f0>"
      ]
     },
     "metadata": {},
     "output_type": "display_data"
    }
   ],
   "source": [
    "# Plot feature 2: Residential land zoned for lots over 25,0000 sq. ft\n",
    "plt.scatter(X_train[:, 1],y_train)"
   ]
  },
  {
   "cell_type": "code",
   "execution_count": 16,
   "metadata": {
    "collapsed": false
   },
   "outputs": [
    {
     "data": {
      "text/plain": [
       "<matplotlib.collections.PathCollection at 0xa4806a0>"
      ]
     },
     "execution_count": 16,
     "metadata": {},
     "output_type": "execute_result"
    },
    {
     "data": {
      "image/png": "[encoded data removed]",
      "text/plain": [
       "<matplotlib.figure.Figure at 0x83b7860>"
      ]
     },
     "metadata": {},
     "output_type": "display_data"
    }
   ],
   "source": [
    "# Multiplotting feature 1 & 2\n",
    "plt.scatter(X_train[:, 0],y_train)\n",
    "plt.scatter(X_train[:, 1],y_train)"
   ]
  },
  {
   "cell_type": "code",
   "execution_count": 17,
   "metadata": {
    "collapsed": false
   },
   "outputs": [
    {
     "data": {
      "text/plain": [
       "<matplotlib.collections.PathCollection at 0xa603a20>"
      ]
     },
     "execution_count": 17,
     "metadata": {},
     "output_type": "execute_result"
    },
    {
     "data": {
      "image/png": "[encoded data removed]",
      "text/plain": [
       "<matplotlib.figure.Figure at 0x84c75f8>"
      ]
     },
     "metadata": {},
     "output_type": "display_data"
    }
   ],
   "source": [
    "# Plot feature 3: Proportion of non-retail business acres per town\n",
    "plt.scatter(X_train[:, 2],y_train)"
   ]
  },
  {
   "cell_type": "code",
   "execution_count": 18,
   "metadata": {
    "collapsed": false
   },
   "outputs": [
    {
     "data": {
      "text/plain": [
       "<matplotlib.collections.PathCollection at 0xa81c2b0>"
      ]
     },
     "execution_count": 18,
     "metadata": {},
     "output_type": "execute_result"
    },
    {
     "data": {
      "image/png": "[encoded data removed]",
      "text/plain": [
       "<matplotlib.figure.Figure at 0xa663ac8>"
      ]
     },
     "metadata": {},
     "output_type": "display_data"
    }
   ],
   "source": [
    "# Plot feature 4: Charles River dummy variable (= 1 if tract bounds river, 0 otherwise)\n",
    "plt.scatter(X_train[:, 3],y_train)"
   ]
  },
  {
   "cell_type": "code",
   "execution_count": 19,
   "metadata": {
    "collapsed": false
   },
   "outputs": [
    {
     "data": {
      "text/plain": [
       "<matplotlib.collections.PathCollection at 0xaa66eb8>"
      ]
     },
     "execution_count": 19,
     "metadata": {},
     "output_type": "execute_result"
    },
    {
     "data": {
      "image/png": "[encoded data removed]",
      "text/plain": [
       "<matplotlib.figure.Figure at 0xa910358>"
      ]
     },
     "metadata": {},
     "output_type": "display_data"
    }
   ],
   "source": [
    "# Plot feature 5: Nitric oxides concentration (parts per 10 million)\n",
    "plt.scatter(X_train[:, 4],y_train)"
   ]
  },
  {
   "cell_type": "code",
   "execution_count": 20,
   "metadata": {
    "collapsed": false
   },
   "outputs": [
    {
     "data": {
      "text/plain": [
       "<matplotlib.collections.PathCollection at 0xac73668>"
      ]
     },
     "execution_count": 20,
     "metadata": {},
     "output_type": "execute_result"
    },
    {
     "data": {
      "image/png": "[encoded data removed]",
      "text/plain": [
       "<matplotlib.figure.Figure at 0xaa82908>"
      ]
     },
     "metadata": {},
     "output_type": "display_data"
    }
   ],
   "source": [
    "# Plot feature 6: Average number fo rooms per dwelling\n",
    "plt.scatter(X_train[:, 5],y_train)"
   ]
  },
  {
   "cell_type": "code",
   "execution_count": 21,
   "metadata": {
    "collapsed": false
   },
   "outputs": [
    {
     "data": {
      "text/plain": [
       "<matplotlib.collections.PathCollection at 0xae7cdd8>"
      ]
     },
     "execution_count": 21,
     "metadata": {},
     "output_type": "execute_result"
    },
    {
     "data": {
      "image/png": "[encoded data removed]",
      "text/plain": [
       "<matplotlib.figure.Figure at 0xac8d8d0>"
      ]
     },
     "metadata": {},
     "output_type": "display_data"
    }
   ],
   "source": [
    "# Plot feature 7: Porportion of owner-occupied units built prior to 1940\n",
    "plt.scatter(X_train[:, 6],y_train)"
   ]
  },
  {
   "cell_type": "code",
   "execution_count": 22,
   "metadata": {
    "collapsed": false
   },
   "outputs": [
    {
     "data": {
      "text/plain": [
       "<matplotlib.collections.PathCollection at 0xb0a5588>"
      ]
     },
     "execution_count": 22,
     "metadata": {},
     "output_type": "execute_result"
    },
    {
     "data": {
      "image/png": "[encoded data removed]",
      "text/plain": [
       "<matplotlib.figure.Figure at 0xae989e8>"
      ]
     },
     "metadata": {},
     "output_type": "display_data"
    }
   ],
   "source": [
    "# Plot feature 8: Weighted distances to five Boston employment centers\n",
    "plt.scatter(X_train[:, 7],y_train)"
   ]
  },
  {
   "cell_type": "code",
   "execution_count": 23,
   "metadata": {
    "collapsed": false
   },
   "outputs": [
    {
     "data": {
      "text/plain": [
       "<matplotlib.collections.PathCollection at 0xb26dd30>"
      ]
     },
     "execution_count": 23,
     "metadata": {},
     "output_type": "execute_result"
    },
    {
     "data": {
      "image/png": "[encoded data removed]",
      "text/plain": [
       "<matplotlib.figure.Figure at 0xb0c2c88>"
      ]
     },
     "metadata": {},
     "output_type": "display_data"
    }
   ],
   "source": [
    "# Plot feature 9: Index of accessability to radial highways\n",
    "plt.scatter(X_train[:, 8],y_train)"
   ]
  },
  {
   "cell_type": "code",
   "execution_count": 24,
   "metadata": {
    "collapsed": false
   },
   "outputs": [
    {
     "data": {
      "text/plain": [
       "<matplotlib.collections.PathCollection at 0xb4874a8>"
      ]
     },
     "execution_count": 24,
     "metadata": {},
     "output_type": "execute_result"
    },
    {
     "data": {
      "image/png": "[encoded data removed]",
      "text/plain": [
       "<matplotlib.figure.Figure at 0xb28d748>"
      ]
     },
     "metadata": {},
     "output_type": "display_data"
    }
   ],
   "source": [
    "# Plot feature 10: Full-value property-tax rate per $10,000\n",
    "plt.scatter(X_train[:, 9],y_train)"
   ]
  },
  {
   "cell_type": "code",
   "execution_count": 25,
   "metadata": {
    "collapsed": false
   },
   "outputs": [
    {
     "data": {
      "text/plain": [
       "<matplotlib.collections.PathCollection at 0xb4f6550>"
      ]
     },
     "execution_count": 25,
     "metadata": {},
     "output_type": "execute_result"
    },
    {
     "data": {
      "image/png": "[encoded data removed]",
      "text/plain": [
       "<matplotlib.figure.Figure at 0xb5564a8>"
      ]
     },
     "metadata": {},
     "output_type": "display_data"
    }
   ],
   "source": [
    "# Plot feature 11: Pupil-teacher ratio by town\n",
    "plt.scatter(X_train[:, 10],y_train)"
   ]
  },
  {
   "cell_type": "code",
   "execution_count": 26,
   "metadata": {
    "collapsed": false
   },
   "outputs": [
    {
     "data": {
      "text/plain": [
       "<matplotlib.collections.PathCollection at 0xb822978>"
      ]
     },
     "execution_count": 26,
     "metadata": {},
     "output_type": "execute_result"
    },
    {
     "data": {
      "image/png": "[encoded data removed]",
      "text/plain": [
       "<matplotlib.figure.Figure at 0xb4b26a0>"
      ]
     },
     "metadata": {},
     "output_type": "display_data"
    }
   ],
   "source": [
    "# Plot feature 12: 1000(Bk - 0.63)^2 where Bk is the population fo blacks by town\n",
    "plt.scatter(X_train[:, 11],y_train)"
   ]
  },
  {
   "cell_type": "code",
   "execution_count": 27,
   "metadata": {
    "collapsed": false
   },
   "outputs": [
    {
     "data": {
      "text/plain": [
       "<matplotlib.collections.PathCollection at 0xba41080>"
      ]
     },
     "execution_count": 27,
     "metadata": {},
     "output_type": "execute_result"
    },
    {
     "data": {
      "image/png": "[encoded data removed]",
      "text/plain": [
       "<matplotlib.figure.Figure at 0xb85e7f0>"
      ]
     },
     "metadata": {},
     "output_type": "display_data"
    }
   ],
   "source": [
    "# Plot feature 13: % lower status of the population\n",
    "plt.scatter(X_train[:, 12],y_train)"
   ]
  }
 ],
 "metadata": {
  "kernelspec": {
   "display_name": "Python 2",
   "language": "python",
   "name": "python2"
  },
  "language_info": {
   "codemirror_mode": {
    "name": "ipython",
    "version": 2
   },
   "file_extension": ".py",
   "mimetype": "text/x-python",
   "name": "python",
   "nbconvert_exporter": "python",
   "pygments_lexer": "ipython2",
   "version": "2.7.11"
  }
 },
 "nbformat": 4,
 "nbformat_minor": 0
}
